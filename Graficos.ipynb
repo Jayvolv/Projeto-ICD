{
  "nbformat": 4,
  "nbformat_minor": 0,
  "metadata": {
    "colab": {
      "name": "Graficos.ipynb",
      "provenance": []
    },
    "kernelspec": {
      "name": "python3",
      "display_name": "Python 3"
    },
    "language_info": {
      "name": "python"
    }
  },
  "cells": [
    {
      "cell_type": "code",
      "source": [
        "import pandas as pd\n",
        "import numpy as np\n",
        "import matplotlib.pyplot as plt\n",
        "import seaborn as sns\n",
        "from sklearn.cluster import KMeans"
      ],
      "metadata": {
        "id": "laH9BCEgA0BD"
      },
      "execution_count": null,
      "outputs": []
    },
    {
      "cell_type": "code",
      "source": [
        "oscar = pd.read_csv('BigML_Dataset_5f50a62c2fb31c516d000176.csv')\n",
        "oscar = oscar[['year', 'movie', 'certificate', 'duration', 'genre', 'rate', 'votes', 'metascore', 'Oscar_Best_Picture_won', 'Oscar_Best_Director_won', 'Oscar_Best_Actor_won', 'Oscar_Best_Actress_won']]\n",
        "oscar.head()"
      ],
      "metadata": {
        "id": "hPXL49aUA96A"
      },
      "execution_count": null,
      "outputs": []
    },
    {
      "cell_type": "code",
      "source": [
        "oscar = oscar.dropna()\n",
        "oscar = oscar [(oscar.year > 2000)]\n",
        "oscar.reset_index(inplace = True, drop = False)\n",
        "oscar.head()"
      ],
      "metadata": {
        "id": "awuG2xtJBKvM"
      },
      "execution_count": null,
      "outputs": []
    },
    {
      "cell_type": "code",
      "source": [
        "rotten = pd.read_csv('rotten_tomatoes_movies.csv')\n",
        "rotten = rotten[['movie_title', 'tomatometer_status', 'tomatometer_rating', 'audience_status', 'audience_rating']]\n",
        "rotten = rotten.dropna()\n",
        "rotten.rename(columns = {'movie_title':'movie'}, inplace = True)\n",
        "\n",
        "#Juntando os dataframes:\n",
        "df_final = pd.merge(oscar, rotten, how = 'inner', on = 'movie')"
      ],
      "metadata": {
        "id": "tsZylF0LBTE-"
      },
      "execution_count": null,
      "outputs": []
    },
    {
      "cell_type": "code",
      "execution_count": null,
      "metadata": {
        "colab": {
          "base_uri": "https://localhost:8080/",
          "height": 282
        },
        "id": "Gwhgg4-_At0c",
        "outputId": "b1503666-61d7-44ce-a31f-ab6d55e7f92b"
      },
      "outputs": [
        {
          "output_type": "execute_result",
          "data": {
            "text/plain": [
              "<matplotlib.axes._subplots.AxesSubplot at 0x7f3154b886d0>"
            ]
          },
          "metadata": {},
          "execution_count": 26
        },
        {
          "output_type": "display_data",
          "data": {
            "text/plain": [
              "<Figure size 432x288 with 1 Axes>"
            ],
            "image/png": "[encoded data removed]"
          },
          "metadata": {
            "needs_background": "light"
          }
        }
      ],
      "source": [
        "#Função para criar o dicionário com os gêneros e suas ocorrências:\n",
        "def str_count (str, dict):\n",
        "    dicio = dict\n",
        "\n",
        "    if ('|' in str):\n",
        "        str = str.split('|')\n",
        "\n",
        "        for i in range (len(str)):\n",
        "            if (str[i] in dicio.keys()):\n",
        "                dicio[str[i]] += 1\n",
        "        \n",
        "            else:\n",
        "                dicio[str[i]] = 1\n",
        "\n",
        "    else:\n",
        "        if (str in dicio.keys()):\n",
        "            dicio[str] += 1\n",
        "        \n",
        "        else:\n",
        "            dicio[str] = 1\n",
        "    \n",
        "    return dicio\n",
        "\n",
        "#Criando o dicionário:\n",
        "\n",
        "dicio_gen = {}\n",
        "\n",
        "for i in range(len(df_final.index)):\n",
        "    dicio_gen = str_count(df_final['genre'].iloc[i], dicio_gen)\n",
        "\n",
        "count_gen = pd.DataFrame(list(dicio_gen.items()), columns = ['genre', 'occurrence'])\n",
        "\n",
        "#Organizando:\n",
        "count_gen = count_gen.sort_values(['occurrence'], ascending = False)\n",
        "\n",
        "count_gen.rename(columns={'genre': 'gênero','occurrence':'ocorrências'}, inplace = True)\n",
        "\n",
        "count_gen[0:15].plot.barh('gênero','ocorrências')\n",
        "\n"
      ]
    },
    {
      "cell_type": "code",
      "source": [
        "def n_break (n, start, end, mod, scale_cem = True):\n",
        "    break_start = start\n",
        "    break_end = end\n",
        "\n",
        "    if scale_cem:\n",
        "        while True:\n",
        "            if (break_start <= n <= break_end):\n",
        "                return f'{break_start} - {break_end}'\n",
        "            else:\n",
        "                break_start = break_end + 1\n",
        "                break_end += mod\n",
        "    \n",
        "    else:\n",
        "        while True:\n",
        "            if (break_start <= n <= break_end):\n",
        "                return f'{break_start} - {break_end}'\n",
        "            else:\n",
        "                break_start = break_end + 0.1\n",
        "                break_end += mod"
      ],
      "metadata": {
        "id": "7CUaMPnXIrQl"
      },
      "execution_count": null,
      "outputs": []
    },
    {
      "cell_type": "code",
      "source": [
        "df_cut = df_final[df_final['tomatometer_status'] == 'Certified-Fresh']\n",
        "df_cut = df_cut[df_cut['audience_status'] == 'Upright']\n",
        "df_cut.reset_index(inplace = True, drop = False)\n",
        "for col in df_cut.columns:\n",
        "    if 'index' in col:\n",
        "        del df_cut[col]\n",
        "    elif 'level_0' in col:\n",
        "        del df_cut[col] "
      ],
      "metadata": {
        "id": "sW29JHCVSUSO"
      },
      "execution_count": null,
      "outputs": []
    },
    {
      "cell_type": "code",
      "source": [
        "aux = df_cut.reindex(columns = ['rate', 'metascore'])\n",
        "\n",
        "#Aplicando o método:\n",
        "inercia = []\n",
        "\n",
        "for i in range (1, 11):\n",
        "    kmeans = KMeans(n_clusters = i, init = 'k-means++', max_iter = 300, n_init = 10)\n",
        "    kmeans.fit(aux)\n",
        "    inercia.append(kmeans.inertia_)\n",
        "\n",
        "plt.plot(range(1, 11), inercia)\n",
        "plt.title(\"Método do Cotovelo\")\n",
        "plt.xlabel(\"Número de Clusters\")\n",
        "plt.ylabel(\"Inércia\")"
      ],
      "metadata": {
        "id": "0nJBSk6ETBEY"
      },
      "execution_count": null,
      "outputs": []
    },
    {
      "cell_type": "code",
      "source": [
        "kmeans = KMeans(n_clusters = 2, init = 'k-means++', max_iter = 300, n_init = 10)\n",
        "clusters = kmeans.fit_predict(aux)\n",
        "\n",
        "#Dataframe com o cluster:\n",
        "aux['cluster'] = clusters\n",
        "df_cut['cluster'] = clusters"
      ],
      "metadata": {
        "id": "jQADC-86SW9g"
      },
      "execution_count": null,
      "outputs": []
    },
    {
      "cell_type": "code",
      "source": [
        "#Assumindo somente os filmes do grupo B:\n",
        "df_cut = df_cut [(df_cut.cluster == 1)]\n",
        "df_cut.reset_index(inplace = True, drop = False)\n",
        "df_cut.drop([\"index\"], axis = 1, inplace = True)\n",
        "\n",
        "print(f'Número de filmes que restaram: {df_cut.shape[0]}.')"
      ],
      "metadata": {
        "id": "TxZfKEXESuK_"
      },
      "execution_count": null,
      "outputs": []
    },
    {
      "cell_type": "code",
      "source": [
        "#Plot do gráfico:\n",
        "x = aux.to_numpy()\n",
        "\n",
        "plt.scatter(\n",
        "    x[clusters == 0, 0], x[clusters == 0, 1],\n",
        "    s=50, c='cornflowerblue',\n",
        "    edgecolor='black',\n",
        "    label='Grupo A'\n",
        ")\n",
        "\n",
        "plt.scatter(\n",
        "    x[clusters == 1, 0], x[clusters == 1, 1],\n",
        "    s=50, c='mediumturquoise',\n",
        "    edgecolor='black',\n",
        "    label='Grupo B'\n",
        ")\n",
        "\n",
        "plt.scatter(\n",
        "    kmeans.cluster_centers_[:, 0], kmeans.cluster_centers_[:, 1],\n",
        "    s=200, c='darkslategrey', edgecolor='black',\n",
        "    label='Centroides'\n",
        ")\n",
        "\n",
        "plt.title(\"Notas dos Indicados\")\n",
        "plt.xlabel(\"Avaliação do IMDb\")\n",
        "plt.ylabel(\"Metascore\")\n",
        "\n",
        "plt.legend()\n",
        "plt.show()"
      ],
      "metadata": {
        "id": "ybYZL9MNUJTg"
      },
      "execution_count": null,
      "outputs": []
    },
    {
      "cell_type": "code",
      "source": [
        "#Criando o dicionário:\n",
        "dicio_gen_cut = {}\n",
        "\n",
        "for i in range(len(df_cut.index)):\n",
        "    dicio_gen_cut = str_count(df_cut['genre'].iloc[i], dicio_gen_cut)\n",
        "\n",
        "count_gen_cut = pd.DataFrame(list(dicio_gen_cut.items()), columns = ['genre', 'occurrence'])\n",
        "\n",
        "#Organizando:\n",
        "count_gen_cut = count_gen_cut.sort_values(['occurrence'], ascending = False)\n",
        "\n",
        "count_gen_cut.rename(columns={'genre': 'gênero','occurrence':'ocorrências'}, inplace = True)\n",
        "\n",
        "count_gen_cut[0:15].plot.barh('gênero','ocorrências')"
      ],
      "metadata": {
        "colab": {
          "base_uri": "https://localhost:8080/",
          "height": 282
        },
        "id": "q6cHsIjqTOVz",
        "outputId": "48547a54-c87c-4aa8-f045-6e0830f1f149"
      },
      "execution_count": null,
      "outputs": [
        {
          "output_type": "execute_result",
          "data": {
            "text/plain": [
              "<matplotlib.axes._subplots.AxesSubplot at 0x7f314d7a58d0>"
            ]
          },
          "metadata": {},
          "execution_count": 46
        },
        {
          "output_type": "display_data",
          "data": {
            "text/plain": [
              "<Figure size 432x288 with 1 Axes>"
            ],
            "image/png": "[encoded data removed]"
          },
          "metadata": {
            "needs_background": "light"
          }
        }
      ]
    },
    {
      "cell_type": "code",
      "source": [
        "df_cut_indicator = df_final [(df_final.Oscar_Best_Picture_won == 'Yes')]\n",
        "df_cut_indicator .reset_index(inplace = True, drop = False)\n",
        "df_cut_indicator.drop([\"level_0\", \"index\"], axis = 1, inplace = True)\n",
        "#print(df_cut.shape[0])\n",
        "df_cut_indicator.head()"
      ],
      "metadata": {
        "id": "E0194udTTOiD"
      },
      "execution_count": null,
      "outputs": []
    },
    {
      "cell_type": "code",
      "source": [
        "def zero_a_cem (a):\n",
        "    return round(a * 10, 1)\n",
        "\n",
        "def compare (a, b, c, d):\n",
        "    if (a > b and a > c and a > d):\n",
        "        return 'Tomatometer'\n",
        "    elif (b > a and b > c and b > d):\n",
        "        return 'Audience Rating - RT'\n",
        "    elif (c > a and c > b and c > d):\n",
        "        return 'Metascore'\n",
        "    elif (d > a and d > b and d > c):\n",
        "        return 'IMDb Rate'\n",
        "    else:\n",
        "        return 'Draw'\n",
        "\n",
        "df_cut_indicator['rate'] = df_cut_indicator['rate'].apply(zero_a_cem)\n",
        "df_cut_indicator['indicator'] = df_cut_indicator.apply(lambda x: compare(x[\"tomatometer_rating\"], x[\"audience_rating\"], x['metascore'], x['rate']), axis = 1)\n",
        "\n",
        "df_cut_indicator"
      ],
      "metadata": {
        "id": "A9pnJC3Kddc2"
      },
      "execution_count": null,
      "outputs": []
    },
    {
      "cell_type": "code",
      "source": [
        "indicator_count = df_cut_indicator .groupby(['indicator']).size()\n",
        "indicator_count = indicator_count.sort_values(ascending = False)\n",
        "\n",
        "indicator_count"
      ],
      "metadata": {
        "id": "J_VbrdJtdqe2"
      },
      "execution_count": null,
      "outputs": []
    },
    {
      "cell_type": "code",
      "source": [
        "graf = sns.scatterplot(x=df_cut_indicator['indicator'],y =df_cut_indicator['movie'])\n",
        "graf.set(ylabel = 'filme',xlabel = 'parâmetro')"
      ],
      "metadata": {
        "colab": {
          "base_uri": "https://localhost:8080/",
          "height": 297
        },
        "id": "IqASezMDpVI3",
        "outputId": "d70c4e8f-c842-4fa3-cebb-61eb1d825f18"
      },
      "execution_count": null,
      "outputs": [
        {
          "output_type": "execute_result",
          "data": {
            "text/plain": [
              "[Text(0, 0.5, 'filme'), Text(0.5, 0, 'parâmetro')]"
            ]
          },
          "metadata": {},
          "execution_count": 93
        },
        {
          "output_type": "display_data",
          "data": {
            "text/plain": [
              "<Figure size 432x288 with 1 Axes>"
            ],
            "image/png": "[encoded data removed]"
          },
          "metadata": {
            "needs_background": "light"
          }
        }
      ]
    }
  ]
}