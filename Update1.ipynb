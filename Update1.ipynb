{
 "cells": [
  {
   "cell_type": "code",
   "execution_count": 59,
   "id": "855eda4e",
   "metadata": {},
   "outputs": [],
   "source": [
    "import pandas as pd\n",
    "import numpy as np\n",
    "import matplotlib.pyplot as plt \n",
    "import seaborn as sns\n",
    "\n",
    "rt_tomatoes = pd.read_csv(r'rotten_tomatoes_movies.csv')\n",
    "#rt_tomatoes"
   ]
  },
  {
   "cell_type": "code",
   "execution_count": 60,
   "id": "ec7ab121",
   "metadata": {},
   "outputs": [],
   "source": [
    "oscar_df = pd.read_csv('BigML_Dataset_5f50a62c2fb31c516d000176.csv')\n",
    "#oscar_df"
   ]
  },
  {
   "cell_type": "code",
   "execution_count": 112,
   "id": "0b0e279e",
   "metadata": {},
   "outputs": [],
   "source": [
    "#pra ver todas as colunas \n",
    "#for col in oscar_df.columns: \n",
    "#    print(col)"
   ]
  },
  {
   "cell_type": "code",
   "execution_count": 108,
   "id": "82cb2645",
   "metadata": {},
   "outputs": [],
   "source": [
    "#dei uma diminuida no número de colunas desse df, pra focar nos que ganharam alguma coisa\n",
    "awarded = oscar_df[['year','popularity','user_reviews','critic_reviews','metascore','genre','movie','awards_wins']] \n",
    "#awarded = awarded[awarded.awards_wins !=0] #se quiser remover os filmes que não foram premiados é só remover o comentário dessa linha\n",
    "awarded = awarded.sort_values(by=['awards_wins'], ascending=False) #só pra facilitar a \n",
    "metascore = awarded.sort_values(by=['metascore'], ascending=False) #df focando no metascore\n",
    "user_review = awarded.sort_values(by=['user_reviews'], ascending=False) #df focando na analise dos usuários\n",
    "critic_review = awarded.sort_values(by=['critic_reviews'], ascending=False) #df focando na analisa da critica"
   ]
  },
  {
   "cell_type": "code",
   "execution_count": 104,
   "id": "33b2598c",
   "metadata": {},
   "outputs": [],
   "source": [
    "#os 50 filmes mais premiados\n",
    "premiados = awarded.head(50)\n",
    "#premiados"
   ]
  },
  {
   "cell_type": "code",
   "execution_count": 105,
   "id": "79f8cf9b",
   "metadata": {},
   "outputs": [],
   "source": [
    "#os 50 melhores filmes segundo os usuários\n",
    "usuarios = user_review.head(50)\n",
    "#usuarios"
   ]
  },
  {
   "cell_type": "code",
   "execution_count": 106,
   "id": "97d51cd5",
   "metadata": {},
   "outputs": [],
   "source": [
    "#os 50 melhores filmes segundo à crítica \n",
    "criticos = critic_review.head(50)\n",
    "#criticos"
   ]
  },
  {
   "cell_type": "code",
   "execution_count": 111,
   "id": "906165aa",
   "metadata": {},
   "outputs": [],
   "source": [
    "#as 50 melhores metascores\n",
    "meta = metascore.head(50)\n",
    "#meta"
   ]
  },
  {
   "cell_type": "code",
   "execution_count": 113,
   "id": "9db19989",
   "metadata": {},
   "outputs": [],
   "source": [
    "ano = oscar_df.sort_values(by=['year'])\n",
    "#ano.head(30)"
   ]
  }
 ],
 "metadata": {
  "kernelspec": {
   "display_name": "Python 3 (ipykernel)",
   "language": "python",
   "name": "python3"
  },
  "language_info": {
   "codemirror_mode": {
    "name": "ipython",
    "version": 3
   },
   "file_extension": ".py",
   "mimetype": "text/x-python",
   "name": "python",
   "nbconvert_exporter": "python",
   "pygments_lexer": "ipython3",
   "version": "3.9.12"
  },
  "widgets": {
   "application/vnd.jupyter.widget-state+json": {
    "state": {},
    "version_major": 2,
    "version_minor": 0
   }
  }
 },
 "nbformat": 4,
 "nbformat_minor": 5
}
