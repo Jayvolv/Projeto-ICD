{
 "cells": [
  {
   "cell_type": "markdown",
   "metadata": {},
   "source": [
    "# Análise - O Oscar na Última Década"
   ]
  },
  {
   "cell_type": "markdown",
   "metadata": {},
   "source": [
    "## Integrantes:\n",
    "\n",
    "### João Victor Soares Silva | Mat.: 20210027300\n",
    "### Marília Gabriela Toscano da Silva | Mat.: 20210067065\n",
    "### Matheus Victor Alves Braga Maciel | Mat.:"
   ]
  },
  {
   "cell_type": "markdown",
   "metadata": {},
   "source": [
    "# Introdução"
   ]
  },
  {
   "cell_type": "markdown",
   "metadata": {},
   "source": [
    "A motivação inicial foi observar quais as relações existentes entre as notas de avaliação de filmes no site estadunidense Rotten Tomatoes com os dados de indicados e ganhadores do Oscar, para saber se a opnião pública condizia com os resultados da academia."
   ]
  },
  {
   "cell_type": "markdown",
   "metadata": {},
   "source": [
    "## Objetivos\n",
    "\n",
    "### Objetivos Gerais\n",
    "* Encontrar quais variáveis (ano, gênero, nota da audiência, nota dos críticos, etc.) tinham maior relação com os resultados das premiações.\n",
    "\n",
    "### Objetivos Específicos\n",
    "///Falar das perguntas"
   ]
  },
  {
   "cell_type": "markdown",
   "metadata": {},
   "source": [
    "# Dados Usados\n",
    "\n",
    "Os dados utilizados foram:\n",
    "\n",
    "* Dataset do Rotten Tomatoes : Contém informações técnicas sobre os filmes avaliados no site como: título, data original de lançamento, data de lançamento em sites de streaming, tempo de duração, gênero, diretor(es), elenco, roteirista(s), estúdio de cinema e classificação indicativa.\n",
    "Além disso, inclui uma breve sinopse da obra e um consenso geral dos comentários da crítica.\n",
    "Por fim, apresenta as porcentagens de avaliações positivas da audiência e dos críticos, quantidade de avaliações de cada um e algumas variáveis próprias do site; tais como, as classificações de \"rotten\" para filmes com menos de 60% de avaliações positivas da crítica e \"fresh\" para os com mais de 60%.\n",
    "\n",
    "* Dataset do Oscar : Engloba dados de 1927 até 2020 referentes à cerimônia de premiação; como, ano e número do evento, título e ano de exibição dos filmes indicados, nomes dos artistas indicados, categorias de indicação e quais foram os vencedores."
   ]
  },
  {
   "cell_type": "markdown",
   "metadata": {},
   "source": [
    "Bibliotecas utilizadas:"
   ]
  },
  {
   "cell_type": "code",
   "execution_count": null,
   "metadata": {},
   "outputs": [],
   "source": [
    "import pandas as pd\n",
    "import numpy as np\n",
    "import matplotlib.pyplot as plt\n",
    "import seaborn as sns\n",
    "from sklearn.cluster import KMeans"
   ]
  },
  {
   "cell_type": "markdown",
   "metadata": {},
   "source": [
    "# Pré-Processamento\n",
    "\n",
    "///Limpeza dos dataframes"
   ]
  },
  {
   "cell_type": "markdown",
   "metadata": {},
   "source": [
    "# Quais as características mais frequentes entre os filmes indicados à premiação?"
   ]
  },
  {
   "cell_type": "markdown",
   "metadata": {},
   "source": [
    "# Dentre os indicados, qual o perfil dos filmes que foram melhor aceitos pelo público e pela crítica?"
   ]
  },
  {
   "cell_type": "markdown",
   "metadata": {},
   "source": [
    "# Qual o melhor parâmetro, entre os sites estudados, para determinar as chances de vitória de um filme na premiação?"
   ]
  },
  {
   "cell_type": "markdown",
   "metadata": {},
   "source": [
    "# Conclusão\n",
    "\n",
    "///Resumir as respostas, destacar sua importância, apontar limitações, trabalhos futuros e melhorias."
   ]
  }
 ],
 "metadata": {
  "language_info": {
   "name": "python"
  },
  "orig_nbformat": 4
 },
 "nbformat": 4,
 "nbformat_minor": 2
}
