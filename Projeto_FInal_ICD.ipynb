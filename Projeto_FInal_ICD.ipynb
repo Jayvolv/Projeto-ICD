{
 "cells": [
  {
   "cell_type": "markdown",
   "metadata": {},
   "source": [
    "# Análise - O Oscar na Última Década"
   ]
  },
  {
   "cell_type": "markdown",
   "metadata": {},
   "source": [
    "## Integrantes:\n",
    "\n",
    "### João Victor Soares Silva | Mat.: 20210027300\n",
    "### Marília Gabriela Toscano da Silva | Mat.: 20210067065\n",
    "### Matheus Victor Alves Braga Maciel | Mat.:"
   ]
  },
  {
   "cell_type": "markdown",
   "metadata": {},
   "source": [
    "# Introdução"
   ]
  },
  {
   "cell_type": "markdown",
   "metadata": {},
   "source": [
    "///Texto da introdução e motivação\n",
    "\n",
    "A motivação inicial foi observar quais as relações existentes entre as notas de avaliação de filmes no site estadunidense Rotten Tomatoes com os dados de indicados e ganhadores do Oscar, para saber se a opnião pública condizia com os resultados da academia."
   ]
  },
  {
   "cell_type": "markdown",
   "metadata": {},
   "source": [
    "## Objetivos\n",
    "\n",
    "### Objetivos Gerais\n",
    "* Encontrar quais variáveis (ano, gênero, duração, classificação indicativa, etc.) tinham maior relação com os resultados das premiações.\n",
    "* Entender como as avaliações do público e da crítica afetam as chances de um filme ser ganhador da premiação\n",
    "\n",
    "### Objetivos Específicos\n",
    "* Descobrir quais características mais se repetiam entre os filmes vencedores da premiação\n",
    "* Analisar quais os tipos de filme recebem melhores avaliações do público e da crítica\n",
    "* Encontrar a melhor maneira de prever as chances de vitória de um filme com base em suas avaliações e suas propriedades"
   ]
  },
  {
   "cell_type": "markdown",
   "metadata": {},
   "source": [
    "# Dados Usados"
   ]
  },
  {
   "cell_type": "markdown",
   "metadata": {},
   "source": [
    "Bibliotecas utilizadas:"
   ]
  },
  {
   "cell_type": "code",
   "execution_count": 85,
   "metadata": {},
   "outputs": [],
   "source": [
    "import pandas as pd\n",
    "import numpy as np\n",
    "import matplotlib.pyplot as plt\n",
    "import seaborn as sns\n",
    "from sklearn.cluster import KMeans"
   ]
  },
  {
   "cell_type": "markdown",
   "metadata": {},
   "source": [
    "Dataframes utilizados:\n",
    "\n",
    "* Dataset do Rotten Tomatoes : Contém informações técnicas sobre os filmes avaliados no site como: título, data original de lançamento, data de lançamento em sites de streaming, tempo de duração, gênero, diretor(es), elenco, roteirista(s), estúdio de cinema e classificação indicativa. Além disso, inclui uma breve sinopse da obra e um consenso geral dos comentários da crítica. Por fim, apresenta as porcentagens de avaliações positivas da audiência e dos críticos, quantidade de avaliações de cada um e algumas variáveis próprias do site; tais como, as classificações de \"rotten\" para filmes com menos de 60% de avaliações positivas da crítica e \"fresh\" para os com mais de 60%.\n",
    "\n",
    "* Dataset do Oscar : Engloba dados de 1927 até 2020 referentes à cerimônia de premiação; como, ano e número do evento, título e ano de exibição dos filmes indicados, nomes dos artistas indicados, categorias de indicação e quais foram os vencedores."
   ]
  },
  {
   "cell_type": "markdown",
   "metadata": {},
   "source": [
    "Agora, vamos importar os dataframes:"
   ]
  },
  {
   "cell_type": "code",
   "execution_count": 86,
   "metadata": {},
   "outputs": [
    {
     "data": {
      "text/html": [
       "<div>\n",
       "<style scoped>\n",
       "    .dataframe tbody tr th:only-of-type {\n",
       "        vertical-align: middle;\n",
       "    }\n",
       "\n",
       "    .dataframe tbody tr th {\n",
       "        vertical-align: top;\n",
       "    }\n",
       "\n",
       "    .dataframe thead th {\n",
       "        text-align: right;\n",
       "    }\n",
       "</style>\n",
       "<table border=\"1\" class=\"dataframe\">\n",
       "  <thead>\n",
       "    <tr style=\"text-align: right;\">\n",
       "      <th></th>\n",
       "      <th>year</th>\n",
       "      <th>movie</th>\n",
       "      <th>movie_id</th>\n",
       "      <th>certificate</th>\n",
       "      <th>duration</th>\n",
       "      <th>genre</th>\n",
       "      <th>rate</th>\n",
       "      <th>metascore</th>\n",
       "      <th>synopsis</th>\n",
       "      <th>votes</th>\n",
       "      <th>...</th>\n",
       "      <th>New_York_Film_Critics_Circle_nominated</th>\n",
       "      <th>New_York_Film_Critics_Circle_nominated_categories</th>\n",
       "      <th>Los_Angeles_Film_Critics_Association_won</th>\n",
       "      <th>Los_Angeles_Film_Critics_Association_won_categories</th>\n",
       "      <th>Los_Angeles_Film_Critics_Association_nominated</th>\n",
       "      <th>Los_Angeles_Film_Critics_Association_nominated_categories</th>\n",
       "      <th>release_date.year</th>\n",
       "      <th>release_date.month</th>\n",
       "      <th>release_date.day-of-month</th>\n",
       "      <th>release_date.day-of-week</th>\n",
       "    </tr>\n",
       "  </thead>\n",
       "  <tbody>\n",
       "    <tr>\n",
       "      <th>0</th>\n",
       "      <td>2001</td>\n",
       "      <td>Kate &amp; Leopold</td>\n",
       "      <td>tt0035423</td>\n",
       "      <td>PG-13</td>\n",
       "      <td>118</td>\n",
       "      <td>Comedy|Fantasy|Romance</td>\n",
       "      <td>6.4</td>\n",
       "      <td>44.0</td>\n",
       "      <td>An English Duke from 1876 is inadvertedly drag...</td>\n",
       "      <td>66660</td>\n",
       "      <td>...</td>\n",
       "      <td>0</td>\n",
       "      <td>NaN</td>\n",
       "      <td>0</td>\n",
       "      <td>NaN</td>\n",
       "      <td>0</td>\n",
       "      <td>NaN</td>\n",
       "      <td>2001.0</td>\n",
       "      <td>12.0</td>\n",
       "      <td>25.0</td>\n",
       "      <td>2.0</td>\n",
       "    </tr>\n",
       "  </tbody>\n",
       "</table>\n",
       "<p>1 rows × 119 columns</p>\n",
       "</div>"
      ],
      "text/plain": [
       "   year           movie   movie_id certificate  duration  \\\n",
       "0  2001  Kate & Leopold  tt0035423       PG-13       118   \n",
       "\n",
       "                    genre  rate  metascore  \\\n",
       "0  Comedy|Fantasy|Romance   6.4       44.0   \n",
       "\n",
       "                                            synopsis  votes  ...  \\\n",
       "0  An English Duke from 1876 is inadvertedly drag...  66660  ...   \n",
       "\n",
       "   New_York_Film_Critics_Circle_nominated  \\\n",
       "0                                       0   \n",
       "\n",
       "  New_York_Film_Critics_Circle_nominated_categories  \\\n",
       "0                                               NaN   \n",
       "\n",
       "   Los_Angeles_Film_Critics_Association_won  \\\n",
       "0                                         0   \n",
       "\n",
       "   Los_Angeles_Film_Critics_Association_won_categories  \\\n",
       "0                                                NaN     \n",
       "\n",
       "   Los_Angeles_Film_Critics_Association_nominated  \\\n",
       "0                                               0   \n",
       "\n",
       "   Los_Angeles_Film_Critics_Association_nominated_categories  \\\n",
       "0                                                NaN           \n",
       "\n",
       "   release_date.year release_date.month release_date.day-of-month  \\\n",
       "0             2001.0               12.0                      25.0   \n",
       "\n",
       "  release_date.day-of-week  \n",
       "0                      2.0  \n",
       "\n",
       "[1 rows x 119 columns]"
      ]
     },
     "execution_count": 86,
     "metadata": {},
     "output_type": "execute_result"
    }
   ],
   "source": [
    "#Dataframe dos indicados ao Oscar:\n",
    "\n",
    "oscar = pd.read_csv('BigML_Dataset_5f50a62c2fb31c516d000176.csv')\n",
    "oscar.head(1)"
   ]
  },
  {
   "cell_type": "code",
   "execution_count": 87,
   "metadata": {},
   "outputs": [
    {
     "data": {
      "text/html": [
       "<div>\n",
       "<style scoped>\n",
       "    .dataframe tbody tr th:only-of-type {\n",
       "        vertical-align: middle;\n",
       "    }\n",
       "\n",
       "    .dataframe tbody tr th {\n",
       "        vertical-align: top;\n",
       "    }\n",
       "\n",
       "    .dataframe thead th {\n",
       "        text-align: right;\n",
       "    }\n",
       "</style>\n",
       "<table border=\"1\" class=\"dataframe\">\n",
       "  <thead>\n",
       "    <tr style=\"text-align: right;\">\n",
       "      <th></th>\n",
       "      <th>rotten_tomatoes_link</th>\n",
       "      <th>movie_title</th>\n",
       "      <th>movie_info</th>\n",
       "      <th>critics_consensus</th>\n",
       "      <th>content_rating</th>\n",
       "      <th>genres</th>\n",
       "      <th>directors</th>\n",
       "      <th>authors</th>\n",
       "      <th>actors</th>\n",
       "      <th>original_release_date</th>\n",
       "      <th>...</th>\n",
       "      <th>production_company</th>\n",
       "      <th>tomatometer_status</th>\n",
       "      <th>tomatometer_rating</th>\n",
       "      <th>tomatometer_count</th>\n",
       "      <th>audience_status</th>\n",
       "      <th>audience_rating</th>\n",
       "      <th>audience_count</th>\n",
       "      <th>tomatometer_top_critics_count</th>\n",
       "      <th>tomatometer_fresh_critics_count</th>\n",
       "      <th>tomatometer_rotten_critics_count</th>\n",
       "    </tr>\n",
       "  </thead>\n",
       "  <tbody>\n",
       "    <tr>\n",
       "      <th>0</th>\n",
       "      <td>m/0814255</td>\n",
       "      <td>Percy Jackson &amp; the Olympians: The Lightning T...</td>\n",
       "      <td>Always trouble-prone, the life of teenager Per...</td>\n",
       "      <td>Though it may seem like just another Harry Pot...</td>\n",
       "      <td>PG</td>\n",
       "      <td>Action &amp; Adventure, Comedy, Drama, Science Fic...</td>\n",
       "      <td>Chris Columbus</td>\n",
       "      <td>Craig Titley, Chris Columbus, Rick Riordan</td>\n",
       "      <td>Logan Lerman, Brandon T. Jackson, Alexandra Da...</td>\n",
       "      <td>2010-02-12</td>\n",
       "      <td>...</td>\n",
       "      <td>20th Century Fox</td>\n",
       "      <td>Rotten</td>\n",
       "      <td>49.0</td>\n",
       "      <td>149.0</td>\n",
       "      <td>Spilled</td>\n",
       "      <td>53.0</td>\n",
       "      <td>254421.0</td>\n",
       "      <td>43</td>\n",
       "      <td>73</td>\n",
       "      <td>76</td>\n",
       "    </tr>\n",
       "  </tbody>\n",
       "</table>\n",
       "<p>1 rows × 22 columns</p>\n",
       "</div>"
      ],
      "text/plain": [
       "  rotten_tomatoes_link                                        movie_title  \\\n",
       "0            m/0814255  Percy Jackson & the Olympians: The Lightning T...   \n",
       "\n",
       "                                          movie_info  \\\n",
       "0  Always trouble-prone, the life of teenager Per...   \n",
       "\n",
       "                                   critics_consensus content_rating  \\\n",
       "0  Though it may seem like just another Harry Pot...             PG   \n",
       "\n",
       "                                              genres       directors  \\\n",
       "0  Action & Adventure, Comedy, Drama, Science Fic...  Chris Columbus   \n",
       "\n",
       "                                      authors  \\\n",
       "0  Craig Titley, Chris Columbus, Rick Riordan   \n",
       "\n",
       "                                              actors original_release_date  \\\n",
       "0  Logan Lerman, Brandon T. Jackson, Alexandra Da...            2010-02-12   \n",
       "\n",
       "   ... production_company  tomatometer_status tomatometer_rating  \\\n",
       "0  ...   20th Century Fox              Rotten               49.0   \n",
       "\n",
       "  tomatometer_count  audience_status  audience_rating audience_count  \\\n",
       "0             149.0          Spilled             53.0       254421.0   \n",
       "\n",
       "   tomatometer_top_critics_count  tomatometer_fresh_critics_count  \\\n",
       "0                             43                               73   \n",
       "\n",
       "   tomatometer_rotten_critics_count  \n",
       "0                                76  \n",
       "\n",
       "[1 rows x 22 columns]"
      ]
     },
     "execution_count": 87,
     "metadata": {},
     "output_type": "execute_result"
    }
   ],
   "source": [
    "#Dataframe dos filmes no site Rotten Tomatoes:\n",
    "\n",
    "rotten = pd.read_csv('rotten_tomatoes_movies.csv')\n",
    "rotten.head(1)"
   ]
  },
  {
   "cell_type": "markdown",
   "metadata": {},
   "source": [
    "# Pré-Processamento\n",
    "\n",
    "A seguir, iremos manipular os dataframes usados como base na pesquisa de forma que seja gerado um outro que contenha apenas as informações que serão relevantes para a pesquisa.\n",
    "Começando pelo dataframe 'oscar':\n",
    "\n",
    "1. O dataframe possui muitas colunas, para tornar o processamento dos dados mais ágil, iremos limpá-lo e deixar apenas as colunas que serão relevantes à pesquisa:"
   ]
  },
  {
   "cell_type": "code",
   "execution_count": 88,
   "metadata": {},
   "outputs": [
    {
     "data": {
      "text/html": [
       "<div>\n",
       "<style scoped>\n",
       "    .dataframe tbody tr th:only-of-type {\n",
       "        vertical-align: middle;\n",
       "    }\n",
       "\n",
       "    .dataframe tbody tr th {\n",
       "        vertical-align: top;\n",
       "    }\n",
       "\n",
       "    .dataframe thead th {\n",
       "        text-align: right;\n",
       "    }\n",
       "</style>\n",
       "<table border=\"1\" class=\"dataframe\">\n",
       "  <thead>\n",
       "    <tr style=\"text-align: right;\">\n",
       "      <th></th>\n",
       "      <th>year</th>\n",
       "      <th>movie</th>\n",
       "      <th>certificate</th>\n",
       "      <th>duration</th>\n",
       "      <th>genre</th>\n",
       "      <th>rate</th>\n",
       "      <th>votes</th>\n",
       "      <th>metascore</th>\n",
       "      <th>Oscar_Best_Picture_won</th>\n",
       "      <th>Oscar_Best_Director_won</th>\n",
       "      <th>Oscar_Best_Actor_won</th>\n",
       "      <th>Oscar_Best_Actress_won</th>\n",
       "    </tr>\n",
       "  </thead>\n",
       "  <tbody>\n",
       "    <tr>\n",
       "      <th>0</th>\n",
       "      <td>2001</td>\n",
       "      <td>Kate &amp; Leopold</td>\n",
       "      <td>PG-13</td>\n",
       "      <td>118</td>\n",
       "      <td>Comedy|Fantasy|Romance</td>\n",
       "      <td>6.4</td>\n",
       "      <td>66660</td>\n",
       "      <td>44.0</td>\n",
       "      <td>No</td>\n",
       "      <td>No</td>\n",
       "      <td>No</td>\n",
       "      <td>No</td>\n",
       "    </tr>\n",
       "    <tr>\n",
       "      <th>1</th>\n",
       "      <td>2000</td>\n",
       "      <td>Chicken Run</td>\n",
       "      <td>G</td>\n",
       "      <td>84</td>\n",
       "      <td>Animation|Adventure|Comedy</td>\n",
       "      <td>7.0</td>\n",
       "      <td>144475</td>\n",
       "      <td>88.0</td>\n",
       "      <td>No</td>\n",
       "      <td>No</td>\n",
       "      <td>No</td>\n",
       "      <td>No</td>\n",
       "    </tr>\n",
       "    <tr>\n",
       "      <th>2</th>\n",
       "      <td>2005</td>\n",
       "      <td>Fantastic Four</td>\n",
       "      <td>PG-13</td>\n",
       "      <td>106</td>\n",
       "      <td>Action|Adventure|Family</td>\n",
       "      <td>5.7</td>\n",
       "      <td>273203</td>\n",
       "      <td>40.0</td>\n",
       "      <td>No</td>\n",
       "      <td>No</td>\n",
       "      <td>No</td>\n",
       "      <td>No</td>\n",
       "    </tr>\n",
       "    <tr>\n",
       "      <th>3</th>\n",
       "      <td>2002</td>\n",
       "      <td>Frida</td>\n",
       "      <td>R</td>\n",
       "      <td>123</td>\n",
       "      <td>Biography|Drama|Romance</td>\n",
       "      <td>7.4</td>\n",
       "      <td>63852</td>\n",
       "      <td>61.0</td>\n",
       "      <td>No</td>\n",
       "      <td>No</td>\n",
       "      <td>No</td>\n",
       "      <td>No</td>\n",
       "    </tr>\n",
       "    <tr>\n",
       "      <th>4</th>\n",
       "      <td>2001</td>\n",
       "      <td>The Lord of the Rings: The Fellowship of the Ring</td>\n",
       "      <td>PG-13</td>\n",
       "      <td>178</td>\n",
       "      <td>Adventure|Drama|Fantasy</td>\n",
       "      <td>8.8</td>\n",
       "      <td>1286275</td>\n",
       "      <td>92.0</td>\n",
       "      <td>No</td>\n",
       "      <td>No</td>\n",
       "      <td>No</td>\n",
       "      <td>No</td>\n",
       "    </tr>\n",
       "  </tbody>\n",
       "</table>\n",
       "</div>"
      ],
      "text/plain": [
       "   year                                              movie certificate  \\\n",
       "0  2001                                     Kate & Leopold       PG-13   \n",
       "1  2000                                        Chicken Run           G   \n",
       "2  2005                                     Fantastic Four       PG-13   \n",
       "3  2002                                              Frida           R   \n",
       "4  2001  The Lord of the Rings: The Fellowship of the Ring       PG-13   \n",
       "\n",
       "   duration                       genre  rate    votes  metascore  \\\n",
       "0       118      Comedy|Fantasy|Romance   6.4    66660       44.0   \n",
       "1        84  Animation|Adventure|Comedy   7.0   144475       88.0   \n",
       "2       106     Action|Adventure|Family   5.7   273203       40.0   \n",
       "3       123     Biography|Drama|Romance   7.4    63852       61.0   \n",
       "4       178     Adventure|Drama|Fantasy   8.8  1286275       92.0   \n",
       "\n",
       "  Oscar_Best_Picture_won Oscar_Best_Director_won Oscar_Best_Actor_won  \\\n",
       "0                     No                      No                   No   \n",
       "1                     No                      No                   No   \n",
       "2                     No                      No                   No   \n",
       "3                     No                      No                   No   \n",
       "4                     No                      No                   No   \n",
       "\n",
       "  Oscar_Best_Actress_won  \n",
       "0                     No  \n",
       "1                     No  \n",
       "2                     No  \n",
       "3                     No  \n",
       "4                     No  "
      ]
     },
     "execution_count": 88,
     "metadata": {},
     "output_type": "execute_result"
    }
   ],
   "source": [
    "oscar = oscar[['year', 'movie', 'certificate', 'duration', 'genre', 'rate', 'votes', 'metascore', 'Oscar_Best_Picture_won', 'Oscar_Best_Director_won', 'Oscar_Best_Actor_won', 'Oscar_Best_Actress_won']]\n",
    "oscar.head()"
   ]
  },
  {
   "cell_type": "markdown",
   "metadata": {},
   "source": [
    "2. As linhas contendo valores nulos (NaN) foram descartadas, pois não é interessante algumas análises utilizarem uma amostra de dados maior que outras:"
   ]
  },
  {
   "cell_type": "code",
   "execution_count": 89,
   "metadata": {},
   "outputs": [],
   "source": [
    "oscar = oscar.dropna()"
   ]
  },
  {
   "cell_type": "markdown",
   "metadata": {},
   "source": [
    "3. Os filmes que concorreram à edição de 2000 foram descartados, visto que nosso corte temporal é este século:"
   ]
  },
  {
   "cell_type": "code",
   "execution_count": 90,
   "metadata": {},
   "outputs": [
    {
     "data": {
      "text/html": [
       "<div>\n",
       "<style scoped>\n",
       "    .dataframe tbody tr th:only-of-type {\n",
       "        vertical-align: middle;\n",
       "    }\n",
       "\n",
       "    .dataframe tbody tr th {\n",
       "        vertical-align: top;\n",
       "    }\n",
       "\n",
       "    .dataframe thead th {\n",
       "        text-align: right;\n",
       "    }\n",
       "</style>\n",
       "<table border=\"1\" class=\"dataframe\">\n",
       "  <thead>\n",
       "    <tr style=\"text-align: right;\">\n",
       "      <th></th>\n",
       "      <th>index</th>\n",
       "      <th>year</th>\n",
       "      <th>movie</th>\n",
       "      <th>certificate</th>\n",
       "      <th>duration</th>\n",
       "      <th>genre</th>\n",
       "      <th>rate</th>\n",
       "      <th>votes</th>\n",
       "      <th>metascore</th>\n",
       "      <th>Oscar_Best_Picture_won</th>\n",
       "      <th>Oscar_Best_Director_won</th>\n",
       "      <th>Oscar_Best_Actor_won</th>\n",
       "      <th>Oscar_Best_Actress_won</th>\n",
       "    </tr>\n",
       "  </thead>\n",
       "  <tbody>\n",
       "    <tr>\n",
       "      <th>0</th>\n",
       "      <td>0</td>\n",
       "      <td>2001</td>\n",
       "      <td>Kate &amp; Leopold</td>\n",
       "      <td>PG-13</td>\n",
       "      <td>118</td>\n",
       "      <td>Comedy|Fantasy|Romance</td>\n",
       "      <td>6.4</td>\n",
       "      <td>66660</td>\n",
       "      <td>44.0</td>\n",
       "      <td>No</td>\n",
       "      <td>No</td>\n",
       "      <td>No</td>\n",
       "      <td>No</td>\n",
       "    </tr>\n",
       "    <tr>\n",
       "      <th>1</th>\n",
       "      <td>2</td>\n",
       "      <td>2005</td>\n",
       "      <td>Fantastic Four</td>\n",
       "      <td>PG-13</td>\n",
       "      <td>106</td>\n",
       "      <td>Action|Adventure|Family</td>\n",
       "      <td>5.7</td>\n",
       "      <td>273203</td>\n",
       "      <td>40.0</td>\n",
       "      <td>No</td>\n",
       "      <td>No</td>\n",
       "      <td>No</td>\n",
       "      <td>No</td>\n",
       "    </tr>\n",
       "    <tr>\n",
       "      <th>2</th>\n",
       "      <td>3</td>\n",
       "      <td>2002</td>\n",
       "      <td>Frida</td>\n",
       "      <td>R</td>\n",
       "      <td>123</td>\n",
       "      <td>Biography|Drama|Romance</td>\n",
       "      <td>7.4</td>\n",
       "      <td>63852</td>\n",
       "      <td>61.0</td>\n",
       "      <td>No</td>\n",
       "      <td>No</td>\n",
       "      <td>No</td>\n",
       "      <td>No</td>\n",
       "    </tr>\n",
       "    <tr>\n",
       "      <th>3</th>\n",
       "      <td>4</td>\n",
       "      <td>2001</td>\n",
       "      <td>The Lord of the Rings: The Fellowship of the Ring</td>\n",
       "      <td>PG-13</td>\n",
       "      <td>178</td>\n",
       "      <td>Adventure|Drama|Fantasy</td>\n",
       "      <td>8.8</td>\n",
       "      <td>1286275</td>\n",
       "      <td>92.0</td>\n",
       "      <td>No</td>\n",
       "      <td>No</td>\n",
       "      <td>No</td>\n",
       "      <td>No</td>\n",
       "    </tr>\n",
       "    <tr>\n",
       "      <th>4</th>\n",
       "      <td>6</td>\n",
       "      <td>2002</td>\n",
       "      <td>Resident Evil</td>\n",
       "      <td>R</td>\n",
       "      <td>100</td>\n",
       "      <td>Action|Horror|Sci-Fi</td>\n",
       "      <td>6.7</td>\n",
       "      <td>204545</td>\n",
       "      <td>33.0</td>\n",
       "      <td>No</td>\n",
       "      <td>No</td>\n",
       "      <td>No</td>\n",
       "      <td>No</td>\n",
       "    </tr>\n",
       "  </tbody>\n",
       "</table>\n",
       "</div>"
      ],
      "text/plain": [
       "   index  year                                              movie certificate  \\\n",
       "0      0  2001                                     Kate & Leopold       PG-13   \n",
       "1      2  2005                                     Fantastic Four       PG-13   \n",
       "2      3  2002                                              Frida           R   \n",
       "3      4  2001  The Lord of the Rings: The Fellowship of the Ring       PG-13   \n",
       "4      6  2002                                      Resident Evil           R   \n",
       "\n",
       "   duration                    genre  rate    votes  metascore  \\\n",
       "0       118   Comedy|Fantasy|Romance   6.4    66660       44.0   \n",
       "1       106  Action|Adventure|Family   5.7   273203       40.0   \n",
       "2       123  Biography|Drama|Romance   7.4    63852       61.0   \n",
       "3       178  Adventure|Drama|Fantasy   8.8  1286275       92.0   \n",
       "4       100     Action|Horror|Sci-Fi   6.7   204545       33.0   \n",
       "\n",
       "  Oscar_Best_Picture_won Oscar_Best_Director_won Oscar_Best_Actor_won  \\\n",
       "0                     No                      No                   No   \n",
       "1                     No                      No                   No   \n",
       "2                     No                      No                   No   \n",
       "3                     No                      No                   No   \n",
       "4                     No                      No                   No   \n",
       "\n",
       "  Oscar_Best_Actress_won  \n",
       "0                     No  \n",
       "1                     No  \n",
       "2                     No  \n",
       "3                     No  \n",
       "4                     No  "
      ]
     },
     "execution_count": 90,
     "metadata": {},
     "output_type": "execute_result"
    }
   ],
   "source": [
    "oscar = oscar [(oscar.year > 2000)]\n",
    "oscar.reset_index(inplace = True, drop = False)\n",
    "oscar.head()"
   ]
  },
  {
   "cell_type": "markdown",
   "metadata": {},
   "source": [
    "Agora vamos manipular o dataframe 'rotten':\n",
    "\n",
    "1. Aqui, vamos filtrar as colunas que utilizaremos:"
   ]
  },
  {
   "cell_type": "code",
   "execution_count": 91,
   "metadata": {},
   "outputs": [
    {
     "data": {
      "text/html": [
       "<div>\n",
       "<style scoped>\n",
       "    .dataframe tbody tr th:only-of-type {\n",
       "        vertical-align: middle;\n",
       "    }\n",
       "\n",
       "    .dataframe tbody tr th {\n",
       "        vertical-align: top;\n",
       "    }\n",
       "\n",
       "    .dataframe thead th {\n",
       "        text-align: right;\n",
       "    }\n",
       "</style>\n",
       "<table border=\"1\" class=\"dataframe\">\n",
       "  <thead>\n",
       "    <tr style=\"text-align: right;\">\n",
       "      <th></th>\n",
       "      <th>movie_title</th>\n",
       "      <th>tomatometer_status</th>\n",
       "      <th>tomatometer_rating</th>\n",
       "      <th>audience_status</th>\n",
       "      <th>audience_rating</th>\n",
       "    </tr>\n",
       "  </thead>\n",
       "  <tbody>\n",
       "    <tr>\n",
       "      <th>0</th>\n",
       "      <td>Percy Jackson &amp; the Olympians: The Lightning T...</td>\n",
       "      <td>Rotten</td>\n",
       "      <td>49.0</td>\n",
       "      <td>Spilled</td>\n",
       "      <td>53.0</td>\n",
       "    </tr>\n",
       "  </tbody>\n",
       "</table>\n",
       "</div>"
      ],
      "text/plain": [
       "                                         movie_title tomatometer_status  \\\n",
       "0  Percy Jackson & the Olympians: The Lightning T...             Rotten   \n",
       "\n",
       "   tomatometer_rating audience_status  audience_rating  \n",
       "0                49.0         Spilled             53.0  "
      ]
     },
     "execution_count": 91,
     "metadata": {},
     "output_type": "execute_result"
    }
   ],
   "source": [
    "rotten = rotten[['movie_title', 'tomatometer_status', 'tomatometer_rating', 'audience_status', 'audience_rating']]\n",
    "rotten.head(1)"
   ]
  },
  {
   "cell_type": "markdown",
   "metadata": {},
   "source": [
    "2. Por fim, vamos retirar as linhas que possuem valores vazios (NaN):"
   ]
  },
  {
   "cell_type": "code",
   "execution_count": 92,
   "metadata": {},
   "outputs": [],
   "source": [
    "rotten = rotten.dropna()"
   ]
  },
  {
   "cell_type": "markdown",
   "metadata": {},
   "source": [
    "Com isso feito, agora, vamos associar os filmes de um dataframe ao outro, através dos seus nomes:"
   ]
  },
  {
   "cell_type": "code",
   "execution_count": 93,
   "metadata": {},
   "outputs": [
    {
     "data": {
      "text/html": [
       "<div>\n",
       "<style scoped>\n",
       "    .dataframe tbody tr th:only-of-type {\n",
       "        vertical-align: middle;\n",
       "    }\n",
       "\n",
       "    .dataframe tbody tr th {\n",
       "        vertical-align: top;\n",
       "    }\n",
       "\n",
       "    .dataframe thead th {\n",
       "        text-align: right;\n",
       "    }\n",
       "</style>\n",
       "<table border=\"1\" class=\"dataframe\">\n",
       "  <thead>\n",
       "    <tr style=\"text-align: right;\">\n",
       "      <th></th>\n",
       "      <th>index</th>\n",
       "      <th>year</th>\n",
       "      <th>movie</th>\n",
       "      <th>certificate</th>\n",
       "      <th>duration</th>\n",
       "      <th>genre</th>\n",
       "      <th>rate</th>\n",
       "      <th>votes</th>\n",
       "      <th>metascore</th>\n",
       "      <th>Oscar_Best_Picture_won</th>\n",
       "      <th>Oscar_Best_Director_won</th>\n",
       "      <th>Oscar_Best_Actor_won</th>\n",
       "      <th>Oscar_Best_Actress_won</th>\n",
       "      <th>tomatometer_status</th>\n",
       "      <th>tomatometer_rating</th>\n",
       "      <th>audience_status</th>\n",
       "      <th>audience_rating</th>\n",
       "    </tr>\n",
       "  </thead>\n",
       "  <tbody>\n",
       "    <tr>\n",
       "      <th>0</th>\n",
       "      <td>0</td>\n",
       "      <td>2001</td>\n",
       "      <td>Kate &amp; Leopold</td>\n",
       "      <td>PG-13</td>\n",
       "      <td>118</td>\n",
       "      <td>Comedy|Fantasy|Romance</td>\n",
       "      <td>6.4</td>\n",
       "      <td>66660</td>\n",
       "      <td>44.0</td>\n",
       "      <td>No</td>\n",
       "      <td>No</td>\n",
       "      <td>No</td>\n",
       "      <td>No</td>\n",
       "      <td>Rotten</td>\n",
       "      <td>50.0</td>\n",
       "      <td>Upright</td>\n",
       "      <td>62.0</td>\n",
       "    </tr>\n",
       "  </tbody>\n",
       "</table>\n",
       "</div>"
      ],
      "text/plain": [
       "   index  year           movie certificate  duration                   genre  \\\n",
       "0      0  2001  Kate & Leopold       PG-13       118  Comedy|Fantasy|Romance   \n",
       "\n",
       "   rate  votes  metascore Oscar_Best_Picture_won Oscar_Best_Director_won  \\\n",
       "0   6.4  66660       44.0                     No                      No   \n",
       "\n",
       "  Oscar_Best_Actor_won Oscar_Best_Actress_won tomatometer_status  \\\n",
       "0                   No                     No             Rotten   \n",
       "\n",
       "   tomatometer_rating audience_status  audience_rating  \n",
       "0                50.0         Upright             62.0  "
      ]
     },
     "execution_count": 93,
     "metadata": {},
     "output_type": "execute_result"
    }
   ],
   "source": [
    "#Renomeando a coluna de nomes para que fiquem idênticas:\n",
    "rotten.rename(columns = {'movie_title':'movie'}, inplace = True)\n",
    "\n",
    "#Juntando os dataframes:\n",
    "df_final = pd.merge(oscar, rotten, how = 'inner', on = 'movie')\n",
    "df_final.head(1)"
   ]
  },
  {
   "cell_type": "markdown",
   "metadata": {},
   "source": [
    "Para evitar distorção nos dados, vamos verificar quantos filmes foram perdidos nessa associação entre os dataframes:"
   ]
  },
  {
   "cell_type": "code",
   "execution_count": 94,
   "metadata": {},
   "outputs": [
    {
     "name": "stdout",
     "output_type": "stream",
     "text": [
      "Número de linhas do dataframe final: 1062\n",
      "Número de linhas perdidas no merge: 27\n",
      "Percentual de perda de dados: 2.54%\n"
     ]
    }
   ],
   "source": [
    "# Verificando quantas linhas foram perdidas no merge:\n",
    "print(f'Número de linhas do dataframe final: {df_final.shape[0]}')\n",
    "print(f'Número de linhas perdidas no merge: {oscar.shape[0] - df_final.shape[0]}')\n",
    "print(f'Percentual de perda de dados: {((oscar.shape[0] - df_final.shape[0]) * 100) / df_final.shape[0]:.2f}%')"
   ]
  },
  {
   "cell_type": "markdown",
   "metadata": {},
   "source": [
    "O número de filmes descartados pela associação não foi muito grande, contudo, as informações ficarão registradas para evitar dúvidas sobre distorções. Assim, acabamos nosso pré-processamento."
   ]
  },
  {
   "cell_type": "markdown",
   "metadata": {},
   "source": [
    "# Quais as características mais frequentes entre os filmes indicados à premiação?"
   ]
  },
  {
   "cell_type": "markdown",
   "metadata": {},
   "source": [
    "Para responder essa pergunta, iremos analisar nosso dataframe final e encontrar quais os dados mais comuns nas seguintes colunas:\n",
    "* 'certificate';\n",
    "* 'duration';\n",
    "* 'genre';\n",
    "* 'rate';\n",
    "* 'metascore';\n",
    "* 'tomatometer_status';\n",
    "* 'tomatometer_rating';\n",
    "* 'audience_status';\n",
    "* 'audience_rating'."
   ]
  },
  {
   "cell_type": "markdown",
   "metadata": {},
   "source": [
    "Classificação indicativa mais comum:"
   ]
  },
  {
   "cell_type": "code",
   "execution_count": 136,
   "metadata": {},
   "outputs": [
    {
     "data": {
      "text/plain": [
       "[Text(0.5, 0, 'Certificados'), Text(0, 0.5, 'Nº de ocorrências')]"
      ]
     },
     "execution_count": 136,
     "metadata": {},
     "output_type": "execute_result"
    },
    {
     "data": {
      "image/png": "[encoded data removed]",
      "text/plain": [
       "<Figure size 432x288 with 1 Axes>"
      ]
     },
     "metadata": {
      "needs_background": "light"
     },
     "output_type": "display_data"
    }
   ],
   "source": [
    "#Contando a frequência de cada classificação:\n",
    "count_cert = df_final.groupby(['certificate']).size()\n",
    "\n",
    "#Juntando classificações iguais, mas com termos distintos:\n",
    "#Unrated e Not Rated:\n",
    "count_cert['Not Rated'] += count_cert['Unrated']\n",
    "del(count_cert['Unrated'])\n",
    "\n",
    "#TV-MA e R:\n",
    "count_cert['R'] += count_cert['TV-MA']\n",
    "del(count_cert['TV-MA'])\n",
    "\n",
    "#Organizando:\n",
    "count_cert = count_cert.reindex(index = ['Not Rated', 'G', 'PG', 'PG-13', 'R'])\n",
    "\n",
    "#Visualização:\n",
    "count_cert.sort_values(ascending = False)\n",
    "\n",
    "graph_cert = sns.barplot(x = count_cert.index, y = count_cert.values)\n",
    "graph_cert.set(xlabel = 'Certificados', ylabel = 'Nº de ocorrências')"
   ]
  },
  {
   "cell_type": "markdown",
   "metadata": {},
   "source": [
    "# Dentre os indicados, qual o perfil dos filmes que foram melhor aceitos pelo público e pela crítica?"
   ]
  },
  {
   "cell_type": "markdown",
   "metadata": {},
   "source": [
    "# Qual o melhor parâmetro, entre os sites estudados, para determinar as chances de vitória de um filme nas categorias principais?"
   ]
  },
  {
   "cell_type": "markdown",
   "metadata": {},
   "source": [
    "# Conclusão\n",
    "\n",
    "///Resumir as respostas, destacar sua importância, apontar limitações, trabalhos futuros e melhorias."
   ]
  }
 ],
 "metadata": {
  "kernelspec": {
   "display_name": "Python 3.10.4 64-bit",
   "language": "python",
   "name": "python3"
  },
  "language_info": {
   "codemirror_mode": {
    "name": "ipython",
    "version": 3
   },
   "file_extension": ".py",
   "mimetype": "text/x-python",
   "name": "python",
   "nbconvert_exporter": "python",
   "pygments_lexer": "ipython3",
   "version": "3.10.4"
  },
  "orig_nbformat": 4,
  "vscode": {
   "interpreter": {
    "hash": "8394ece97d8e59aefaeb83b2e7a79c44685a263996428807df394b662ca14ead"
   }
  }
 },
 "nbformat": 4,
 "nbformat_minor": 2
}
