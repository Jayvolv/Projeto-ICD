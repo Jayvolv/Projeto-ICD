{
 "cells": [
  {
   "cell_type": "markdown",
   "metadata": {},
   "source": [
    "# Análise da Opinião Pública e Crítica da Cerimônia do Oscar neste Século"
   ]
  },
  {
   "cell_type": "markdown",
   "metadata": {},
   "source": [
    "## Integrantes:\n",
    "\n",
    "### João Victor Soares Silva | Mat.: 20210027300\n",
    "### Marília Gabriela Toscano da Silva | Mat.: 20210067065\n",
    "### Matheus Victor Alves Braga Maciel | Mat.: 20200025508"
   ]
  },
  {
   "cell_type": "markdown",
   "metadata": {},
   "source": [
    "# Introdução"
   ]
  },
  {
   "cell_type": "markdown",
   "metadata": {},
   "source": [
    "    A cerimônia do Oscar é considerada a maior premiação do cinema mundial. Com quase um século desde a sua fundação, ela conseguiu se tornar e se mantém como um dos maiores eventos do ano na cultura popular e, por esse círculo midiático que a rodeia, não é incomum nos encontrarmos com distintas opiniões acerca das nomeações e dos prêmios entregues.\n",
    "    Nesse contexto, então, o nosso grupo elaborou este trabalho para estudar as relações existentes entre as opiniões críticas e públicas em alguns dos maiores sites de avaliações de filmes atuais, com as da academia."
   ]
  },
  {
   "cell_type": "markdown",
   "metadata": {},
   "source": [
    "## Objetivos\n",
    "\n",
    "### Objetivos Gerais\n",
    "* Estudar os filmes reconhecidos pela academia neste século;\n",
    "* Explorar os datasets e encontrar correlações entre os dados dos sites de avaliações e os dados da premiação.\n",
    "\n",
    "### Objetivos Específicos\n",
    "* Traçar um perfil contendo as características mais observadas dos indicados, em distintos parâmetros;\n",
    "* Filtrar os indicados de acordo com suas recepções nos sites de avaliações estudados e traçar um perfil dos melhores. Após, comparar o perfil com o primeiro objetivo;\n",
    "* Encontrar qual o indicador mais relevante para a vitória na categoria de Melhor Filme na premiação entre os sites estudados. "
   ]
  },
  {
   "cell_type": "markdown",
   "metadata": {},
   "source": [
    "# Dados Usados"
   ]
  },
  {
   "cell_type": "markdown",
   "metadata": {},
   "source": [
    "Bibliotecas utilizadas:\n",
    "\n",
    "As seguintes bibliotecas foram utilizadas como ferramentas para explorar os dados e auxiliar na visualização durante o trabalho:\n",
    "\n",
    "* Pandas;\n",
    "* Numpy;\n",
    "* MatPlotLib;\n",
    "* Seaborn;\n",
    "* SKLearn."
   ]
  },
  {
   "cell_type": "code",
   "execution_count": 1,
   "metadata": {},
   "outputs": [],
   "source": [
    "import pandas as pd\n",
    "import numpy as np\n",
    "import matplotlib.pyplot as plt\n",
    "import seaborn as sns\n",
    "from sklearn.cluster import KMeans"
   ]
  },
  {
   "cell_type": "markdown",
   "metadata": {},
   "source": [
    "Datasets utilizados:\n",
    "\n",
    "Dataset do Oscar: Engloba dados desde 1927 sobre a premiação, com a última atualização datando 2020. A seguir, uma lista das colunas que utilizamos do dataset e o que seus dados representam:\n",
    "* year = Ano de lançamento do filme;\n",
    "* movie = Nome;\n",
    "* certificate = Classificação indicativa (padrão estadunidense);\n",
    "* duration = Tempo de duração, em minutos;\n",
    "* genre = Gêneros;\n",
    "* rate = Avaliação dos usuários do site IMDb (Internet Movie Database), de 0 a 10;\n",
    "* metascore = Avaliação dos críticos no site Metacritic, de 0 a 100;\n",
    "* Oscar_Best_Picture_won = Indica se o filme ganhou ou não a categoria de \"Melhor Filme\" na premiação, booleano;\n",
    "\n",
    "Dataset do Rotten Tomatoes: Contém informações técnicas sobre os filmes avaliados no site Rotten Tomatoes, ele possui +17 mil filmes e sua útlima atualização foi em 2020. A seguir, uma lista das colunas que utilizamos do dataset e o que elas representam:\n",
    "* movie_title: Título do filme;\n",
    "* tomatometer_status: Classificação própria do Rotten Tomatoes para os críticos, suas categorias consistem em:\n",
    "    * Rotten: quando menos de 60% das críticas ao filme são positivas.\n",
    "    * Fresh: quando ao menos 60% das críticas ao filme são positivas.\n",
    "    * Certified-Fresh: distinção especial dada aos filmes que possuem:\n",
    "        - Uma nota no Tomatometer consistente igual ou superior a 75%;\n",
    "        - Ao menos cinco críticas dos top críticos;\n",
    "        - Um mínimo de 80 críticas para filmes lançados em grande escala;\n",
    "        - Um mínimo de 40 críticas para filmes lançados de forma limitada;\n",
    "* tomatometer_rating: Nota dos críticos do site;\n",
    "* audience_status: Classificação própria do Rotten Tomatoes para os usuários, suas categorias consistem em:\n",
    "    * Spilled: quando menos de 60% das críticas ao filme possue uma avaliação mínima de 3.5/5.0 estrelas.\n",
    "    * Upright: quando ao menos 60% das críticas ao filme possue uma avaliação mínima de 3.5/5.0 estrelas;\n",
    "* audience_rating: Nota dos usuários do site."
   ]
  },
  {
   "cell_type": "markdown",
   "metadata": {},
   "source": [
    "Importando:"
   ]
  },
  {
   "cell_type": "code",
   "execution_count": 2,
   "metadata": {},
   "outputs": [
    {
     "data": {
      "text/html": [
       "<div>\n",
       "<style scoped>\n",
       "    .dataframe tbody tr th:only-of-type {\n",
       "        vertical-align: middle;\n",
       "    }\n",
       "\n",
       "    .dataframe tbody tr th {\n",
       "        vertical-align: top;\n",
       "    }\n",
       "\n",
       "    .dataframe thead th {\n",
       "        text-align: right;\n",
       "    }\n",
       "</style>\n",
       "<table border=\"1\" class=\"dataframe\">\n",
       "  <thead>\n",
       "    <tr style=\"text-align: right;\">\n",
       "      <th></th>\n",
       "      <th>year</th>\n",
       "      <th>movie</th>\n",
       "      <th>movie_id</th>\n",
       "      <th>certificate</th>\n",
       "      <th>duration</th>\n",
       "      <th>genre</th>\n",
       "      <th>rate</th>\n",
       "      <th>metascore</th>\n",
       "      <th>synopsis</th>\n",
       "      <th>votes</th>\n",
       "      <th>...</th>\n",
       "      <th>New_York_Film_Critics_Circle_nominated</th>\n",
       "      <th>New_York_Film_Critics_Circle_nominated_categories</th>\n",
       "      <th>Los_Angeles_Film_Critics_Association_won</th>\n",
       "      <th>Los_Angeles_Film_Critics_Association_won_categories</th>\n",
       "      <th>Los_Angeles_Film_Critics_Association_nominated</th>\n",
       "      <th>Los_Angeles_Film_Critics_Association_nominated_categories</th>\n",
       "      <th>release_date.year</th>\n",
       "      <th>release_date.month</th>\n",
       "      <th>release_date.day-of-month</th>\n",
       "      <th>release_date.day-of-week</th>\n",
       "    </tr>\n",
       "  </thead>\n",
       "  <tbody>\n",
       "    <tr>\n",
       "      <th>0</th>\n",
       "      <td>2001</td>\n",
       "      <td>Kate &amp; Leopold</td>\n",
       "      <td>tt0035423</td>\n",
       "      <td>PG-13</td>\n",
       "      <td>118</td>\n",
       "      <td>Comedy|Fantasy|Romance</td>\n",
       "      <td>6.4</td>\n",
       "      <td>44.0</td>\n",
       "      <td>An English Duke from 1876 is inadvertedly drag...</td>\n",
       "      <td>66660</td>\n",
       "      <td>...</td>\n",
       "      <td>0</td>\n",
       "      <td>NaN</td>\n",
       "      <td>0</td>\n",
       "      <td>NaN</td>\n",
       "      <td>0</td>\n",
       "      <td>NaN</td>\n",
       "      <td>2001.0</td>\n",
       "      <td>12.0</td>\n",
       "      <td>25.0</td>\n",
       "      <td>2.0</td>\n",
       "    </tr>\n",
       "  </tbody>\n",
       "</table>\n",
       "<p>1 rows × 119 columns</p>\n",
       "</div>"
      ],
      "text/plain": [
       "   year           movie   movie_id certificate  duration  \\\n",
       "0  2001  Kate & Leopold  tt0035423       PG-13       118   \n",
       "\n",
       "                    genre  rate  metascore  \\\n",
       "0  Comedy|Fantasy|Romance   6.4       44.0   \n",
       "\n",
       "                                            synopsis  votes  ...  \\\n",
       "0  An English Duke from 1876 is inadvertedly drag...  66660  ...   \n",
       "\n",
       "   New_York_Film_Critics_Circle_nominated  \\\n",
       "0                                       0   \n",
       "\n",
       "  New_York_Film_Critics_Circle_nominated_categories  \\\n",
       "0                                               NaN   \n",
       "\n",
       "   Los_Angeles_Film_Critics_Association_won  \\\n",
       "0                                         0   \n",
       "\n",
       "   Los_Angeles_Film_Critics_Association_won_categories  \\\n",
       "0                                                NaN     \n",
       "\n",
       "   Los_Angeles_Film_Critics_Association_nominated  \\\n",
       "0                                               0   \n",
       "\n",
       "   Los_Angeles_Film_Critics_Association_nominated_categories  \\\n",
       "0                                                NaN           \n",
       "\n",
       "   release_date.year release_date.month release_date.day-of-month  \\\n",
       "0             2001.0               12.0                      25.0   \n",
       "\n",
       "  release_date.day-of-week  \n",
       "0                      2.0  \n",
       "\n",
       "[1 rows x 119 columns]"
      ]
     },
     "execution_count": 2,
     "metadata": {},
     "output_type": "execute_result"
    }
   ],
   "source": [
    "#Dataframe dos indicados ao Oscar:\n",
    "\n",
    "oscar = pd.read_csv('BigML_Dataset_5f50a62c2fb31c516d000176.csv')\n",
    "oscar.head(1)"
   ]
  },
  {
   "cell_type": "code",
   "execution_count": 3,
   "metadata": {},
   "outputs": [
    {
     "data": {
      "text/html": [
       "<div>\n",
       "<style scoped>\n",
       "    .dataframe tbody tr th:only-of-type {\n",
       "        vertical-align: middle;\n",
       "    }\n",
       "\n",
       "    .dataframe tbody tr th {\n",
       "        vertical-align: top;\n",
       "    }\n",
       "\n",
       "    .dataframe thead th {\n",
       "        text-align: right;\n",
       "    }\n",
       "</style>\n",
       "<table border=\"1\" class=\"dataframe\">\n",
       "  <thead>\n",
       "    <tr style=\"text-align: right;\">\n",
       "      <th></th>\n",
       "      <th>rotten_tomatoes_link</th>\n",
       "      <th>movie_title</th>\n",
       "      <th>movie_info</th>\n",
       "      <th>critics_consensus</th>\n",
       "      <th>content_rating</th>\n",
       "      <th>genres</th>\n",
       "      <th>directors</th>\n",
       "      <th>authors</th>\n",
       "      <th>actors</th>\n",
       "      <th>original_release_date</th>\n",
       "      <th>...</th>\n",
       "      <th>production_company</th>\n",
       "      <th>tomatometer_status</th>\n",
       "      <th>tomatometer_rating</th>\n",
       "      <th>tomatometer_count</th>\n",
       "      <th>audience_status</th>\n",
       "      <th>audience_rating</th>\n",
       "      <th>audience_count</th>\n",
       "      <th>tomatometer_top_critics_count</th>\n",
       "      <th>tomatometer_fresh_critics_count</th>\n",
       "      <th>tomatometer_rotten_critics_count</th>\n",
       "    </tr>\n",
       "  </thead>\n",
       "  <tbody>\n",
       "    <tr>\n",
       "      <th>0</th>\n",
       "      <td>m/0814255</td>\n",
       "      <td>Percy Jackson &amp; the Olympians: The Lightning T...</td>\n",
       "      <td>Always trouble-prone, the life of teenager Per...</td>\n",
       "      <td>Though it may seem like just another Harry Pot...</td>\n",
       "      <td>PG</td>\n",
       "      <td>Action &amp; Adventure, Comedy, Drama, Science Fic...</td>\n",
       "      <td>Chris Columbus</td>\n",
       "      <td>Craig Titley, Chris Columbus, Rick Riordan</td>\n",
       "      <td>Logan Lerman, Brandon T. Jackson, Alexandra Da...</td>\n",
       "      <td>2010-02-12</td>\n",
       "      <td>...</td>\n",
       "      <td>20th Century Fox</td>\n",
       "      <td>Rotten</td>\n",
       "      <td>49.0</td>\n",
       "      <td>149.0</td>\n",
       "      <td>Spilled</td>\n",
       "      <td>53.0</td>\n",
       "      <td>254421.0</td>\n",
       "      <td>43</td>\n",
       "      <td>73</td>\n",
       "      <td>76</td>\n",
       "    </tr>\n",
       "  </tbody>\n",
       "</table>\n",
       "<p>1 rows × 22 columns</p>\n",
       "</div>"
      ],
      "text/plain": [
       "  rotten_tomatoes_link                                        movie_title  \\\n",
       "0            m/0814255  Percy Jackson & the Olympians: The Lightning T...   \n",
       "\n",
       "                                          movie_info  \\\n",
       "0  Always trouble-prone, the life of teenager Per...   \n",
       "\n",
       "                                   critics_consensus content_rating  \\\n",
       "0  Though it may seem like just another Harry Pot...             PG   \n",
       "\n",
       "                                              genres       directors  \\\n",
       "0  Action & Adventure, Comedy, Drama, Science Fic...  Chris Columbus   \n",
       "\n",
       "                                      authors  \\\n",
       "0  Craig Titley, Chris Columbus, Rick Riordan   \n",
       "\n",
       "                                              actors original_release_date  \\\n",
       "0  Logan Lerman, Brandon T. Jackson, Alexandra Da...            2010-02-12   \n",
       "\n",
       "   ... production_company  tomatometer_status tomatometer_rating  \\\n",
       "0  ...   20th Century Fox              Rotten               49.0   \n",
       "\n",
       "  tomatometer_count  audience_status  audience_rating audience_count  \\\n",
       "0             149.0          Spilled             53.0       254421.0   \n",
       "\n",
       "   tomatometer_top_critics_count  tomatometer_fresh_critics_count  \\\n",
       "0                             43                               73   \n",
       "\n",
       "   tomatometer_rotten_critics_count  \n",
       "0                                76  \n",
       "\n",
       "[1 rows x 22 columns]"
      ]
     },
     "execution_count": 3,
     "metadata": {},
     "output_type": "execute_result"
    }
   ],
   "source": [
    "#Dataframe dos filmes no site Rotten Tomatoes:\n",
    "\n",
    "rotten = pd.read_csv('rotten_tomatoes_movies.csv')\n",
    "rotten.head(1)"
   ]
  },
  {
   "cell_type": "markdown",
   "metadata": {},
   "source": [
    "# Pré-Processamento\n",
    "\n",
    "A seguir, iremos manipular os dataframes usados como base na pesquisa de forma que seja gerado um outro que contenha apenas as informações que serão relevantes para a nossa abordagem.\n",
    "Começando pelo dataframe 'oscar':\n",
    "\n",
    "* O dataframe possui muitas colunas, para tornar o processamento dos dados mais ágil, iremos deixar apenas as colunas que serão relevantes à pesquisa:"
   ]
  },
  {
   "cell_type": "code",
   "execution_count": 4,
   "metadata": {},
   "outputs": [
    {
     "data": {
      "text/html": [
       "<div>\n",
       "<style scoped>\n",
       "    .dataframe tbody tr th:only-of-type {\n",
       "        vertical-align: middle;\n",
       "    }\n",
       "\n",
       "    .dataframe tbody tr th {\n",
       "        vertical-align: top;\n",
       "    }\n",
       "\n",
       "    .dataframe thead th {\n",
       "        text-align: right;\n",
       "    }\n",
       "</style>\n",
       "<table border=\"1\" class=\"dataframe\">\n",
       "  <thead>\n",
       "    <tr style=\"text-align: right;\">\n",
       "      <th></th>\n",
       "      <th>year</th>\n",
       "      <th>movie</th>\n",
       "      <th>certificate</th>\n",
       "      <th>duration</th>\n",
       "      <th>genre</th>\n",
       "      <th>rate</th>\n",
       "      <th>metascore</th>\n",
       "      <th>Oscar_Best_Picture_won</th>\n",
       "    </tr>\n",
       "  </thead>\n",
       "  <tbody>\n",
       "    <tr>\n",
       "      <th>0</th>\n",
       "      <td>2001</td>\n",
       "      <td>Kate &amp; Leopold</td>\n",
       "      <td>PG-13</td>\n",
       "      <td>118</td>\n",
       "      <td>Comedy|Fantasy|Romance</td>\n",
       "      <td>6.4</td>\n",
       "      <td>44.0</td>\n",
       "      <td>No</td>\n",
       "    </tr>\n",
       "  </tbody>\n",
       "</table>\n",
       "</div>"
      ],
      "text/plain": [
       "   year           movie certificate  duration                   genre  rate  \\\n",
       "0  2001  Kate & Leopold       PG-13       118  Comedy|Fantasy|Romance   6.4   \n",
       "\n",
       "   metascore Oscar_Best_Picture_won  \n",
       "0       44.0                     No  "
      ]
     },
     "execution_count": 4,
     "metadata": {},
     "output_type": "execute_result"
    }
   ],
   "source": [
    "oscar = oscar[['year', 'movie', 'certificate', 'duration', 'genre', 'rate', 'metascore', 'Oscar_Best_Picture_won']]\n",
    "oscar.head(1)"
   ]
  },
  {
   "cell_type": "markdown",
   "metadata": {},
   "source": [
    "* As linhas contendo valores nulos (NaN) foram descartadas, pois não é interessante algumas análises utilizarem uma amostra de dados maior que outras:"
   ]
  },
  {
   "cell_type": "code",
   "execution_count": 5,
   "metadata": {},
   "outputs": [],
   "source": [
    "oscar = oscar.dropna()"
   ]
  },
  {
   "cell_type": "markdown",
   "metadata": {},
   "source": [
    "* Os filmes que concorreram a edições prévias a 2001 foram descartados, visto que nosso corte temporal é este século:"
   ]
  },
  {
   "cell_type": "code",
   "execution_count": 6,
   "metadata": {},
   "outputs": [
    {
     "data": {
      "text/html": [
       "<div>\n",
       "<style scoped>\n",
       "    .dataframe tbody tr th:only-of-type {\n",
       "        vertical-align: middle;\n",
       "    }\n",
       "\n",
       "    .dataframe tbody tr th {\n",
       "        vertical-align: top;\n",
       "    }\n",
       "\n",
       "    .dataframe thead th {\n",
       "        text-align: right;\n",
       "    }\n",
       "</style>\n",
       "<table border=\"1\" class=\"dataframe\">\n",
       "  <thead>\n",
       "    <tr style=\"text-align: right;\">\n",
       "      <th></th>\n",
       "      <th>year</th>\n",
       "      <th>movie</th>\n",
       "      <th>certificate</th>\n",
       "      <th>duration</th>\n",
       "      <th>genre</th>\n",
       "      <th>rate</th>\n",
       "      <th>metascore</th>\n",
       "      <th>Oscar_Best_Picture_won</th>\n",
       "    </tr>\n",
       "  </thead>\n",
       "  <tbody>\n",
       "    <tr>\n",
       "      <th>0</th>\n",
       "      <td>2001</td>\n",
       "      <td>Kate &amp; Leopold</td>\n",
       "      <td>PG-13</td>\n",
       "      <td>118</td>\n",
       "      <td>Comedy|Fantasy|Romance</td>\n",
       "      <td>6.4</td>\n",
       "      <td>44.0</td>\n",
       "      <td>No</td>\n",
       "    </tr>\n",
       "  </tbody>\n",
       "</table>\n",
       "</div>"
      ],
      "text/plain": [
       "   year           movie certificate  duration                   genre  rate  \\\n",
       "0  2001  Kate & Leopold       PG-13       118  Comedy|Fantasy|Romance   6.4   \n",
       "\n",
       "   metascore Oscar_Best_Picture_won  \n",
       "0       44.0                     No  "
      ]
     },
     "execution_count": 6,
     "metadata": {},
     "output_type": "execute_result"
    }
   ],
   "source": [
    "oscar = oscar [(oscar.year > 2000)]\n",
    "oscar.reset_index(inplace = True, drop = True)\n",
    "oscar.head(1)"
   ]
  },
  {
   "cell_type": "markdown",
   "metadata": {},
   "source": [
    "Agora vamos manipular o dataframe 'rotten':\n",
    "\n",
    "* Aqui, vamos filtrar as colunas que utilizaremos:"
   ]
  },
  {
   "cell_type": "code",
   "execution_count": 7,
   "metadata": {},
   "outputs": [
    {
     "data": {
      "text/html": [
       "<div>\n",
       "<style scoped>\n",
       "    .dataframe tbody tr th:only-of-type {\n",
       "        vertical-align: middle;\n",
       "    }\n",
       "\n",
       "    .dataframe tbody tr th {\n",
       "        vertical-align: top;\n",
       "    }\n",
       "\n",
       "    .dataframe thead th {\n",
       "        text-align: right;\n",
       "    }\n",
       "</style>\n",
       "<table border=\"1\" class=\"dataframe\">\n",
       "  <thead>\n",
       "    <tr style=\"text-align: right;\">\n",
       "      <th></th>\n",
       "      <th>movie_title</th>\n",
       "      <th>tomatometer_status</th>\n",
       "      <th>tomatometer_rating</th>\n",
       "      <th>audience_status</th>\n",
       "      <th>audience_rating</th>\n",
       "    </tr>\n",
       "  </thead>\n",
       "  <tbody>\n",
       "    <tr>\n",
       "      <th>0</th>\n",
       "      <td>Percy Jackson &amp; the Olympians: The Lightning T...</td>\n",
       "      <td>Rotten</td>\n",
       "      <td>49.0</td>\n",
       "      <td>Spilled</td>\n",
       "      <td>53.0</td>\n",
       "    </tr>\n",
       "  </tbody>\n",
       "</table>\n",
       "</div>"
      ],
      "text/plain": [
       "                                         movie_title tomatometer_status  \\\n",
       "0  Percy Jackson & the Olympians: The Lightning T...             Rotten   \n",
       "\n",
       "   tomatometer_rating audience_status  audience_rating  \n",
       "0                49.0         Spilled             53.0  "
      ]
     },
     "execution_count": 7,
     "metadata": {},
     "output_type": "execute_result"
    }
   ],
   "source": [
    "rotten = rotten[['movie_title', 'tomatometer_status', 'tomatometer_rating', 'audience_status', 'audience_rating']]\n",
    "rotten.head(1)"
   ]
  },
  {
   "cell_type": "markdown",
   "metadata": {},
   "source": [
    "2. Por fim, vamos retirar as linhas que possuem valores vazios (NaN):"
   ]
  },
  {
   "cell_type": "code",
   "execution_count": 8,
   "metadata": {},
   "outputs": [],
   "source": [
    "rotten = rotten.dropna()"
   ]
  },
  {
   "cell_type": "markdown",
   "metadata": {},
   "source": [
    "Com isso feito, agora, vamos associar os filmes de um dataframe ao outro, através dos seus nomes:"
   ]
  },
  {
   "cell_type": "code",
   "execution_count": 9,
   "metadata": {},
   "outputs": [
    {
     "data": {
      "text/html": [
       "<div>\n",
       "<style scoped>\n",
       "    .dataframe tbody tr th:only-of-type {\n",
       "        vertical-align: middle;\n",
       "    }\n",
       "\n",
       "    .dataframe tbody tr th {\n",
       "        vertical-align: top;\n",
       "    }\n",
       "\n",
       "    .dataframe thead th {\n",
       "        text-align: right;\n",
       "    }\n",
       "</style>\n",
       "<table border=\"1\" class=\"dataframe\">\n",
       "  <thead>\n",
       "    <tr style=\"text-align: right;\">\n",
       "      <th></th>\n",
       "      <th>year</th>\n",
       "      <th>movie</th>\n",
       "      <th>certificate</th>\n",
       "      <th>duration</th>\n",
       "      <th>genre</th>\n",
       "      <th>rate</th>\n",
       "      <th>metascore</th>\n",
       "      <th>Oscar_Best_Picture_won</th>\n",
       "      <th>tomatometer_status</th>\n",
       "      <th>tomatometer_rating</th>\n",
       "      <th>audience_status</th>\n",
       "      <th>audience_rating</th>\n",
       "    </tr>\n",
       "  </thead>\n",
       "  <tbody>\n",
       "    <tr>\n",
       "      <th>0</th>\n",
       "      <td>2001</td>\n",
       "      <td>Kate &amp; Leopold</td>\n",
       "      <td>PG-13</td>\n",
       "      <td>118</td>\n",
       "      <td>Comedy|Fantasy|Romance</td>\n",
       "      <td>6.4</td>\n",
       "      <td>44.0</td>\n",
       "      <td>No</td>\n",
       "      <td>Rotten</td>\n",
       "      <td>50.0</td>\n",
       "      <td>Upright</td>\n",
       "      <td>62.0</td>\n",
       "    </tr>\n",
       "  </tbody>\n",
       "</table>\n",
       "</div>"
      ],
      "text/plain": [
       "   year           movie certificate  duration                   genre  rate  \\\n",
       "0  2001  Kate & Leopold       PG-13       118  Comedy|Fantasy|Romance   6.4   \n",
       "\n",
       "   metascore Oscar_Best_Picture_won tomatometer_status  tomatometer_rating  \\\n",
       "0       44.0                     No             Rotten                50.0   \n",
       "\n",
       "  audience_status  audience_rating  \n",
       "0         Upright             62.0  "
      ]
     },
     "execution_count": 9,
     "metadata": {},
     "output_type": "execute_result"
    }
   ],
   "source": [
    "#Renomeando a coluna de nomes para que fiquem idênticas:\n",
    "rotten.rename(columns = {'movie_title': 'movie'}, inplace = True)\n",
    "\n",
    "#Juntando os dataframes:\n",
    "df_final = pd.merge(oscar, rotten, how = 'inner', on = 'movie')\n",
    "df_final.head(1)"
   ]
  },
  {
   "cell_type": "markdown",
   "metadata": {},
   "source": [
    "Agora, para evitar distorção nos dados, vamos verificar quantos filmes foram perdidos nessa associação entre os dataframes:"
   ]
  },
  {
   "cell_type": "code",
   "execution_count": 10,
   "metadata": {},
   "outputs": [
    {
     "name": "stdout",
     "output_type": "stream",
     "text": [
      "Número de linhas do dataframe final: 1062\n",
      "Número de linhas perdidas no merge: 27\n",
      "Percentual de perda de dados: 2.54%\n"
     ]
    }
   ],
   "source": [
    "# Verificando quantas linhas foram perdidas no merge:\n",
    "print(f'Número de linhas do dataframe final: {df_final.shape[0]}')\n",
    "print(f'Número de linhas perdidas no merge: {oscar.shape[0] - df_final.shape[0]}')\n",
    "print(f'Percentual de perda de dados: {((oscar.shape[0] - df_final.shape[0]) * 100) / df_final.shape[0]:.2f}%')"
   ]
  },
  {
   "cell_type": "markdown",
   "metadata": {},
   "source": [
    "O percentual de perda não foi muito grande, com isso, podemos continuar nossos estudos e, assim, acabamos nosso pré-processamento."
   ]
  },
  {
   "cell_type": "markdown",
   "metadata": {},
   "source": [
    "# Quais as características mais frequentes entre os filmes indicados à premiação?"
   ]
  },
  {
   "cell_type": "markdown",
   "metadata": {},
   "source": [
    "## Classificação"
   ]
  },
  {
   "cell_type": "markdown",
   "metadata": {},
   "source": [
    "Para responder essa pergunta, iremos analisar o dataframe que produzimos no último passo e encontrar quais os dados mais comuns nas seguintes colunas:\n",
    "* 'certificate';\n",
    "* 'duration';\n",
    "* 'genre';\n",
    "* 'rate';\n",
    "* 'metascore';\n",
    "* 'tomatometer_status';\n",
    "* 'tomatometer_rating';\n",
    "* 'audience_status';\n",
    "* 'audience_rating'."
   ]
  },
  {
   "cell_type": "markdown",
   "metadata": {},
   "source": [
    "### Classificação Indicativa"
   ]
  },
  {
   "cell_type": "code",
   "execution_count": 11,
   "metadata": {},
   "outputs": [
    {
     "data": {
      "text/plain": [
       "[Text(0.5, 0, 'Certificados'), Text(0, 0.5, 'Nº de Filmes')]"
      ]
     },
     "execution_count": 11,
     "metadata": {},
     "output_type": "execute_result"
    },
    {
     "data": {
      "image/png": "[encoded data removed]",
      "text/plain": [
       "<Figure size 1152x504 with 1 Axes>"
      ]
     },
     "metadata": {
      "needs_background": "light"
     },
     "output_type": "display_data"
    }
   ],
   "source": [
    "#Contando a frequência de cada classificação:\n",
    "count_cert = df_final.groupby(['certificate']).size()\n",
    "\n",
    "#Juntando classificações iguais, mas com termos distintos:\n",
    "#Unrated e Not Rated:\n",
    "count_cert['Not Rated'] += count_cert['Unrated']\n",
    "del(count_cert['Unrated'])\n",
    "\n",
    "#TV-MA e R:\n",
    "count_cert['R'] += count_cert['TV-MA']\n",
    "del(count_cert['TV-MA'])\n",
    "\n",
    "#Organizando:\n",
    "count_cert = count_cert.reindex(index = ['Not Rated', 'G', 'PG', 'PG-13', 'R'])\n",
    "\n",
    "#Visualização:\n",
    "sns.set_theme(font_scale = 1.0, palette = 'ch:s=.25,rot=-.25')\n",
    "f, axs = plt.subplots(figsize = (16, 7))\n",
    "graph_cert = sns.barplot(x = count_cert.index, y = count_cert.values)\n",
    "graph_cert.set(xlabel = 'Certificados', ylabel = 'Nº de Filmes')"
   ]
  },
  {
   "cell_type": "markdown",
   "metadata": {},
   "source": [
    "Podemos observar aqui que, quanto maior a classificação indicativa, maior a frequência de indicados, com as duas primeiras colunas quase que empatadas. Classificando, temos:"
   ]
  },
  {
   "cell_type": "code",
   "execution_count": 12,
   "metadata": {},
   "outputs": [
    {
     "data": {
      "text/html": [
       "<div>\n",
       "<style scoped>\n",
       "    .dataframe tbody tr th:only-of-type {\n",
       "        vertical-align: middle;\n",
       "    }\n",
       "\n",
       "    .dataframe tbody tr th {\n",
       "        vertical-align: top;\n",
       "    }\n",
       "\n",
       "    .dataframe thead th {\n",
       "        text-align: right;\n",
       "    }\n",
       "</style>\n",
       "<table border=\"1\" class=\"dataframe\">\n",
       "  <thead>\n",
       "    <tr style=\"text-align: right;\">\n",
       "      <th></th>\n",
       "      <th>movies</th>\n",
       "    </tr>\n",
       "    <tr>\n",
       "      <th>certificate</th>\n",
       "      <th></th>\n",
       "    </tr>\n",
       "  </thead>\n",
       "  <tbody>\n",
       "    <tr>\n",
       "      <th>PG-13</th>\n",
       "      <td>459</td>\n",
       "    </tr>\n",
       "    <tr>\n",
       "      <th>R</th>\n",
       "      <td>455</td>\n",
       "    </tr>\n",
       "    <tr>\n",
       "      <th>PG</th>\n",
       "      <td>125</td>\n",
       "    </tr>\n",
       "    <tr>\n",
       "      <th>G</th>\n",
       "      <td>13</td>\n",
       "    </tr>\n",
       "    <tr>\n",
       "      <th>Not Rated</th>\n",
       "      <td>10</td>\n",
       "    </tr>\n",
       "  </tbody>\n",
       "</table>\n",
       "</div>"
      ],
      "text/plain": [
       "             movies\n",
       "certificate        \n",
       "PG-13           459\n",
       "R               455\n",
       "PG              125\n",
       "G                13\n",
       "Not Rated        10"
      ]
     },
     "execution_count": 12,
     "metadata": {},
     "output_type": "execute_result"
    }
   ],
   "source": [
    "count_cert = count_cert.sort_values(ascending = False)\n",
    "pd.DataFrame(count_cert, columns = ['movies'])"
   ]
  },
  {
   "cell_type": "markdown",
   "metadata": {},
   "source": [
    "### Duração\n",
    "\n",
    "* Decidimos categorizar as durações de acordo com um intervalo, para agrupar as que têm durações semelhantes, assim:"
   ]
  },
  {
   "cell_type": "code",
   "execution_count": 13,
   "metadata": {},
   "outputs": [
    {
     "data": {
      "text/plain": [
       "[Text(0.5, 0, 'Duração'), Text(0, 0.5, 'Nº de Filmes')]"
      ]
     },
     "execution_count": 13,
     "metadata": {},
     "output_type": "execute_result"
    },
    {
     "data": {
      "image/png": "[encoded data removed]",
      "text/plain": [
       "<Figure size 1152x504 with 1 Axes>"
      ]
     },
     "metadata": {
      "needs_background": "light"
     },
     "output_type": "display_data"
    }
   ],
   "source": [
    "#A função a seguir devolve o intervalo em que o número está. A generalizamos para uso futuro:\n",
    "def n_break (n, start, end, mod, scale_cem = True):\n",
    "    break_start = start\n",
    "    break_end = end\n",
    "\n",
    "    if scale_cem:\n",
    "        while True:\n",
    "            if (break_start <= n <= break_end):\n",
    "                return f'{break_start} - {break_end}'\n",
    "            else:\n",
    "                break_start = break_end + 1\n",
    "                break_end += mod\n",
    "    \n",
    "    else:\n",
    "        while True:\n",
    "            if (break_start <= n <= break_end):\n",
    "                return f'{break_start} - {break_end}'\n",
    "            else:\n",
    "                break_start = break_end + 0.1\n",
    "                break_end += mod\n",
    "\n",
    "#Adicionando a coluna duration_break dos intervalos das durações:\n",
    "count_dur = df_final\n",
    "count_dur['duration_break'] = count_dur['duration'].apply(n_break, args = (1, 30, 30))\n",
    "\n",
    "#Contando a frequência de cada intervalo:\n",
    "count_dur = count_dur.groupby(['duration_break']).size()\n",
    "\n",
    "#Organizando:\n",
    "count_dur = count_dur.reindex(index = ['61 - 90', '91 - 120', '121 - 150', '151 - 180', '181 - 210', '211 - 240'])\n",
    "\n",
    "#Visualização:\n",
    "f, axs = plt.subplots(figsize = (16, 7))\n",
    "graph_dur = sns.barplot(x = count_dur.index, y = count_dur.values)\n",
    "graph_dur.set(xlabel = 'Duração', ylabel = 'Nº de Filmes')\n"
   ]
  },
  {
   "cell_type": "markdown",
   "metadata": {},
   "source": [
    "Os filmes entre 1:30 e 2:00 apareceram aqui com uma grande margem acima dos outros. Filmes maiores são mais escassos, naturalmente, possuem poucos filmes. A seguir, a classificação:"
   ]
  },
  {
   "cell_type": "code",
   "execution_count": 14,
   "metadata": {},
   "outputs": [
    {
     "data": {
      "text/html": [
       "<div>\n",
       "<style scoped>\n",
       "    .dataframe tbody tr th:only-of-type {\n",
       "        vertical-align: middle;\n",
       "    }\n",
       "\n",
       "    .dataframe tbody tr th {\n",
       "        vertical-align: top;\n",
       "    }\n",
       "\n",
       "    .dataframe thead th {\n",
       "        text-align: right;\n",
       "    }\n",
       "</style>\n",
       "<table border=\"1\" class=\"dataframe\">\n",
       "  <thead>\n",
       "    <tr style=\"text-align: right;\">\n",
       "      <th></th>\n",
       "      <th>movies</th>\n",
       "    </tr>\n",
       "    <tr>\n",
       "      <th>duration_break</th>\n",
       "      <th></th>\n",
       "    </tr>\n",
       "  </thead>\n",
       "  <tbody>\n",
       "    <tr>\n",
       "      <th>91 - 120</th>\n",
       "      <td>595</td>\n",
       "    </tr>\n",
       "    <tr>\n",
       "      <th>121 - 150</th>\n",
       "      <td>342</td>\n",
       "    </tr>\n",
       "    <tr>\n",
       "      <th>61 - 90</th>\n",
       "      <td>64</td>\n",
       "    </tr>\n",
       "    <tr>\n",
       "      <th>151 - 180</th>\n",
       "      <td>54</td>\n",
       "    </tr>\n",
       "    <tr>\n",
       "      <th>181 - 210</th>\n",
       "      <td>6</td>\n",
       "    </tr>\n",
       "    <tr>\n",
       "      <th>211 - 240</th>\n",
       "      <td>1</td>\n",
       "    </tr>\n",
       "  </tbody>\n",
       "</table>\n",
       "</div>"
      ],
      "text/plain": [
       "                movies\n",
       "duration_break        \n",
       "91 - 120           595\n",
       "121 - 150          342\n",
       "61 - 90             64\n",
       "151 - 180           54\n",
       "181 - 210            6\n",
       "211 - 240            1"
      ]
     },
     "execution_count": 14,
     "metadata": {},
     "output_type": "execute_result"
    }
   ],
   "source": [
    "count_dur = count_dur.sort_values(ascending = False)\n",
    "\n",
    "pd.DataFrame(count_dur, columns = ['movies'])"
   ]
  },
  {
   "cell_type": "markdown",
   "metadata": {},
   "source": [
    "### Gênero"
   ]
  },
  {
   "cell_type": "code",
   "execution_count": 15,
   "metadata": {},
   "outputs": [
    {
     "data": {
      "text/html": [
       "<div>\n",
       "<style scoped>\n",
       "    .dataframe tbody tr th:only-of-type {\n",
       "        vertical-align: middle;\n",
       "    }\n",
       "\n",
       "    .dataframe tbody tr th {\n",
       "        vertical-align: top;\n",
       "    }\n",
       "\n",
       "    .dataframe thead th {\n",
       "        text-align: right;\n",
       "    }\n",
       "</style>\n",
       "<table border=\"1\" class=\"dataframe\">\n",
       "  <thead>\n",
       "    <tr style=\"text-align: right;\">\n",
       "      <th></th>\n",
       "      <th>genre</th>\n",
       "      <th>movies</th>\n",
       "    </tr>\n",
       "  </thead>\n",
       "  <tbody>\n",
       "    <tr>\n",
       "      <th>0</th>\n",
       "      <td>Drama</td>\n",
       "      <td>599</td>\n",
       "    </tr>\n",
       "    <tr>\n",
       "      <th>1</th>\n",
       "      <td>Adventure</td>\n",
       "      <td>297</td>\n",
       "    </tr>\n",
       "    <tr>\n",
       "      <th>2</th>\n",
       "      <td>Action</td>\n",
       "      <td>290</td>\n",
       "    </tr>\n",
       "    <tr>\n",
       "      <th>3</th>\n",
       "      <td>Comedy</td>\n",
       "      <td>281</td>\n",
       "    </tr>\n",
       "    <tr>\n",
       "      <th>4</th>\n",
       "      <td>Romance</td>\n",
       "      <td>186</td>\n",
       "    </tr>\n",
       "    <tr>\n",
       "      <th>5</th>\n",
       "      <td>Crime</td>\n",
       "      <td>165</td>\n",
       "    </tr>\n",
       "    <tr>\n",
       "      <th>6</th>\n",
       "      <td>Thriller</td>\n",
       "      <td>142</td>\n",
       "    </tr>\n",
       "    <tr>\n",
       "      <th>7</th>\n",
       "      <td>Sci-Fi</td>\n",
       "      <td>116</td>\n",
       "    </tr>\n",
       "    <tr>\n",
       "      <th>8</th>\n",
       "      <td>Biography</td>\n",
       "      <td>113</td>\n",
       "    </tr>\n",
       "    <tr>\n",
       "      <th>9</th>\n",
       "      <td>Fantasy</td>\n",
       "      <td>111</td>\n",
       "    </tr>\n",
       "    <tr>\n",
       "      <th>10</th>\n",
       "      <td>Mystery</td>\n",
       "      <td>90</td>\n",
       "    </tr>\n",
       "    <tr>\n",
       "      <th>11</th>\n",
       "      <td>Family</td>\n",
       "      <td>81</td>\n",
       "    </tr>\n",
       "    <tr>\n",
       "      <th>12</th>\n",
       "      <td>Animation</td>\n",
       "      <td>71</td>\n",
       "    </tr>\n",
       "    <tr>\n",
       "      <th>13</th>\n",
       "      <td>Horror</td>\n",
       "      <td>69</td>\n",
       "    </tr>\n",
       "    <tr>\n",
       "      <th>14</th>\n",
       "      <td>History</td>\n",
       "      <td>50</td>\n",
       "    </tr>\n",
       "    <tr>\n",
       "      <th>15</th>\n",
       "      <td>Musical</td>\n",
       "      <td>42</td>\n",
       "    </tr>\n",
       "    <tr>\n",
       "      <th>16</th>\n",
       "      <td>War</td>\n",
       "      <td>26</td>\n",
       "    </tr>\n",
       "    <tr>\n",
       "      <th>17</th>\n",
       "      <td>Sport</td>\n",
       "      <td>24</td>\n",
       "    </tr>\n",
       "    <tr>\n",
       "      <th>18</th>\n",
       "      <td>Western</td>\n",
       "      <td>8</td>\n",
       "    </tr>\n",
       "    <tr>\n",
       "      <th>19</th>\n",
       "      <td>Documentary</td>\n",
       "      <td>1</td>\n",
       "    </tr>\n",
       "  </tbody>\n",
       "</table>\n",
       "</div>"
      ],
      "text/plain": [
       "          genre  movies\n",
       "0         Drama     599\n",
       "1     Adventure     297\n",
       "2        Action     290\n",
       "3        Comedy     281\n",
       "4       Romance     186\n",
       "5         Crime     165\n",
       "6      Thriller     142\n",
       "7        Sci-Fi     116\n",
       "8     Biography     113\n",
       "9       Fantasy     111\n",
       "10      Mystery      90\n",
       "11       Family      81\n",
       "12    Animation      71\n",
       "13       Horror      69\n",
       "14      History      50\n",
       "15      Musical      42\n",
       "16          War      26\n",
       "17        Sport      24\n",
       "18      Western       8\n",
       "19  Documentary       1"
      ]
     },
     "execution_count": 15,
     "metadata": {},
     "output_type": "execute_result"
    }
   ],
   "source": [
    "#Função para criar o dicionário com os gêneros e suas ocorrências:\n",
    "def str_count (str, dict):\n",
    "    dicio = dict\n",
    "\n",
    "    if ('|' in str):\n",
    "        str = str.split('|')\n",
    "\n",
    "        for i in range (len(str)):\n",
    "            if (str[i] in dicio.keys()):\n",
    "                dicio[str[i]] += 1\n",
    "        \n",
    "            else:\n",
    "                dicio[str[i]] = 1\n",
    "\n",
    "    else:\n",
    "        if (str in dicio.keys()):\n",
    "            dicio[str] += 1\n",
    "        \n",
    "        else:\n",
    "            dicio[str] = 1\n",
    "    \n",
    "    return dicio\n",
    "\n",
    "#Criando o dicionário:\n",
    "dicio_gen = {}\n",
    "\n",
    "for i in range(len(df_final.index)):\n",
    "    dicio_gen = str_count(df_final['genre'].iloc[i], dicio_gen)\n",
    "\n",
    "count_gen = pd.DataFrame(list(dicio_gen.items()), columns = ['genre', 'movies'])\n",
    "\n",
    "#Juntando gêneros iguais, mas com termos distintos:\n",
    "#Music e Musical:\n",
    "pos_Music = count_gen.loc[count_gen['genre'] == 'Music']\n",
    "pos_Musical = count_gen.loc[count_gen['genre'] == 'Musical']\n",
    "pos_Musical.movies.values[0] += pos_Music.movies.values[0]\n",
    "count_gen.at[pos_Musical.index[0], 'movies'] = pos_Musical.movies.values[0]\n",
    "count_gen.drop(pos_Music.index[0], inplace = True)\n",
    "\n",
    "#Havia uma linha com \"Histor\" como gênero, consideramos como \"History\":\n",
    "pos_Histor = count_gen.loc[count_gen['genre'] == 'Histor']\n",
    "pos_History = count_gen.loc[count_gen['genre'] == 'History']\n",
    "pos_History.movies.values[0] += pos_Histor.movies.values[0]\n",
    "count_gen.at[pos_History.index[0], 'movies'] = pos_History.movies.values[0]\n",
    "count_gen.drop(pos_Histor.index[0], inplace = True)\n",
    "\n",
    "#Organizando e visualizando:\n",
    "count_gen = count_gen.sort_values(['movies'], ascending = False)\n",
    "count_gen.reset_index(inplace = True, drop = True)\n",
    "count_gen"
   ]
  },
  {
   "cell_type": "markdown",
   "metadata": {},
   "source": [
    "Aqui, o que mais nos chama a atenção é a grande vantagem do gênero \"Drama\" sobre os demais."
   ]
  },
  {
   "cell_type": "markdown",
   "metadata": {},
   "source": [
    "### Nota do Usuários - IMDb\n",
    "\n",
    "* Assim como nas durações, agruparemos em intervalos as notas semelhantes:"
   ]
  },
  {
   "cell_type": "code",
   "execution_count": 16,
   "metadata": {},
   "outputs": [
    {
     "data": {
      "text/plain": [
       "[Text(0.5, 0, 'Notas no IMDb'), Text(0, 0.5, 'Nº de filmes')]"
      ]
     },
     "execution_count": 16,
     "metadata": {},
     "output_type": "execute_result"
    },
    {
     "data": {
      "image/png": "[encoded data removed]",
      "text/plain": [
       "<Figure size 1152x504 with 1 Axes>"
      ]
     },
     "metadata": {
      "needs_background": "light"
     },
     "output_type": "display_data"
    }
   ],
   "source": [
    "#A função a seguir servirá para corrigir os valores das Notas do IMDd, que estão em strings:\n",
    "def inteirar (n):\n",
    "    return int(n)\n",
    "\n",
    "#Adicionando a coluna rate_break dos intervalos das notas:\n",
    "count_rate = df_final\n",
    "count_rate = count_rate['rate'].apply(inteirar)\n",
    "count_rate['rate_break'] = count_rate.apply(n_break, args = (0, 1, 1, False))\n",
    "\n",
    "#Contando a frequência de cada intervalo:\n",
    "count_rate = count_rate.groupby(['rate_break']).size()\n",
    "\n",
    "#Visualização:\n",
    "f, axs = plt.subplots(figsize = (16, 7))\n",
    "graph_rate = sns.barplot(x = count_rate.index, y = count_rate.values)\n",
    "graph_rate.set(xlabel = 'Notas no IMDb', ylabel = 'Nº de filmes')\n"
   ]
  },
  {
   "cell_type": "markdown",
   "metadata": {},
   "source": [
    "Em ordem:"
   ]
  },
  {
   "cell_type": "code",
   "execution_count": 17,
   "metadata": {},
   "outputs": [
    {
     "data": {
      "text/plain": [
       "rate\n",
       "6.1 - 7    529\n",
       "5.1 - 6    318\n",
       "7.1 - 8    111\n",
       "4.1 - 5     91\n",
       "3.1 - 4     12\n",
       "8.1 - 9      1\n",
       "Name: rate, dtype: int64"
      ]
     },
     "execution_count": 17,
     "metadata": {},
     "output_type": "execute_result"
    }
   ],
   "source": [
    "count_rate = count_rate.sort_values(ascending = False)\n",
    "count_rate"
   ]
  },
  {
   "cell_type": "markdown",
   "metadata": {},
   "source": [
    "    As avaliações ficam, majoritariamente, entre 5.1 - 7.0, o que acaba sendo um tanto contraintuitivo, visto que, para filmes reconhecidos pela academia, se espera um padrão mais elevado.\n",
    "    Outro destaque é que não há filmes de 0 à 3.0, que mesmo que seja um intervalo com péssimas avaliações e, assim, o que não se espera dos nomeados, ainda é um grande intervalo. Não há filmes com notas maiores que 9.1 também, o que também gera estranheza."
   ]
  },
  {
   "cell_type": "markdown",
   "metadata": {},
   "source": [
    "### Metascore"
   ]
  },
  {
   "cell_type": "code",
   "execution_count": 18,
   "metadata": {},
   "outputs": [
    {
     "data": {
      "text/plain": [
       "[Text(0.5, 0, 'Metascore'), Text(0, 0.5, 'Nº de filmes')]"
      ]
     },
     "execution_count": 18,
     "metadata": {},
     "output_type": "execute_result"
    },
    {
     "data": {
      "image/png": "[encoded data removed]",
      "text/plain": [
       "<Figure size 1152x504 with 1 Axes>"
      ]
     },
     "metadata": {
      "needs_background": "light"
     },
     "output_type": "display_data"
    }
   ],
   "source": [
    "#Adicionando a coluna meta_break dos intervalos das notas:\n",
    "count_meta = df_final\n",
    "count_meta['meta_break'] = count_meta['metascore'].apply(n_break, args = (0, 10, 10))\n",
    "\n",
    "#Contando a frequência de cada intervalo:\n",
    "count_meta = count_meta.groupby(['meta_break']).size()\n",
    "\n",
    "#Visualização:\n",
    "f, axs = plt.subplots(figsize = (16, 7))\n",
    "graph_meta = sns.barplot(x = count_meta.index, y = count_meta.values)\n",
    "graph_meta.set(xlabel = 'Metascore', ylabel = 'Nº de filmes')"
   ]
  },
  {
   "cell_type": "markdown",
   "metadata": {},
   "source": [
    "Em ordem:"
   ]
  },
  {
   "cell_type": "code",
   "execution_count": 19,
   "metadata": {},
   "outputs": [
    {
     "data": {
      "text/html": [
       "<div>\n",
       "<style scoped>\n",
       "    .dataframe tbody tr th:only-of-type {\n",
       "        vertical-align: middle;\n",
       "    }\n",
       "\n",
       "    .dataframe tbody tr th {\n",
       "        vertical-align: top;\n",
       "    }\n",
       "\n",
       "    .dataframe thead th {\n",
       "        text-align: right;\n",
       "    }\n",
       "</style>\n",
       "<table border=\"1\" class=\"dataframe\">\n",
       "  <thead>\n",
       "    <tr style=\"text-align: right;\">\n",
       "      <th></th>\n",
       "      <th>movies</th>\n",
       "    </tr>\n",
       "    <tr>\n",
       "      <th>meta_break</th>\n",
       "      <th></th>\n",
       "    </tr>\n",
       "  </thead>\n",
       "  <tbody>\n",
       "    <tr>\n",
       "      <th>61 - 70</th>\n",
       "      <td>214</td>\n",
       "    </tr>\n",
       "    <tr>\n",
       "      <th>71 - 80</th>\n",
       "      <td>206</td>\n",
       "    </tr>\n",
       "    <tr>\n",
       "      <th>51 - 60</th>\n",
       "      <td>180</td>\n",
       "    </tr>\n",
       "    <tr>\n",
       "      <th>81 - 90</th>\n",
       "      <td>162</td>\n",
       "    </tr>\n",
       "    <tr>\n",
       "      <th>41 - 50</th>\n",
       "      <td>151</td>\n",
       "    </tr>\n",
       "    <tr>\n",
       "      <th>31 - 40</th>\n",
       "      <td>87</td>\n",
       "    </tr>\n",
       "    <tr>\n",
       "      <th>91 - 100</th>\n",
       "      <td>42</td>\n",
       "    </tr>\n",
       "    <tr>\n",
       "      <th>21 - 30</th>\n",
       "      <td>17</td>\n",
       "    </tr>\n",
       "    <tr>\n",
       "      <th>11 - 20</th>\n",
       "      <td>3</td>\n",
       "    </tr>\n",
       "  </tbody>\n",
       "</table>\n",
       "</div>"
      ],
      "text/plain": [
       "            movies\n",
       "meta_break        \n",
       "61 - 70        214\n",
       "71 - 80        206\n",
       "51 - 60        180\n",
       "81 - 90        162\n",
       "41 - 50        151\n",
       "31 - 40         87\n",
       "91 - 100        42\n",
       "21 - 30         17\n",
       "11 - 20          3"
      ]
     },
     "execution_count": 19,
     "metadata": {},
     "output_type": "execute_result"
    }
   ],
   "source": [
    "count_meta = count_meta.sort_values(ascending = False)\n",
    "pd.DataFrame(count_meta, columns = ['movies'])"
   ]
  },
  {
   "cell_type": "markdown",
   "metadata": {},
   "source": [
    "    No gráfico, fica perceptível como a frequência das notas altas tende a crescer, atingindo seu pico entre 61 - 70. Esse padrão se encaixa no que esperávamos, contudo, o pico acabou sendo um pouco mais baixo para filmes reconhecidos pela academia.\n",
    "    Outros pontos notáveis são a grande frequência ao redor da média e como filmes com notas 91+ são raros, ficando atrás até mesmo de filmes com notas baixas, como os do intervalo de 31-40."
   ]
  },
  {
   "cell_type": "markdown",
   "metadata": {},
   "source": [
    "### Status do Tomatometer"
   ]
  },
  {
   "cell_type": "code",
   "execution_count": 20,
   "metadata": {},
   "outputs": [
    {
     "data": {
      "text/plain": [
       "[Text(0.5, 0, 'Status'), Text(0, 0.5, 'Nº de filmes')]"
      ]
     },
     "execution_count": 20,
     "metadata": {},
     "output_type": "execute_result"
    },
    {
     "data": {
      "image/png": "[encoded data removed]",
      "text/plain": [
       "<Figure size 1152x504 with 1 Axes>"
      ]
     },
     "metadata": {
      "needs_background": "light"
     },
     "output_type": "display_data"
    }
   ],
   "source": [
    "#Contando a frequência de cada status:\n",
    "count_tomatometer = df_final.groupby(['tomatometer_status']).size()\n",
    "count_tomatometer\n",
    "\n",
    "#Organizando:\n",
    "count_tomatometer = count_tomatometer.reindex(index = ['Rotten', 'Fresh', 'Certified-Fresh'])\n",
    "\n",
    "#Visualização:\n",
    "f, axs = plt.subplots(figsize = (16, 7))\n",
    "graph_tomatometer = sns.barplot(x = count_tomatometer.index, y = count_tomatometer.values)\n",
    "graph_tomatometer.set(xlabel = 'Status', ylabel = 'Nº de filmes')"
   ]
  },
  {
   "cell_type": "markdown",
   "metadata": {},
   "source": [
    "Em ordem:"
   ]
  },
  {
   "cell_type": "code",
   "execution_count": 21,
   "metadata": {},
   "outputs": [
    {
     "data": {
      "text/html": [
       "<div>\n",
       "<style scoped>\n",
       "    .dataframe tbody tr th:only-of-type {\n",
       "        vertical-align: middle;\n",
       "    }\n",
       "\n",
       "    .dataframe tbody tr th {\n",
       "        vertical-align: top;\n",
       "    }\n",
       "\n",
       "    .dataframe thead th {\n",
       "        text-align: right;\n",
       "    }\n",
       "</style>\n",
       "<table border=\"1\" class=\"dataframe\">\n",
       "  <thead>\n",
       "    <tr style=\"text-align: right;\">\n",
       "      <th></th>\n",
       "      <th>movies</th>\n",
       "    </tr>\n",
       "    <tr>\n",
       "      <th>tomatometer_status</th>\n",
       "      <th></th>\n",
       "    </tr>\n",
       "  </thead>\n",
       "  <tbody>\n",
       "    <tr>\n",
       "      <th>Certified-Fresh</th>\n",
       "      <td>536</td>\n",
       "    </tr>\n",
       "    <tr>\n",
       "      <th>Rotten</th>\n",
       "      <td>356</td>\n",
       "    </tr>\n",
       "    <tr>\n",
       "      <th>Fresh</th>\n",
       "      <td>170</td>\n",
       "    </tr>\n",
       "  </tbody>\n",
       "</table>\n",
       "</div>"
      ],
      "text/plain": [
       "                    movies\n",
       "tomatometer_status        \n",
       "Certified-Fresh        536\n",
       "Rotten                 356\n",
       "Fresh                  170"
      ]
     },
     "execution_count": 21,
     "metadata": {},
     "output_type": "execute_result"
    }
   ],
   "source": [
    "count_tomatometer = count_tomatometer.sort_values(ascending = False)\n",
    "pd.DataFrame(count_tomatometer, columns = ['movies'])"
   ]
  },
  {
   "cell_type": "markdown",
   "metadata": {},
   "source": [
    "A maior surpresa desse dado foi como filmes pouco acima da média, os de status Fresh, estão bem abaixo dos mal avaliados. Os dados sugerem que a maioria das ideias dos críticos do site se alinha com as da Academia, contudo, suas discordâncias também são numerosas."
   ]
  },
  {
   "cell_type": "markdown",
   "metadata": {},
   "source": [
    "### Tomatometer"
   ]
  },
  {
   "cell_type": "code",
   "execution_count": 22,
   "metadata": {},
   "outputs": [
    {
     "data": {
      "text/plain": [
       "[Text(0.5, 0, 'Notas'), Text(0, 0.5, 'Nº de filmes')]"
      ]
     },
     "execution_count": 22,
     "metadata": {},
     "output_type": "execute_result"
    },
    {
     "data": {
      "image/png": "[encoded data removed]",
      "text/plain": [
       "<Figure size 1152x504 with 1 Axes>"
      ]
     },
     "metadata": {
      "needs_background": "light"
     },
     "output_type": "display_data"
    }
   ],
   "source": [
    "#Adicionando a coluna tomatometer_break dos intervalos das notas:\n",
    "count_tomatometer_rating = df_final\n",
    "count_tomatometer_rating['tomatometer_break'] = count_tomatometer_rating['tomatometer_rating'].apply(n_break, args = (0, 10, 10))\n",
    "\n",
    "#Contando a frequência de cada intervalo:\n",
    "count_tomatometer_rating = count_tomatometer_rating.groupby(['tomatometer_break']).size()\n",
    "\n",
    "#Visualização:\n",
    "f, axs = plt.subplots(figsize = (16, 7))\n",
    "graph_tomatometer_rating = sns.barplot(x = count_tomatometer_rating.index, y = count_tomatometer_rating.values)\n",
    "graph_tomatometer_rating.set(xlabel = 'Notas', ylabel = 'Nº de filmes')"
   ]
  },
  {
   "cell_type": "markdown",
   "metadata": {},
   "source": [
    "Em ordem:"
   ]
  },
  {
   "cell_type": "code",
   "execution_count": 23,
   "metadata": {},
   "outputs": [
    {
     "data": {
      "text/html": [
       "<div>\n",
       "<style scoped>\n",
       "    .dataframe tbody tr th:only-of-type {\n",
       "        vertical-align: middle;\n",
       "    }\n",
       "\n",
       "    .dataframe tbody tr th {\n",
       "        vertical-align: top;\n",
       "    }\n",
       "\n",
       "    .dataframe thead th {\n",
       "        text-align: right;\n",
       "    }\n",
       "</style>\n",
       "<table border=\"1\" class=\"dataframe\">\n",
       "  <thead>\n",
       "    <tr style=\"text-align: right;\">\n",
       "      <th></th>\n",
       "      <th>movies</th>\n",
       "    </tr>\n",
       "    <tr>\n",
       "      <th>tomatometer_break</th>\n",
       "      <th></th>\n",
       "    </tr>\n",
       "  </thead>\n",
       "  <tbody>\n",
       "    <tr>\n",
       "      <th>81 - 90</th>\n",
       "      <td>230</td>\n",
       "    </tr>\n",
       "    <tr>\n",
       "      <th>91 - 100</th>\n",
       "      <td>195</td>\n",
       "    </tr>\n",
       "    <tr>\n",
       "      <th>71 - 80</th>\n",
       "      <td>159</td>\n",
       "    </tr>\n",
       "    <tr>\n",
       "      <th>61 - 70</th>\n",
       "      <td>111</td>\n",
       "    </tr>\n",
       "    <tr>\n",
       "      <th>51 - 60</th>\n",
       "      <td>87</td>\n",
       "    </tr>\n",
       "    <tr>\n",
       "      <th>31 - 40</th>\n",
       "      <td>80</td>\n",
       "    </tr>\n",
       "    <tr>\n",
       "      <th>41 - 50</th>\n",
       "      <td>75</td>\n",
       "    </tr>\n",
       "    <tr>\n",
       "      <th>21 - 30</th>\n",
       "      <td>74</td>\n",
       "    </tr>\n",
       "    <tr>\n",
       "      <th>11 - 20</th>\n",
       "      <td>40</td>\n",
       "    </tr>\n",
       "    <tr>\n",
       "      <th>0 - 10</th>\n",
       "      <td>11</td>\n",
       "    </tr>\n",
       "  </tbody>\n",
       "</table>\n",
       "</div>"
      ],
      "text/plain": [
       "                   movies\n",
       "tomatometer_break        \n",
       "81 - 90               230\n",
       "91 - 100              195\n",
       "71 - 80               159\n",
       "61 - 70               111\n",
       "51 - 60                87\n",
       "31 - 40                80\n",
       "41 - 50                75\n",
       "21 - 30                74\n",
       "11 - 20                40\n",
       "0 - 10                 11"
      ]
     },
     "execution_count": 23,
     "metadata": {},
     "output_type": "execute_result"
    }
   ],
   "source": [
    "count_tomatometer_rating = count_tomatometer_rating.sort_values(ascending = False)\n",
    "pd.DataFrame(count_tomatometer_rating, columns = ['movies'])"
   ]
  },
  {
   "cell_type": "markdown",
   "metadata": {},
   "source": [
    "Aqui, nos deparamos com dados bem esperados, com uma tendência para as notas maiores."
   ]
  },
  {
   "cell_type": "markdown",
   "metadata": {},
   "source": [
    "### O Status da Audiência do RT"
   ]
  },
  {
   "cell_type": "code",
   "execution_count": 24,
   "metadata": {},
   "outputs": [
    {
     "data": {
      "text/plain": [
       "[Text(0.5, 0, 'Status'), Text(0, 0.5, 'Nº de filmes')]"
      ]
     },
     "execution_count": 24,
     "metadata": {},
     "output_type": "execute_result"
    },
    {
     "data": {
      "image/png": "[encoded data removed]",
      "text/plain": [
       "<Figure size 1152x504 with 1 Axes>"
      ]
     },
     "metadata": {
      "needs_background": "light"
     },
     "output_type": "display_data"
    }
   ],
   "source": [
    "#Contando a frequência de cada status:\n",
    "count_audience = df_final.groupby(['audience_status']).size()\n",
    "\n",
    "#Visualização:\n",
    "f, axs = plt.subplots(figsize = (16, 7))\n",
    "graph_audience = sns.barplot(x = count_audience.index, y = count_audience.values)\n",
    "graph_audience.set(xlabel = 'Status', ylabel = 'Nº de filmes')"
   ]
  },
  {
   "cell_type": "markdown",
   "metadata": {},
   "source": [
    "Em ordem:"
   ]
  },
  {
   "cell_type": "code",
   "execution_count": 25,
   "metadata": {},
   "outputs": [
    {
     "data": {
      "text/html": [
       "<div>\n",
       "<style scoped>\n",
       "    .dataframe tbody tr th:only-of-type {\n",
       "        vertical-align: middle;\n",
       "    }\n",
       "\n",
       "    .dataframe tbody tr th {\n",
       "        vertical-align: top;\n",
       "    }\n",
       "\n",
       "    .dataframe thead th {\n",
       "        text-align: right;\n",
       "    }\n",
       "</style>\n",
       "<table border=\"1\" class=\"dataframe\">\n",
       "  <thead>\n",
       "    <tr style=\"text-align: right;\">\n",
       "      <th></th>\n",
       "      <th>movies</th>\n",
       "    </tr>\n",
       "    <tr>\n",
       "      <th>audience_status</th>\n",
       "      <th></th>\n",
       "    </tr>\n",
       "  </thead>\n",
       "  <tbody>\n",
       "    <tr>\n",
       "      <th>Upright</th>\n",
       "      <td>801</td>\n",
       "    </tr>\n",
       "    <tr>\n",
       "      <th>Spilled</th>\n",
       "      <td>261</td>\n",
       "    </tr>\n",
       "  </tbody>\n",
       "</table>\n",
       "</div>"
      ],
      "text/plain": [
       "                 movies\n",
       "audience_status        \n",
       "Upright             801\n",
       "Spilled             261"
      ]
     },
     "execution_count": 25,
     "metadata": {},
     "output_type": "execute_result"
    }
   ],
   "source": [
    "count_audience = count_audience.sort_values(ascending = False)\n",
    "pd.DataFrame(count_audience, columns = ['movies'])"
   ]
  },
  {
   "cell_type": "markdown",
   "metadata": {},
   "source": [
    "Novamente, os dados foram esperados, com os filmes que são considerados bons em grande maioria."
   ]
  },
  {
   "cell_type": "markdown",
   "metadata": {},
   "source": [
    "### Nota do Usuários - RT"
   ]
  },
  {
   "cell_type": "code",
   "execution_count": 26,
   "metadata": {},
   "outputs": [
    {
     "data": {
      "text/plain": [
       "[Text(0.5, 0, 'Notas'), Text(0, 0.5, 'Nº de filmes')]"
      ]
     },
     "execution_count": 26,
     "metadata": {},
     "output_type": "execute_result"
    },
    {
     "data": {
      "image/png": "[encoded data removed]",
      "text/plain": [
       "<Figure size 1152x504 with 1 Axes>"
      ]
     },
     "metadata": {
      "needs_background": "light"
     },
     "output_type": "display_data"
    }
   ],
   "source": [
    "#Adicionando a coluna audience_break dos intervalos das notas:\n",
    "count_audience_rating = df_final\n",
    "count_audience_rating['audience_break'] = count_audience_rating['audience_rating'].apply(n_break, args = (0, 10, 10))\n",
    "\n",
    "#Contando a frequência de cada intervalo:\n",
    "count_audience_rating = count_audience_rating.groupby(['audience_break']).size()\n",
    "\n",
    "#Visualização:\n",
    "f, axs = plt.subplots(figsize = (16, 7))\n",
    "graph_audience = sns.barplot(x = count_audience_rating.index, y = count_audience_rating.values)\n",
    "graph_audience.set(xlabel = 'Notas', ylabel = 'Nº de filmes')"
   ]
  },
  {
   "cell_type": "markdown",
   "metadata": {},
   "source": [
    "Em ordem:"
   ]
  },
  {
   "cell_type": "code",
   "execution_count": 27,
   "metadata": {},
   "outputs": [
    {
     "data": {
      "text/html": [
       "<div>\n",
       "<style scoped>\n",
       "    .dataframe tbody tr th:only-of-type {\n",
       "        vertical-align: middle;\n",
       "    }\n",
       "\n",
       "    .dataframe tbody tr th {\n",
       "        vertical-align: top;\n",
       "    }\n",
       "\n",
       "    .dataframe thead th {\n",
       "        text-align: right;\n",
       "    }\n",
       "</style>\n",
       "<table border=\"1\" class=\"dataframe\">\n",
       "  <thead>\n",
       "    <tr style=\"text-align: right;\">\n",
       "      <th></th>\n",
       "      <th>movies</th>\n",
       "    </tr>\n",
       "    <tr>\n",
       "      <th>audience_break</th>\n",
       "      <th></th>\n",
       "    </tr>\n",
       "  </thead>\n",
       "  <tbody>\n",
       "    <tr>\n",
       "      <th>81 - 90</th>\n",
       "      <td>284</td>\n",
       "    </tr>\n",
       "    <tr>\n",
       "      <th>71 - 80</th>\n",
       "      <td>269</td>\n",
       "    </tr>\n",
       "    <tr>\n",
       "      <th>61 - 70</th>\n",
       "      <td>173</td>\n",
       "    </tr>\n",
       "    <tr>\n",
       "      <th>51 - 60</th>\n",
       "      <td>141</td>\n",
       "    </tr>\n",
       "    <tr>\n",
       "      <th>41 - 50</th>\n",
       "      <td>81</td>\n",
       "    </tr>\n",
       "    <tr>\n",
       "      <th>91 - 100</th>\n",
       "      <td>55</td>\n",
       "    </tr>\n",
       "    <tr>\n",
       "      <th>31 - 40</th>\n",
       "      <td>34</td>\n",
       "    </tr>\n",
       "    <tr>\n",
       "      <th>21 - 30</th>\n",
       "      <td>19</td>\n",
       "    </tr>\n",
       "    <tr>\n",
       "      <th>11 - 20</th>\n",
       "      <td>5</td>\n",
       "    </tr>\n",
       "    <tr>\n",
       "      <th>0 - 10</th>\n",
       "      <td>1</td>\n",
       "    </tr>\n",
       "  </tbody>\n",
       "</table>\n",
       "</div>"
      ],
      "text/plain": [
       "                movies\n",
       "audience_break        \n",
       "81 - 90            284\n",
       "71 - 80            269\n",
       "61 - 70            173\n",
       "51 - 60            141\n",
       "41 - 50             81\n",
       "91 - 100            55\n",
       "31 - 40             34\n",
       "21 - 30             19\n",
       "11 - 20              5\n",
       "0 - 10               1"
      ]
     },
     "execution_count": 27,
     "metadata": {},
     "output_type": "execute_result"
    }
   ],
   "source": [
    "count_audience_rating = count_audience_rating.sort_values(ascending = False)\n",
    "pd.DataFrame(count_audience_rating, columns = ['movies'])"
   ]
  },
  {
   "cell_type": "markdown",
   "metadata": {},
   "source": [
    "Outro resultado esperado, com as notas tendendo a aumentar. Ainda, é interessante destacar como as notas +91 aparecem bem menos que no Tomatometer, com uma maior concentração das das notas ao redor da média."
   ]
  },
  {
   "cell_type": "markdown",
   "metadata": {},
   "source": [
    "## Respondendo a Pergunta"
   ]
  },
  {
   "cell_type": "markdown",
   "metadata": {},
   "source": [
    "Após essas análises, vamos sumarizar tudo:"
   ]
  },
  {
   "cell_type": "markdown",
   "metadata": {},
   "source": [
    "### Sumário por maiores dados:"
   ]
  },
  {
   "cell_type": "code",
   "execution_count": 28,
   "metadata": {},
   "outputs": [
    {
     "data": {
      "text/html": [
       "<div>\n",
       "<style scoped>\n",
       "    .dataframe tbody tr th:only-of-type {\n",
       "        vertical-align: middle;\n",
       "    }\n",
       "\n",
       "    .dataframe tbody tr th {\n",
       "        vertical-align: top;\n",
       "    }\n",
       "\n",
       "    .dataframe thead th {\n",
       "        text-align: right;\n",
       "    }\n",
       "</style>\n",
       "<table border=\"1\" class=\"dataframe\">\n",
       "  <thead>\n",
       "    <tr style=\"text-align: right;\">\n",
       "      <th></th>\n",
       "      <th>PG-13</th>\n",
       "      <th>Dur: 91 - 120 min</th>\n",
       "      <th>Drama</th>\n",
       "      <th>IMDb: 6.1 - 7</th>\n",
       "      <th>Meta: 61 - 70</th>\n",
       "      <th>Certified-Fresh</th>\n",
       "      <th>Tomatometer: 81 - 90</th>\n",
       "      <th>Upright</th>\n",
       "      <th>Aud_RT: 81 - 90</th>\n",
       "    </tr>\n",
       "  </thead>\n",
       "  <tbody>\n",
       "    <tr>\n",
       "      <th>0</th>\n",
       "      <td>459</td>\n",
       "      <td>594</td>\n",
       "      <td>599</td>\n",
       "      <td>529</td>\n",
       "      <td>214</td>\n",
       "      <td>536</td>\n",
       "      <td>230</td>\n",
       "      <td>800</td>\n",
       "      <td>284</td>\n",
       "    </tr>\n",
       "  </tbody>\n",
       "</table>\n",
       "</div>"
      ],
      "text/plain": [
       "   PG-13  Dur: 91 - 120 min  Drama  IMDb: 6.1 - 7  Meta: 61 - 70  \\\n",
       "0    459                594    599            529            214   \n",
       "\n",
       "   Certified-Fresh  Tomatometer: 81 - 90  Upright  Aud_RT: 81 - 90  \n",
       "0              536                   230      800              284  "
      ]
     },
     "execution_count": 28,
     "metadata": {},
     "output_type": "execute_result"
    }
   ],
   "source": [
    "dicio = {'PG-13': [459], 'Dur: 91 - 120 min': [594], 'Drama': [599], 'IMDb: 6.1 - 7': [529], 'Meta: 61 - 70': [214],\n",
    "'Certified-Fresh': [536], 'Tomatometer: 81 - 90': [230], 'Upright': [800], 'Aud_RT: 81 - 90': [284]}\n",
    "\n",
    "result = pd.DataFrame(data = dicio)\n",
    "result"
   ]
  },
  {
   "cell_type": "markdown",
   "metadata": {},
   "source": [
    "### Sumário por percentuais em cada categoria:"
   ]
  },
  {
   "cell_type": "code",
   "execution_count": 29,
   "metadata": {},
   "outputs": [
    {
     "data": {
      "text/html": [
       "<div>\n",
       "<style scoped>\n",
       "    .dataframe tbody tr th:only-of-type {\n",
       "        vertical-align: middle;\n",
       "    }\n",
       "\n",
       "    .dataframe tbody tr th {\n",
       "        vertical-align: top;\n",
       "    }\n",
       "\n",
       "    .dataframe thead th {\n",
       "        text-align: right;\n",
       "    }\n",
       "</style>\n",
       "<table border=\"1\" class=\"dataframe\">\n",
       "  <thead>\n",
       "    <tr style=\"text-align: right;\">\n",
       "      <th></th>\n",
       "      <th>PG-13</th>\n",
       "      <th>Dur: 91 - 120 min</th>\n",
       "      <th>Drama</th>\n",
       "      <th>IMDb: 6.1 - 7</th>\n",
       "      <th>Meta: 61 - 70</th>\n",
       "      <th>Certified-Fresh</th>\n",
       "      <th>Tomatometer: 81 - 90</th>\n",
       "      <th>Upright</th>\n",
       "      <th>Aud_RT: 81 - 90</th>\n",
       "    </tr>\n",
       "  </thead>\n",
       "  <tbody>\n",
       "    <tr>\n",
       "      <th>0</th>\n",
       "      <td>43.22%</td>\n",
       "      <td>55.93%</td>\n",
       "      <td>56.40%</td>\n",
       "      <td>49.81%</td>\n",
       "      <td>20.15%</td>\n",
       "      <td>50.47%</td>\n",
       "      <td>21.66%</td>\n",
       "      <td>75.33%</td>\n",
       "      <td>26.74%</td>\n",
       "    </tr>\n",
       "  </tbody>\n",
       "</table>\n",
       "</div>"
      ],
      "text/plain": [
       "    PG-13 Dur: 91 - 120 min   Drama IMDb: 6.1 - 7 Meta: 61 - 70  \\\n",
       "0  43.22%            55.93%  56.40%        49.81%        20.15%   \n",
       "\n",
       "  Certified-Fresh Tomatometer: 81 - 90 Upright Aud_RT: 81 - 90  \n",
       "0          50.47%               21.66%  75.33%          26.74%  "
      ]
     },
     "execution_count": 29,
     "metadata": {},
     "output_type": "execute_result"
    }
   ],
   "source": [
    "def percen_df (n, o = df_final.shape[0]):\n",
    "    return f'{(n/o) * 100:.2f}%'\n",
    "\n",
    "dicio_percen = {'PG-13': [percen_df(459)], 'Dur: 91 - 120 min': [percen_df(594)], 'Drama': [percen_df(599)], 'IMDb: 6.1 - 7': [percen_df(529)], 'Meta: 61 - 70': [percen_df(214)],\n",
    "'Certified-Fresh': [percen_df(536)], 'Tomatometer: 81 - 90': [percen_df(230)], 'Upright': [percen_df(800)], 'Aud_RT: 81 - 90': [percen_df(284)]}\n",
    "\n",
    "result_percen = pd.DataFrame(data = dicio_percen)\n",
    "result_percen"
   ]
  },
  {
   "cell_type": "markdown",
   "metadata": {},
   "source": [
    "Conclusões:\n",
    "\n",
    "* Na classificação indicativa, a R ficou muito próxima da mais predominante PG-13. Observamos num geral que, quanto maior a classificação, maior o número de indicados;\n",
    "* Duração, gênero, status do Tomatometer e status da avaliação dos usuários no Rotten Tomatoes: houve uma grande predominância do que mais apareceu e os dados dos status foram de bem avaliados, como o esperado;\n",
    "* Quanto às notas: as notas do IMDb e do Metacritic acabaram abaixo do esperado, visto que estão pouco acima da média; gostaríamos de destacar as do IMDb, pois houve uma grande predominância dessas notas. As do Rotten Tomatoes estão dentro do que se esperava: bem acima de um filme comum."
   ]
  },
  {
   "cell_type": "markdown",
   "metadata": {},
   "source": [
    "# Dentre os indicados, qual o perfil dos filmes que foram melhor aceitos pelo público e pela crítica? Quão distintios eles são dos nomeados num geral?"
   ]
  },
  {
   "cell_type": "markdown",
   "metadata": {},
   "source": [
    "## Agrupamento\n",
    "\n",
    "Para responder essa pergunta, primeiro é importante que determinemos um padrão para os filmes que consideraremos como bem recebidos nos parâmetros estudados. Decidimos por, então:\n",
    "* Utilizar o \"Certified Fresh\" para categorizar um filme como bem recebido no Tomatometer:"
   ]
  },
  {
   "cell_type": "code",
   "execution_count": 30,
   "metadata": {},
   "outputs": [
    {
     "data": {
      "text/html": [
       "<div>\n",
       "<style scoped>\n",
       "    .dataframe tbody tr th:only-of-type {\n",
       "        vertical-align: middle;\n",
       "    }\n",
       "\n",
       "    .dataframe tbody tr th {\n",
       "        vertical-align: top;\n",
       "    }\n",
       "\n",
       "    .dataframe thead th {\n",
       "        text-align: right;\n",
       "    }\n",
       "</style>\n",
       "<table border=\"1\" class=\"dataframe\">\n",
       "  <thead>\n",
       "    <tr style=\"text-align: right;\">\n",
       "      <th></th>\n",
       "      <th>year</th>\n",
       "      <th>movie</th>\n",
       "      <th>certificate</th>\n",
       "      <th>duration</th>\n",
       "      <th>genre</th>\n",
       "      <th>rate</th>\n",
       "      <th>metascore</th>\n",
       "      <th>Oscar_Best_Picture_won</th>\n",
       "      <th>tomatometer_status</th>\n",
       "      <th>tomatometer_rating</th>\n",
       "      <th>audience_status</th>\n",
       "      <th>audience_rating</th>\n",
       "      <th>duration_break</th>\n",
       "      <th>meta_break</th>\n",
       "      <th>tomatometer_break</th>\n",
       "      <th>audience_break</th>\n",
       "    </tr>\n",
       "  </thead>\n",
       "  <tbody>\n",
       "    <tr>\n",
       "      <th>0</th>\n",
       "      <td>2002</td>\n",
       "      <td>Frida</td>\n",
       "      <td>R</td>\n",
       "      <td>123</td>\n",
       "      <td>Biography|Drama|Romance</td>\n",
       "      <td>7.4</td>\n",
       "      <td>61.0</td>\n",
       "      <td>No</td>\n",
       "      <td>Certified-Fresh</td>\n",
       "      <td>75.0</td>\n",
       "      <td>Upright</td>\n",
       "      <td>85.0</td>\n",
       "      <td>121 - 150</td>\n",
       "      <td>61 - 70</td>\n",
       "      <td>71 - 80</td>\n",
       "      <td>81 - 90</td>\n",
       "    </tr>\n",
       "  </tbody>\n",
       "</table>\n",
       "</div>"
      ],
      "text/plain": [
       "   year  movie certificate  duration                    genre  rate  \\\n",
       "0  2002  Frida           R       123  Biography|Drama|Romance   7.4   \n",
       "\n",
       "   metascore Oscar_Best_Picture_won tomatometer_status  tomatometer_rating  \\\n",
       "0       61.0                     No    Certified-Fresh                75.0   \n",
       "\n",
       "  audience_status  audience_rating duration_break meta_break  \\\n",
       "0         Upright             85.0      121 - 150    61 - 70   \n",
       "\n",
       "  tomatometer_break audience_break  \n",
       "0           71 - 80        81 - 90  "
      ]
     },
     "execution_count": 30,
     "metadata": {},
     "output_type": "execute_result"
    }
   ],
   "source": [
    "df_cut = df_final [(df_final.tomatometer_status == 'Certified-Fresh')]\n",
    "df_cut.reset_index(inplace = True, drop = True)\n",
    "df_cut.head(1)"
   ]
  },
  {
   "cell_type": "markdown",
   "metadata": {},
   "source": [
    "* Utilizar o \"Fresh\" para categorizar um filme como bem recebido na nota dos usuários do Rotten Tomatoes:"
   ]
  },
  {
   "cell_type": "code",
   "execution_count": 31,
   "metadata": {},
   "outputs": [
    {
     "data": {
      "text/html": [
       "<div>\n",
       "<style scoped>\n",
       "    .dataframe tbody tr th:only-of-type {\n",
       "        vertical-align: middle;\n",
       "    }\n",
       "\n",
       "    .dataframe tbody tr th {\n",
       "        vertical-align: top;\n",
       "    }\n",
       "\n",
       "    .dataframe thead th {\n",
       "        text-align: right;\n",
       "    }\n",
       "</style>\n",
       "<table border=\"1\" class=\"dataframe\">\n",
       "  <thead>\n",
       "    <tr style=\"text-align: right;\">\n",
       "      <th></th>\n",
       "      <th>year</th>\n",
       "      <th>movie</th>\n",
       "      <th>certificate</th>\n",
       "      <th>duration</th>\n",
       "      <th>genre</th>\n",
       "      <th>rate</th>\n",
       "      <th>metascore</th>\n",
       "      <th>Oscar_Best_Picture_won</th>\n",
       "      <th>tomatometer_status</th>\n",
       "      <th>tomatometer_rating</th>\n",
       "      <th>audience_status</th>\n",
       "      <th>audience_rating</th>\n",
       "      <th>duration_break</th>\n",
       "      <th>meta_break</th>\n",
       "      <th>tomatometer_break</th>\n",
       "      <th>audience_break</th>\n",
       "    </tr>\n",
       "  </thead>\n",
       "  <tbody>\n",
       "    <tr>\n",
       "      <th>0</th>\n",
       "      <td>2002</td>\n",
       "      <td>Frida</td>\n",
       "      <td>R</td>\n",
       "      <td>123</td>\n",
       "      <td>Biography|Drama|Romance</td>\n",
       "      <td>7.4</td>\n",
       "      <td>61.0</td>\n",
       "      <td>No</td>\n",
       "      <td>Certified-Fresh</td>\n",
       "      <td>75.0</td>\n",
       "      <td>Upright</td>\n",
       "      <td>85.0</td>\n",
       "      <td>121 - 150</td>\n",
       "      <td>61 - 70</td>\n",
       "      <td>71 - 80</td>\n",
       "      <td>81 - 90</td>\n",
       "    </tr>\n",
       "  </tbody>\n",
       "</table>\n",
       "</div>"
      ],
      "text/plain": [
       "   year  movie certificate  duration                    genre  rate  \\\n",
       "0  2002  Frida           R       123  Biography|Drama|Romance   7.4   \n",
       "\n",
       "   metascore Oscar_Best_Picture_won tomatometer_status  tomatometer_rating  \\\n",
       "0       61.0                     No    Certified-Fresh                75.0   \n",
       "\n",
       "  audience_status  audience_rating duration_break meta_break  \\\n",
       "0         Upright             85.0      121 - 150    61 - 70   \n",
       "\n",
       "  tomatometer_break audience_break  \n",
       "0           71 - 80        81 - 90  "
      ]
     },
     "execution_count": 31,
     "metadata": {},
     "output_type": "execute_result"
    }
   ],
   "source": [
    "df_rotten = df_cut.loc[df_cut['movie'] == 'Spilled']\n",
    "df_cut = df_cut.drop(df_rotten.index)\n",
    "df_cut.reset_index(inplace = True, drop = True)\n",
    "df_cut.head(1)"
   ]
  },
  {
   "cell_type": "markdown",
   "metadata": {},
   "source": [
    "* A partir daqui, temos um dataframe que contém apenas os filmes mais bem avaliados do site do Rotten. Agora, vamos agrupar esses dados conforme as notas do IMDb e do Metacritic.\n",
    "Usaremos o método do cotovelo para determinar qual o melhor número de grupos que podemos formar:"
   ]
  },
  {
   "cell_type": "code",
   "execution_count": 32,
   "metadata": {},
   "outputs": [
    {
     "data": {
      "image/png": "[encoded data removed]",
      "text/plain": [
       "<Figure size 1152x504 with 1 Axes>"
      ]
     },
     "metadata": {
      "needs_background": "light"
     },
     "output_type": "display_data"
    }
   ],
   "source": [
    "#Dataframe auxiliar para plotar o gráfico:\n",
    "aux = df_cut.reindex(columns = ['rate', 'metascore'])\n",
    "\n",
    "#Aplicando o método:\n",
    "inercia = []\n",
    "\n",
    "for i in range (1, 11):\n",
    "    kmeans = KMeans(n_clusters = i, init = 'k-means++', max_iter = 300, n_init = 10)\n",
    "    kmeans.fit(aux)\n",
    "    inercia.append(kmeans.inertia_)\n",
    "\n",
    "f, axs = plt.subplots(figsize = (16, 7))\n",
    "plt.plot(range(1, 11), inercia, color = 'k')\n",
    "plt.title(\"Método do Cotovelo\")\n",
    "plt.xlabel(\"Número de Clusters\")\n",
    "plt.ylabel(\"Inércia\")\n",
    "plt.show()"
   ]
  },
  {
   "cell_type": "markdown",
   "metadata": {},
   "source": [
    "O valor 2 mostra ser o ponto de \"cotovelo\" do gráfico, assim, faremos 2 grupos:"
   ]
  },
  {
   "cell_type": "code",
   "execution_count": 33,
   "metadata": {},
   "outputs": [
    {
     "data": {
      "text/html": [
       "<div>\n",
       "<style scoped>\n",
       "    .dataframe tbody tr th:only-of-type {\n",
       "        vertical-align: middle;\n",
       "    }\n",
       "\n",
       "    .dataframe tbody tr th {\n",
       "        vertical-align: top;\n",
       "    }\n",
       "\n",
       "    .dataframe thead th {\n",
       "        text-align: right;\n",
       "    }\n",
       "</style>\n",
       "<table border=\"1\" class=\"dataframe\">\n",
       "  <thead>\n",
       "    <tr style=\"text-align: right;\">\n",
       "      <th></th>\n",
       "      <th>year</th>\n",
       "      <th>movie</th>\n",
       "      <th>certificate</th>\n",
       "      <th>duration</th>\n",
       "      <th>genre</th>\n",
       "      <th>rate</th>\n",
       "      <th>metascore</th>\n",
       "      <th>Oscar_Best_Picture_won</th>\n",
       "      <th>tomatometer_status</th>\n",
       "      <th>tomatometer_rating</th>\n",
       "      <th>audience_status</th>\n",
       "      <th>audience_rating</th>\n",
       "      <th>duration_break</th>\n",
       "      <th>meta_break</th>\n",
       "      <th>tomatometer_break</th>\n",
       "      <th>audience_break</th>\n",
       "      <th>cluster</th>\n",
       "    </tr>\n",
       "  </thead>\n",
       "  <tbody>\n",
       "    <tr>\n",
       "      <th>0</th>\n",
       "      <td>2002</td>\n",
       "      <td>Frida</td>\n",
       "      <td>R</td>\n",
       "      <td>123</td>\n",
       "      <td>Biography|Drama|Romance</td>\n",
       "      <td>7.4</td>\n",
       "      <td>61.0</td>\n",
       "      <td>No</td>\n",
       "      <td>Certified-Fresh</td>\n",
       "      <td>75.0</td>\n",
       "      <td>Upright</td>\n",
       "      <td>85.0</td>\n",
       "      <td>121 - 150</td>\n",
       "      <td>61 - 70</td>\n",
       "      <td>71 - 80</td>\n",
       "      <td>81 - 90</td>\n",
       "      <td>0</td>\n",
       "    </tr>\n",
       "    <tr>\n",
       "      <th>1</th>\n",
       "      <td>2001</td>\n",
       "      <td>The Lord of the Rings: The Fellowship of the Ring</td>\n",
       "      <td>PG-13</td>\n",
       "      <td>178</td>\n",
       "      <td>Adventure|Drama|Fantasy</td>\n",
       "      <td>8.8</td>\n",
       "      <td>92.0</td>\n",
       "      <td>No</td>\n",
       "      <td>Certified-Fresh</td>\n",
       "      <td>91.0</td>\n",
       "      <td>Upright</td>\n",
       "      <td>95.0</td>\n",
       "      <td>151 - 180</td>\n",
       "      <td>91 - 100</td>\n",
       "      <td>91 - 100</td>\n",
       "      <td>91 - 100</td>\n",
       "      <td>1</td>\n",
       "    </tr>\n",
       "    <tr>\n",
       "      <th>2</th>\n",
       "      <td>2005</td>\n",
       "      <td>Star Wars: Episode III - Revenge of the Sith</td>\n",
       "      <td>PG-13</td>\n",
       "      <td>140</td>\n",
       "      <td>Action|Adventure|Fantasy</td>\n",
       "      <td>7.6</td>\n",
       "      <td>68.0</td>\n",
       "      <td>No</td>\n",
       "      <td>Certified-Fresh</td>\n",
       "      <td>80.0</td>\n",
       "      <td>Upright</td>\n",
       "      <td>66.0</td>\n",
       "      <td>121 - 150</td>\n",
       "      <td>61 - 70</td>\n",
       "      <td>71 - 80</td>\n",
       "      <td>61 - 70</td>\n",
       "      <td>0</td>\n",
       "    </tr>\n",
       "    <tr>\n",
       "      <th>3</th>\n",
       "      <td>2001</td>\n",
       "      <td>Shrek</td>\n",
       "      <td>PG</td>\n",
       "      <td>90</td>\n",
       "      <td>Animation|Adventure|Comedy</td>\n",
       "      <td>7.9</td>\n",
       "      <td>84.0</td>\n",
       "      <td>No</td>\n",
       "      <td>Certified-Fresh</td>\n",
       "      <td>88.0</td>\n",
       "      <td>Upright</td>\n",
       "      <td>90.0</td>\n",
       "      <td>61 - 90</td>\n",
       "      <td>81 - 90</td>\n",
       "      <td>81 - 90</td>\n",
       "      <td>81 - 90</td>\n",
       "      <td>1</td>\n",
       "    </tr>\n",
       "    <tr>\n",
       "      <th>4</th>\n",
       "      <td>2001</td>\n",
       "      <td>Planet of the Apes</td>\n",
       "      <td>PG-13</td>\n",
       "      <td>119</td>\n",
       "      <td>Action|Adventure|Sci-Fi</td>\n",
       "      <td>5.7</td>\n",
       "      <td>50.0</td>\n",
       "      <td>No</td>\n",
       "      <td>Certified-Fresh</td>\n",
       "      <td>87.0</td>\n",
       "      <td>Upright</td>\n",
       "      <td>87.0</td>\n",
       "      <td>91 - 120</td>\n",
       "      <td>41 - 50</td>\n",
       "      <td>81 - 90</td>\n",
       "      <td>81 - 90</td>\n",
       "      <td>0</td>\n",
       "    </tr>\n",
       "  </tbody>\n",
       "</table>\n",
       "</div>"
      ],
      "text/plain": [
       "   year                                              movie certificate  \\\n",
       "0  2002                                              Frida           R   \n",
       "1  2001  The Lord of the Rings: The Fellowship of the Ring       PG-13   \n",
       "2  2005       Star Wars: Episode III - Revenge of the Sith       PG-13   \n",
       "3  2001                                              Shrek          PG   \n",
       "4  2001                                 Planet of the Apes       PG-13   \n",
       "\n",
       "   duration                       genre  rate  metascore  \\\n",
       "0       123     Biography|Drama|Romance   7.4       61.0   \n",
       "1       178     Adventure|Drama|Fantasy   8.8       92.0   \n",
       "2       140    Action|Adventure|Fantasy   7.6       68.0   \n",
       "3        90  Animation|Adventure|Comedy   7.9       84.0   \n",
       "4       119     Action|Adventure|Sci-Fi   5.7       50.0   \n",
       "\n",
       "  Oscar_Best_Picture_won tomatometer_status  tomatometer_rating  \\\n",
       "0                     No    Certified-Fresh                75.0   \n",
       "1                     No    Certified-Fresh                91.0   \n",
       "2                     No    Certified-Fresh                80.0   \n",
       "3                     No    Certified-Fresh                88.0   \n",
       "4                     No    Certified-Fresh                87.0   \n",
       "\n",
       "  audience_status  audience_rating duration_break meta_break  \\\n",
       "0         Upright             85.0      121 - 150    61 - 70   \n",
       "1         Upright             95.0      151 - 180   91 - 100   \n",
       "2         Upright             66.0      121 - 150    61 - 70   \n",
       "3         Upright             90.0        61 - 90    81 - 90   \n",
       "4         Upright             87.0       91 - 120    41 - 50   \n",
       "\n",
       "  tomatometer_break audience_break  cluster  \n",
       "0           71 - 80        81 - 90        0  \n",
       "1          91 - 100       91 - 100        1  \n",
       "2           71 - 80        61 - 70        0  \n",
       "3           81 - 90        81 - 90        1  \n",
       "4           81 - 90        81 - 90        0  "
      ]
     },
     "execution_count": 33,
     "metadata": {},
     "output_type": "execute_result"
    }
   ],
   "source": [
    "#Aplicando:\n",
    "kmeans = KMeans(n_clusters = 2, init = 'k-means++', max_iter = 300, n_init = 10)\n",
    "clusters = kmeans.fit_predict(aux)\n",
    "\n",
    "#Dataframe com o cluster:\n",
    "aux['cluster'] = clusters\n",
    "df_cut['cluster'] = clusters\n",
    "df_cut.head()"
   ]
  },
  {
   "cell_type": "code",
   "execution_count": 34,
   "metadata": {},
   "outputs": [
    {
     "data": {
      "text/plain": [
       "<matplotlib.legend.Legend at 0x257d1a377f0>"
      ]
     },
     "execution_count": 34,
     "metadata": {},
     "output_type": "execute_result"
    },
    {
     "data": {
      "image/png": "[encoded data removed]",
      "text/plain": [
       "<Figure size 1152x504 with 1 Axes>"
      ]
     },
     "metadata": {
      "needs_background": "light"
     },
     "output_type": "display_data"
    }
   ],
   "source": [
    "#Visualização:\n",
    "\n",
    "cl_1 = df_cut[df_cut['cluster'] == 0]\n",
    "cl_2 = df_cut[df_cut['cluster'] == 1]\n",
    "\n",
    "f, axs = plt.subplots(figsize = (16, 7))\n",
    "\n",
    "plt.scatter(cl_1[['rate']], y = cl_1[['metascore']], s = 100, c = \"blue\", alpha = 0.5)\n",
    "plt.scatter(cl_2[['rate']], y = cl_2[['metascore']], s = 100, c = \"green\", alpha = 0.5)\n",
    "\n",
    "plt.xlabel(\"Avaliação no IMDb\")\n",
    "plt.ylabel(\"Metascore\")\n",
    "\n",
    "plt.scatter(kmeans.cluster_centers_[:,0], kmeans.cluster_centers_[:,1], s = 250, color = \"black\", marker = \".\", label = \"centroid\")\n",
    "plt.legend()"
   ]
  },
  {
   "cell_type": "markdown",
   "metadata": {},
   "source": [
    "O grupo azul possui notas mais favoráveis em ambos os parâmetros, então utilizaremos ele para a análise:"
   ]
  },
  {
   "cell_type": "code",
   "execution_count": 35,
   "metadata": {},
   "outputs": [
    {
     "name": "stdout",
     "output_type": "stream",
     "text": [
      "Número de filmes no grupo azul: 250.\n"
     ]
    }
   ],
   "source": [
    "#Assumindo somente os filmes do grupo azul:\n",
    "df_cut = df_cut[df_cut.cluster == 1]\n",
    "df_cut.reset_index(inplace = True, drop = True)\n",
    "\n",
    "print(f'Número de filmes no grupo azul: {df_cut.shape[0]}.')"
   ]
  },
  {
   "cell_type": "markdown",
   "metadata": {},
   "source": [
    "## Perfil do grupo\n",
    "\n",
    "* Processo muito semelhante àquele feito na primeira pergunta, então, comentaremos apenas os resultados."
   ]
  },
  {
   "cell_type": "markdown",
   "metadata": {},
   "source": [
    "### Classificação Indicativa"
   ]
  },
  {
   "cell_type": "code",
   "execution_count": 36,
   "metadata": {},
   "outputs": [
    {
     "data": {
      "text/plain": [
       "[Text(0.5, 0, 'Certificados'), Text(0, 0.5, 'Nº de Filmes')]"
      ]
     },
     "execution_count": 36,
     "metadata": {},
     "output_type": "execute_result"
    },
    {
     "data": {
      "image/png": "[encoded data removed]",
      "text/plain": [
       "<Figure size 1152x504 with 1 Axes>"
      ]
     },
     "metadata": {},
     "output_type": "display_data"
    }
   ],
   "source": [
    "count_cert_cut = df_cut.groupby(['certificate']).size()\n",
    "count_cert_cut = count_cert_cut.reindex(index = ['Not Rated', 'G', 'PG', 'PG-13', 'R'])\n",
    "sns.set_theme(font_scale = 1.0, palette = 'ch:s=.25,rot=-.25')\n",
    "f, axs = plt.subplots(figsize = (16, 7))\n",
    "graph_cert_cut = sns.barplot(x = count_cert_cut.index, y = count_cert_cut.values)\n",
    "graph_cert_cut.set(xlabel = 'Certificados', ylabel = 'Nº de Filmes')"
   ]
  },
  {
   "cell_type": "code",
   "execution_count": 37,
   "metadata": {},
   "outputs": [
    {
     "data": {
      "text/html": [
       "<div>\n",
       "<style scoped>\n",
       "    .dataframe tbody tr th:only-of-type {\n",
       "        vertical-align: middle;\n",
       "    }\n",
       "\n",
       "    .dataframe tbody tr th {\n",
       "        vertical-align: top;\n",
       "    }\n",
       "\n",
       "    .dataframe thead th {\n",
       "        text-align: right;\n",
       "    }\n",
       "</style>\n",
       "<table border=\"1\" class=\"dataframe\">\n",
       "  <thead>\n",
       "    <tr style=\"text-align: right;\">\n",
       "      <th></th>\n",
       "      <th>movies</th>\n",
       "    </tr>\n",
       "    <tr>\n",
       "      <th>certificate</th>\n",
       "      <th></th>\n",
       "    </tr>\n",
       "  </thead>\n",
       "  <tbody>\n",
       "    <tr>\n",
       "      <th>R</th>\n",
       "      <td>141</td>\n",
       "    </tr>\n",
       "    <tr>\n",
       "      <th>PG-13</th>\n",
       "      <td>74</td>\n",
       "    </tr>\n",
       "    <tr>\n",
       "      <th>PG</th>\n",
       "      <td>26</td>\n",
       "    </tr>\n",
       "    <tr>\n",
       "      <th>Not Rated</th>\n",
       "      <td>5</td>\n",
       "    </tr>\n",
       "    <tr>\n",
       "      <th>G</th>\n",
       "      <td>4</td>\n",
       "    </tr>\n",
       "  </tbody>\n",
       "</table>\n",
       "</div>"
      ],
      "text/plain": [
       "             movies\n",
       "certificate        \n",
       "R               141\n",
       "PG-13            74\n",
       "PG               26\n",
       "Not Rated         5\n",
       "G                 4"
      ]
     },
     "execution_count": 37,
     "metadata": {},
     "output_type": "execute_result"
    }
   ],
   "source": [
    "count_cert_cut = count_cert_cut.sort_values(ascending = False)\n",
    "pd.DataFrame(count_cert_cut, columns = ['movies'])"
   ]
  },
  {
   "cell_type": "markdown",
   "metadata": {},
   "source": [
    "Podemos ver que os filmes com o certificado R assumiram aqui com um certo conforto pro segundo lugar, sendo mais da metade do grupo."
   ]
  },
  {
   "cell_type": "markdown",
   "metadata": {},
   "source": [
    "### Duração"
   ]
  },
  {
   "cell_type": "code",
   "execution_count": 38,
   "metadata": {},
   "outputs": [
    {
     "data": {
      "text/plain": [
       "[Text(0.5, 0, 'Duração'), Text(0, 0.5, 'Nº de Filmes')]"
      ]
     },
     "execution_count": 38,
     "metadata": {},
     "output_type": "execute_result"
    },
    {
     "data": {
      "image/png": "[encoded data removed]",
      "text/plain": [
       "<Figure size 1152x504 with 1 Axes>"
      ]
     },
     "metadata": {},
     "output_type": "display_data"
    }
   ],
   "source": [
    "count_dur_cut = df_cut\n",
    "count_dur_cut['duration_break'] = count_dur_cut['duration'].apply(n_break, args = (1, 30, 30))\n",
    "count_dur_cut = count_dur_cut.groupby(['duration_break']).size()\n",
    "count_dur_cut = count_dur_cut.reindex(index = ['61 - 90', '91 - 120', '121 - 150', '151 - 180', '181 - 210', '211 - 240'])\n",
    "f, axs = plt.subplots(figsize = (16, 7))\n",
    "graph_dur_cut = sns.barplot(x = count_dur_cut.index, y = count_dur_cut.values)\n",
    "graph_dur_cut.set(xlabel = 'Duração', ylabel = 'Nº de Filmes')\n"
   ]
  },
  {
   "cell_type": "code",
   "execution_count": 39,
   "metadata": {},
   "outputs": [
    {
     "data": {
      "text/html": [
       "<div>\n",
       "<style scoped>\n",
       "    .dataframe tbody tr th:only-of-type {\n",
       "        vertical-align: middle;\n",
       "    }\n",
       "\n",
       "    .dataframe tbody tr th {\n",
       "        vertical-align: top;\n",
       "    }\n",
       "\n",
       "    .dataframe thead th {\n",
       "        text-align: right;\n",
       "    }\n",
       "</style>\n",
       "<table border=\"1\" class=\"dataframe\">\n",
       "  <thead>\n",
       "    <tr style=\"text-align: right;\">\n",
       "      <th></th>\n",
       "      <th>movies</th>\n",
       "    </tr>\n",
       "    <tr>\n",
       "      <th>duration_break</th>\n",
       "      <th></th>\n",
       "    </tr>\n",
       "  </thead>\n",
       "  <tbody>\n",
       "    <tr>\n",
       "      <th>91 - 120</th>\n",
       "      <td>138</td>\n",
       "    </tr>\n",
       "    <tr>\n",
       "      <th>121 - 150</th>\n",
       "      <td>77</td>\n",
       "    </tr>\n",
       "    <tr>\n",
       "      <th>151 - 180</th>\n",
       "      <td>17</td>\n",
       "    </tr>\n",
       "    <tr>\n",
       "      <th>61 - 90</th>\n",
       "      <td>14</td>\n",
       "    </tr>\n",
       "    <tr>\n",
       "      <th>181 - 210</th>\n",
       "      <td>3</td>\n",
       "    </tr>\n",
       "    <tr>\n",
       "      <th>211 - 240</th>\n",
       "      <td>1</td>\n",
       "    </tr>\n",
       "  </tbody>\n",
       "</table>\n",
       "</div>"
      ],
      "text/plain": [
       "                movies\n",
       "duration_break        \n",
       "91 - 120           138\n",
       "121 - 150           77\n",
       "151 - 180           17\n",
       "61 - 90             14\n",
       "181 - 210            3\n",
       "211 - 240            1"
      ]
     },
     "execution_count": 39,
     "metadata": {},
     "output_type": "execute_result"
    }
   ],
   "source": [
    "count_dur_cut = count_dur_cut.sort_values(ascending = False)\n",
    "pd.DataFrame(count_dur_cut, columns = ['movies'])"
   ]
  },
  {
   "cell_type": "markdown",
   "metadata": {},
   "source": [
    "Novamente, percebemos a predominância de uma característica, neste caso, os filmes de 1 hora e meia a 2 horas."
   ]
  },
  {
   "cell_type": "markdown",
   "metadata": {},
   "source": [
    "### Gênero"
   ]
  },
  {
   "cell_type": "code",
   "execution_count": 40,
   "metadata": {},
   "outputs": [
    {
     "data": {
      "text/html": [
       "<div>\n",
       "<style scoped>\n",
       "    .dataframe tbody tr th:only-of-type {\n",
       "        vertical-align: middle;\n",
       "    }\n",
       "\n",
       "    .dataframe tbody tr th {\n",
       "        vertical-align: top;\n",
       "    }\n",
       "\n",
       "    .dataframe thead th {\n",
       "        text-align: right;\n",
       "    }\n",
       "</style>\n",
       "<table border=\"1\" class=\"dataframe\">\n",
       "  <thead>\n",
       "    <tr style=\"text-align: right;\">\n",
       "      <th></th>\n",
       "      <th>genre</th>\n",
       "      <th>movies</th>\n",
       "    </tr>\n",
       "  </thead>\n",
       "  <tbody>\n",
       "    <tr>\n",
       "      <th>0</th>\n",
       "      <td>Drama</td>\n",
       "      <td>200</td>\n",
       "    </tr>\n",
       "    <tr>\n",
       "      <th>1</th>\n",
       "      <td>Comedy</td>\n",
       "      <td>61</td>\n",
       "    </tr>\n",
       "    <tr>\n",
       "      <th>2</th>\n",
       "      <td>Adventure</td>\n",
       "      <td>50</td>\n",
       "    </tr>\n",
       "    <tr>\n",
       "      <th>3</th>\n",
       "      <td>Romance</td>\n",
       "      <td>40</td>\n",
       "    </tr>\n",
       "    <tr>\n",
       "      <th>4</th>\n",
       "      <td>Biography</td>\n",
       "      <td>34</td>\n",
       "    </tr>\n",
       "    <tr>\n",
       "      <th>5</th>\n",
       "      <td>Action</td>\n",
       "      <td>29</td>\n",
       "    </tr>\n",
       "    <tr>\n",
       "      <th>6</th>\n",
       "      <td>Crime</td>\n",
       "      <td>29</td>\n",
       "    </tr>\n",
       "    <tr>\n",
       "      <th>7</th>\n",
       "      <td>Thriller</td>\n",
       "      <td>27</td>\n",
       "    </tr>\n",
       "    <tr>\n",
       "      <th>8</th>\n",
       "      <td>Animation</td>\n",
       "      <td>24</td>\n",
       "    </tr>\n",
       "    <tr>\n",
       "      <th>9</th>\n",
       "      <td>Mystery</td>\n",
       "      <td>22</td>\n",
       "    </tr>\n",
       "    <tr>\n",
       "      <th>10</th>\n",
       "      <td>History</td>\n",
       "      <td>20</td>\n",
       "    </tr>\n",
       "    <tr>\n",
       "      <th>11</th>\n",
       "      <td>Family</td>\n",
       "      <td>17</td>\n",
       "    </tr>\n",
       "    <tr>\n",
       "      <th>12</th>\n",
       "      <td>Fantasy</td>\n",
       "      <td>16</td>\n",
       "    </tr>\n",
       "    <tr>\n",
       "      <th>13</th>\n",
       "      <td>Sci-Fi</td>\n",
       "      <td>15</td>\n",
       "    </tr>\n",
       "    <tr>\n",
       "      <th>14</th>\n",
       "      <td>Musical</td>\n",
       "      <td>12</td>\n",
       "    </tr>\n",
       "    <tr>\n",
       "      <th>15</th>\n",
       "      <td>War</td>\n",
       "      <td>11</td>\n",
       "    </tr>\n",
       "    <tr>\n",
       "      <th>16</th>\n",
       "      <td>Horror</td>\n",
       "      <td>7</td>\n",
       "    </tr>\n",
       "    <tr>\n",
       "      <th>17</th>\n",
       "      <td>Sport</td>\n",
       "      <td>6</td>\n",
       "    </tr>\n",
       "    <tr>\n",
       "      <th>18</th>\n",
       "      <td>Western</td>\n",
       "      <td>4</td>\n",
       "    </tr>\n",
       "  </tbody>\n",
       "</table>\n",
       "</div>"
      ],
      "text/plain": [
       "        genre  movies\n",
       "0       Drama     200\n",
       "1      Comedy      61\n",
       "2   Adventure      50\n",
       "3     Romance      40\n",
       "4   Biography      34\n",
       "5      Action      29\n",
       "6       Crime      29\n",
       "7    Thriller      27\n",
       "8   Animation      24\n",
       "9     Mystery      22\n",
       "10    History      20\n",
       "11     Family      17\n",
       "12    Fantasy      16\n",
       "13     Sci-Fi      15\n",
       "14    Musical      12\n",
       "15        War      11\n",
       "16     Horror       7\n",
       "17      Sport       6\n",
       "18    Western       4"
      ]
     },
     "execution_count": 40,
     "metadata": {},
     "output_type": "execute_result"
    }
   ],
   "source": [
    "dicio_gen_cut = {}\n",
    "for i in range(df_cut.shape[0]):\n",
    "    dicio_gen_cut = str_count(df_cut.loc[i, 'genre'], dicio_gen_cut)\n",
    "count_gen_cut = pd.DataFrame(list(dicio_gen_cut.items()), columns = ['genre', 'movies'])\n",
    "pos_Music2 = count_gen_cut.loc[count_gen_cut['genre'] == 'Music']\n",
    "\n",
    "pos_Musical2 = count_gen_cut.loc[count_gen_cut['genre'] == 'Musical']\n",
    "pos_Musical2.movies.values[0] += pos_Music2.movies.values[0]\n",
    "count_gen_cut.at[pos_Musical2.index[0], 'movies'] = pos_Musical2.movies.values[0]\n",
    "count_gen_cut.drop(pos_Music2.index[0], inplace = True)\n",
    "\n",
    "pos_Histor2 = count_gen_cut.loc[count_gen_cut['genre'] == 'Histor']\n",
    "pos_History2 = count_gen_cut.loc[count_gen_cut['genre'] == 'History']\n",
    "pos_History2.movies.values[0] += pos_Histor2.movies.values[0]\n",
    "count_gen_cut.at[pos_History2.index[0], 'movies'] = pos_History2.movies.values[0]\n",
    "count_gen_cut.drop(pos_Histor2.index[0], inplace = True)\n",
    "\n",
    "count_gen_cut = count_gen_cut.sort_values(['movies'], ascending = False)\n",
    "count_gen_cut.reset_index(inplace = True, drop = True)\n",
    "count_gen_cut"
   ]
  },
  {
   "cell_type": "markdown",
   "metadata": {},
   "source": [
    "### Nota do Usuários - IMDb"
   ]
  },
  {
   "cell_type": "code",
   "execution_count": 41,
   "metadata": {},
   "outputs": [
    {
     "data": {
      "text/plain": [
       "[Text(0.5, 0, 'Notas no IMDb'), Text(0, 0.5, 'Nº de filmes')]"
      ]
     },
     "execution_count": 41,
     "metadata": {},
     "output_type": "execute_result"
    },
    {
     "data": {
      "image/png": "[encoded data removed]",
      "text/plain": [
       "<Figure size 1152x504 with 1 Axes>"
      ]
     },
     "metadata": {},
     "output_type": "display_data"
    }
   ],
   "source": [
    "count_rate_cut = df_cut\n",
    "count_rate_cut = count_rate_cut['rate'].apply(inteirar)\n",
    "count_rate_cut['rate_break'] = count_rate_cut.apply(n_break, args = (0, 1, 1, False))\n",
    "count_rate_cut = count_rate_cut.groupby(['rate_break']).size()\n",
    "f, axs = plt.subplots(figsize = (16, 7))\n",
    "graph_rate_cut = sns.barplot(x = count_rate_cut.index, y = count_rate_cut.values)\n",
    "graph_rate_cut.set(xlabel = 'Notas no IMDb', ylabel = 'Nº de filmes')"
   ]
  },
  {
   "cell_type": "code",
   "execution_count": 42,
   "metadata": {},
   "outputs": [
    {
     "data": {
      "text/plain": [
       "rate\n",
       "6.1 - 7    173\n",
       "7.1 - 8     65\n",
       "5.1 - 6     11\n",
       "8.1 - 9      1\n",
       "Name: rate, dtype: int64"
      ]
     },
     "execution_count": 42,
     "metadata": {},
     "output_type": "execute_result"
    }
   ],
   "source": [
    "count_rate_cut = count_rate_cut.sort_values(ascending = False)\n",
    "count_rate_cut"
   ]
  },
  {
   "cell_type": "markdown",
   "metadata": {},
   "source": [
    "Podemos perceber que há uma grande dominância entre 6.1 - 7.0 sobre as demais. Apesar de já ser uma avaliação positiva, a falta de filmes em intervalos maiores é inesperada."
   ]
  },
  {
   "cell_type": "markdown",
   "metadata": {},
   "source": [
    "### Metascore"
   ]
  },
  {
   "cell_type": "code",
   "execution_count": 43,
   "metadata": {},
   "outputs": [
    {
     "data": {
      "text/plain": [
       "[Text(0.5, 0, 'Metascore'), Text(0, 0.5, 'Nº de filmes')]"
      ]
     },
     "execution_count": 43,
     "metadata": {},
     "output_type": "execute_result"
    },
    {
     "data": {
      "image/png": "[encoded data removed]",
      "text/plain": [
       "<Figure size 1152x504 with 1 Axes>"
      ]
     },
     "metadata": {},
     "output_type": "display_data"
    }
   ],
   "source": [
    "count_meta_cut = df_cut\n",
    "count_meta_cut['meta_break'] = count_meta_cut['metascore'].apply(n_break, args = (0, 10, 10))\n",
    "count_meta_cut = count_meta_cut.groupby(['meta_break']).size()\n",
    "f, axs = plt.subplots(figsize = (16, 7))\n",
    "graph_meta_cut = sns.barplot(x = count_meta_cut.index, y = count_meta_cut.values)\n",
    "graph_meta_cut.set(xlabel = 'Metascore', ylabel = 'Nº de filmes')"
   ]
  },
  {
   "cell_type": "code",
   "execution_count": 44,
   "metadata": {},
   "outputs": [
    {
     "data": {
      "text/html": [
       "<div>\n",
       "<style scoped>\n",
       "    .dataframe tbody tr th:only-of-type {\n",
       "        vertical-align: middle;\n",
       "    }\n",
       "\n",
       "    .dataframe tbody tr th {\n",
       "        vertical-align: top;\n",
       "    }\n",
       "\n",
       "    .dataframe thead th {\n",
       "        text-align: right;\n",
       "    }\n",
       "</style>\n",
       "<table border=\"1\" class=\"dataframe\">\n",
       "  <thead>\n",
       "    <tr style=\"text-align: right;\">\n",
       "      <th></th>\n",
       "      <th>movies</th>\n",
       "    </tr>\n",
       "    <tr>\n",
       "      <th>meta_break</th>\n",
       "      <th></th>\n",
       "    </tr>\n",
       "  </thead>\n",
       "  <tbody>\n",
       "    <tr>\n",
       "      <th>81 - 90</th>\n",
       "      <td>157</td>\n",
       "    </tr>\n",
       "    <tr>\n",
       "      <th>71 - 80</th>\n",
       "      <td>54</td>\n",
       "    </tr>\n",
       "    <tr>\n",
       "      <th>91 - 100</th>\n",
       "      <td>39</td>\n",
       "    </tr>\n",
       "  </tbody>\n",
       "</table>\n",
       "</div>"
      ],
      "text/plain": [
       "            movies\n",
       "meta_break        \n",
       "81 - 90        157\n",
       "71 - 80         54\n",
       "91 - 100        39"
      ]
     },
     "execution_count": 44,
     "metadata": {},
     "output_type": "execute_result"
    }
   ],
   "source": [
    "count_meta_cut = count_meta_cut.sort_values(ascending = False)\n",
    "pd.DataFrame(count_meta_cut, columns = ['movies'])"
   ]
  },
  {
   "cell_type": "markdown",
   "metadata": {},
   "source": [
    "Os resultados aqui foram bem positivos, com o Metascore se concentrando entre ótimas avaliações."
   ]
  },
  {
   "cell_type": "markdown",
   "metadata": {},
   "source": [
    "### Tomatometer"
   ]
  },
  {
   "cell_type": "code",
   "execution_count": 45,
   "metadata": {},
   "outputs": [
    {
     "data": {
      "text/plain": [
       "[Text(0.5, 0, 'Notas'), Text(0, 0.5, 'Nº de filmes')]"
      ]
     },
     "execution_count": 45,
     "metadata": {},
     "output_type": "execute_result"
    },
    {
     "data": {
      "image/png": "[encoded data removed]",
      "text/plain": [
       "<Figure size 1152x504 with 1 Axes>"
      ]
     },
     "metadata": {},
     "output_type": "display_data"
    }
   ],
   "source": [
    "count_tomatometer_rating_cut = df_cut\n",
    "count_tomatometer_rating_cut['tomatometer_break'] = count_tomatometer_rating_cut['tomatometer_rating'].apply(n_break, args = (0, 10, 10))\n",
    "count_tomatometer_rating_cut = count_tomatometer_rating_cut.groupby(['tomatometer_break']).size()\n",
    "f, axs = plt.subplots(figsize = (16, 7))\n",
    "graph_tomatometer_rating_cut = sns.barplot(x = count_tomatometer_rating_cut.index, y = count_tomatometer_rating_cut.values)\n",
    "graph_tomatometer_rating_cut.set(xlabel = 'Notas', ylabel = 'Nº de filmes')"
   ]
  },
  {
   "cell_type": "code",
   "execution_count": 46,
   "metadata": {},
   "outputs": [
    {
     "data": {
      "text/html": [
       "<div>\n",
       "<style scoped>\n",
       "    .dataframe tbody tr th:only-of-type {\n",
       "        vertical-align: middle;\n",
       "    }\n",
       "\n",
       "    .dataframe tbody tr th {\n",
       "        vertical-align: top;\n",
       "    }\n",
       "\n",
       "    .dataframe thead th {\n",
       "        text-align: right;\n",
       "    }\n",
       "</style>\n",
       "<table border=\"1\" class=\"dataframe\">\n",
       "  <thead>\n",
       "    <tr style=\"text-align: right;\">\n",
       "      <th></th>\n",
       "      <th>movies</th>\n",
       "    </tr>\n",
       "    <tr>\n",
       "      <th>tomatometer_break</th>\n",
       "      <th></th>\n",
       "    </tr>\n",
       "  </thead>\n",
       "  <tbody>\n",
       "    <tr>\n",
       "      <th>91 - 100</th>\n",
       "      <td>161</td>\n",
       "    </tr>\n",
       "    <tr>\n",
       "      <th>81 - 90</th>\n",
       "      <td>84</td>\n",
       "    </tr>\n",
       "    <tr>\n",
       "      <th>71 - 80</th>\n",
       "      <td>5</td>\n",
       "    </tr>\n",
       "  </tbody>\n",
       "</table>\n",
       "</div>"
      ],
      "text/plain": [
       "                   movies\n",
       "tomatometer_break        \n",
       "91 - 100              161\n",
       "81 - 90                84\n",
       "71 - 80                 5"
      ]
     },
     "execution_count": 46,
     "metadata": {},
     "output_type": "execute_result"
    }
   ],
   "source": [
    "count_tomatometer_rating_cut = count_tomatometer_rating_cut.sort_values(ascending = False)\n",
    "pd.DataFrame(count_tomatometer_rating_cut, columns = ['movies'])"
   ]
  },
  {
   "cell_type": "markdown",
   "metadata": {},
   "source": [
    "Como o filtro no corte foram filmes com no mínimo 75, já esperávamos notas altas, contudo, ainda é importante destacar como a maior concentração está no maior intervalo."
   ]
  },
  {
   "cell_type": "markdown",
   "metadata": {},
   "source": [
    "### Nota do Usuários - RT"
   ]
  },
  {
   "cell_type": "code",
   "execution_count": 47,
   "metadata": {},
   "outputs": [
    {
     "data": {
      "text/plain": [
       "[Text(0.5, 0, 'Notas'), Text(0, 0.5, 'Nº de filmes')]"
      ]
     },
     "execution_count": 47,
     "metadata": {},
     "output_type": "execute_result"
    },
    {
     "data": {
      "image/png": "[encoded data removed]",
      "text/plain": [
       "<Figure size 1152x504 with 1 Axes>"
      ]
     },
     "metadata": {},
     "output_type": "display_data"
    }
   ],
   "source": [
    "count_audience_rating_cut = df_cut\n",
    "count_audience_rating_cut['audience_break'] = count_audience_rating_cut['audience_rating'].apply(n_break, args = (0, 10, 10))\n",
    "count_audience_rating_cut = count_audience_rating_cut.groupby(['audience_break']).size()\n",
    "f, axs = plt.subplots(figsize = (16, 7))\n",
    "graph_audience_cut = sns.barplot(x = count_audience_rating_cut.index, y = count_audience_rating_cut.values)\n",
    "graph_audience_cut.set(xlabel = 'Notas', ylabel = 'Nº de filmes')"
   ]
  },
  {
   "cell_type": "code",
   "execution_count": 48,
   "metadata": {},
   "outputs": [
    {
     "data": {
      "text/html": [
       "<div>\n",
       "<style scoped>\n",
       "    .dataframe tbody tr th:only-of-type {\n",
       "        vertical-align: middle;\n",
       "    }\n",
       "\n",
       "    .dataframe tbody tr th {\n",
       "        vertical-align: top;\n",
       "    }\n",
       "\n",
       "    .dataframe thead th {\n",
       "        text-align: right;\n",
       "    }\n",
       "</style>\n",
       "<table border=\"1\" class=\"dataframe\">\n",
       "  <thead>\n",
       "    <tr style=\"text-align: right;\">\n",
       "      <th></th>\n",
       "      <th>movies</th>\n",
       "    </tr>\n",
       "    <tr>\n",
       "      <th>audience_break</th>\n",
       "      <th></th>\n",
       "    </tr>\n",
       "  </thead>\n",
       "  <tbody>\n",
       "    <tr>\n",
       "      <th>81 - 90</th>\n",
       "      <td>118</td>\n",
       "    </tr>\n",
       "    <tr>\n",
       "      <th>71 - 80</th>\n",
       "      <td>70</td>\n",
       "    </tr>\n",
       "    <tr>\n",
       "      <th>91 - 100</th>\n",
       "      <td>34</td>\n",
       "    </tr>\n",
       "    <tr>\n",
       "      <th>61 - 70</th>\n",
       "      <td>19</td>\n",
       "    </tr>\n",
       "    <tr>\n",
       "      <th>51 - 60</th>\n",
       "      <td>7</td>\n",
       "    </tr>\n",
       "    <tr>\n",
       "      <th>41 - 50</th>\n",
       "      <td>2</td>\n",
       "    </tr>\n",
       "  </tbody>\n",
       "</table>\n",
       "</div>"
      ],
      "text/plain": [
       "                movies\n",
       "audience_break        \n",
       "81 - 90            118\n",
       "71 - 80             70\n",
       "91 - 100            34\n",
       "61 - 70             19\n",
       "51 - 60              7\n",
       "41 - 50              2"
      ]
     },
     "execution_count": 48,
     "metadata": {},
     "output_type": "execute_result"
    }
   ],
   "source": [
    "count_audience_rating_cut = count_audience_rating_cut.sort_values(ascending = False)\n",
    "pd.DataFrame(count_audience_rating_cut, columns = ['movies'])"
   ]
  },
  {
   "cell_type": "markdown",
   "metadata": {},
   "source": [
    "### Comparação de Resultados"
   ]
  },
  {
   "cell_type": "code",
   "execution_count": 49,
   "metadata": {},
   "outputs": [
    {
     "data": {
      "text/html": [
       "<div>\n",
       "<style scoped>\n",
       "    .dataframe tbody tr th:only-of-type {\n",
       "        vertical-align: middle;\n",
       "    }\n",
       "\n",
       "    .dataframe tbody tr th {\n",
       "        vertical-align: top;\n",
       "    }\n",
       "\n",
       "    .dataframe thead th {\n",
       "        text-align: right;\n",
       "    }\n",
       "</style>\n",
       "<table border=\"1\" class=\"dataframe\">\n",
       "  <thead>\n",
       "    <tr style=\"text-align: right;\">\n",
       "      <th></th>\n",
       "      <th>R</th>\n",
       "      <th>Dur: 91 - 120</th>\n",
       "      <th>Drama</th>\n",
       "      <th>IMDb: 6.1 - 7</th>\n",
       "      <th>Meta: 81 - 90</th>\n",
       "      <th>Certified-Fresh</th>\n",
       "      <th>Tomatometer: 91 - 100</th>\n",
       "      <th>Upright</th>\n",
       "      <th>Aud_RT: 81 - 90</th>\n",
       "    </tr>\n",
       "  </thead>\n",
       "  <tbody>\n",
       "    <tr>\n",
       "      <th>0</th>\n",
       "      <td>141</td>\n",
       "      <td>138</td>\n",
       "      <td>200</td>\n",
       "      <td>173</td>\n",
       "      <td>157</td>\n",
       "      <td>-</td>\n",
       "      <td>161</td>\n",
       "      <td>-</td>\n",
       "      <td>118</td>\n",
       "    </tr>\n",
       "  </tbody>\n",
       "</table>\n",
       "</div>"
      ],
      "text/plain": [
       "     R  Dur: 91 - 120  Drama  IMDb: 6.1 - 7  Meta: 81 - 90 Certified-Fresh  \\\n",
       "0  141            138    200            173            157               -   \n",
       "\n",
       "   Tomatometer: 91 - 100 Upright  Aud_RT: 81 - 90  \n",
       "0                    161       -              118  "
      ]
     },
     "execution_count": 49,
     "metadata": {},
     "output_type": "execute_result"
    }
   ],
   "source": [
    "dicio_cut = {'R': [141], 'Dur: 91 - 120': [138], 'Drama': [200], 'IMDb: 6.1 - 7': [173], 'Meta: 81 - 90': [157],\n",
    "'Certified-Fresh': ['-'], 'Tomatometer: 91 - 100': [161], 'Upright': ['-'], 'Aud_RT: 81 - 90': [118]}\n",
    "\n",
    "result_cut = pd.DataFrame(data = dicio_cut)\n",
    "result_cut"
   ]
  },
  {
   "cell_type": "code",
   "execution_count": 50,
   "metadata": {},
   "outputs": [
    {
     "data": {
      "text/html": [
       "<div>\n",
       "<style scoped>\n",
       "    .dataframe tbody tr th:only-of-type {\n",
       "        vertical-align: middle;\n",
       "    }\n",
       "\n",
       "    .dataframe tbody tr th {\n",
       "        vertical-align: top;\n",
       "    }\n",
       "\n",
       "    .dataframe thead th {\n",
       "        text-align: right;\n",
       "    }\n",
       "</style>\n",
       "<table border=\"1\" class=\"dataframe\">\n",
       "  <thead>\n",
       "    <tr style=\"text-align: right;\">\n",
       "      <th></th>\n",
       "      <th>R</th>\n",
       "      <th>Dur: 91 - 120</th>\n",
       "      <th>Drama</th>\n",
       "      <th>IMDb: 6.1 - 7</th>\n",
       "      <th>Meta: 81 - 90</th>\n",
       "      <th>Certified-Fresh</th>\n",
       "      <th>Tomatometer: 91 - 100</th>\n",
       "      <th>Upright</th>\n",
       "      <th>Aud_RT: 81 - 90</th>\n",
       "    </tr>\n",
       "  </thead>\n",
       "  <tbody>\n",
       "    <tr>\n",
       "      <th>0</th>\n",
       "      <td>56.40%</td>\n",
       "      <td>55.20%</td>\n",
       "      <td>80.00%</td>\n",
       "      <td>69.20%</td>\n",
       "      <td>62.80%</td>\n",
       "      <td>-</td>\n",
       "      <td>64.40%</td>\n",
       "      <td>-</td>\n",
       "      <td>47.20%</td>\n",
       "    </tr>\n",
       "  </tbody>\n",
       "</table>\n",
       "</div>"
      ],
      "text/plain": [
       "        R Dur: 91 - 120   Drama IMDb: 6.1 - 7 Meta: 81 - 90 Certified-Fresh  \\\n",
       "0  56.40%        55.20%  80.00%        69.20%        62.80%               -   \n",
       "\n",
       "  Tomatometer: 91 - 100 Upright Aud_RT: 81 - 90  \n",
       "0                64.40%       -          47.20%  "
      ]
     },
     "execution_count": 50,
     "metadata": {},
     "output_type": "execute_result"
    }
   ],
   "source": [
    "n_lin_cut = df_cut.shape[0]\n",
    "\n",
    "dicio_percen_cut = {'R': [percen_df(141, n_lin_cut)], 'Dur: 91 - 120': [percen_df(138, n_lin_cut)], 'Drama': [percen_df(200, n_lin_cut)], 'IMDb: 6.1 - 7': [percen_df(173, n_lin_cut)], 'Meta: 81 - 90': [percen_df(157, n_lin_cut)],\n",
    "'Certified-Fresh': ['-'], 'Tomatometer: 91 - 100': [percen_df(161, n_lin_cut)], 'Upright': ['-'], 'Aud_RT: 81 - 90': [percen_df(118, n_lin_cut)]}\n",
    "\n",
    "result_percen_cut = pd.DataFrame(data = dicio_percen_cut)\n",
    "result_percen_cut"
   ]
  },
  {
   "cell_type": "markdown",
   "metadata": {},
   "source": [
    "Comparando com os resultados da primeira pergunta, houveram algumas mudanças, mas não muito discrepantes:\n",
    "* A mudança na classificação indicativa não surpreendeu, pois \"R\", mesmo no dataset original, estava muito próximo de \"PG-13\";\n",
    "* O gênero \"Drama\" ficou muito mais predominante, indicando que filmes desse gênero tendem a ser mais aceitos em todos os parâmetros;\n",
    "* As notas aumentaram, contudo, isso já era previsto deste a criação do segundo dataframe, pois selecionamos os mais bem avaliados; ainda assim, é interessante destacar como a nota pouco acima da média do IMDb ficou ainda mais predominante, visto que o esperado era de que ela aumentasse ou, ao menos, sua predominância, como visto nas outras. "
   ]
  },
  {
   "cell_type": "markdown",
   "metadata": {},
   "source": [
    "# Qual o melhor parâmetro, entre os estudados, para determinar as chances de vitória de um filme na categoria de Melhor Filme (Best Picture)?"
   ]
  },
  {
   "cell_type": "markdown",
   "metadata": {},
   "source": [
    "Para este objetivo, iremos filtrar os vencedores da categoria contidos no dataframe e analisá-los sobre os parâmetros avaliativos para determinar:\n",
    "* Qual parâmetro deu a maior nota a cada vencedor? Utilizaremos um ranking para contabilizar todos os vencedores;\n",
    "* Qual a média dos vencedores em cada parâmetro?"
   ]
  },
  {
   "cell_type": "code",
   "execution_count": 51,
   "metadata": {},
   "outputs": [
    {
     "data": {
      "text/html": [
       "<div>\n",
       "<style scoped>\n",
       "    .dataframe tbody tr th:only-of-type {\n",
       "        vertical-align: middle;\n",
       "    }\n",
       "\n",
       "    .dataframe tbody tr th {\n",
       "        vertical-align: top;\n",
       "    }\n",
       "\n",
       "    .dataframe thead th {\n",
       "        text-align: right;\n",
       "    }\n",
       "</style>\n",
       "<table border=\"1\" class=\"dataframe\">\n",
       "  <thead>\n",
       "    <tr style=\"text-align: right;\">\n",
       "      <th></th>\n",
       "      <th>year</th>\n",
       "      <th>movie</th>\n",
       "      <th>certificate</th>\n",
       "      <th>duration</th>\n",
       "      <th>genre</th>\n",
       "      <th>rate</th>\n",
       "      <th>metascore</th>\n",
       "      <th>Oscar_Best_Picture_won</th>\n",
       "      <th>tomatometer_status</th>\n",
       "      <th>tomatometer_rating</th>\n",
       "      <th>audience_status</th>\n",
       "      <th>audience_rating</th>\n",
       "      <th>duration_break</th>\n",
       "      <th>meta_break</th>\n",
       "      <th>tomatometer_break</th>\n",
       "      <th>audience_break</th>\n",
       "    </tr>\n",
       "  </thead>\n",
       "  <tbody>\n",
       "    <tr>\n",
       "      <th>0</th>\n",
       "      <td>2003</td>\n",
       "      <td>The Lord of the Rings: The Return of the King</td>\n",
       "      <td>PG-13</td>\n",
       "      <td>201</td>\n",
       "      <td>Adventure|Drama|Fantasy</td>\n",
       "      <td>8.9</td>\n",
       "      <td>94.0</td>\n",
       "      <td>Yes</td>\n",
       "      <td>Certified-Fresh</td>\n",
       "      <td>93.0</td>\n",
       "      <td>Upright</td>\n",
       "      <td>86.0</td>\n",
       "      <td>181 - 210</td>\n",
       "      <td>91 - 100</td>\n",
       "      <td>91 - 100</td>\n",
       "      <td>81 - 90</td>\n",
       "    </tr>\n",
       "    <tr>\n",
       "      <th>1</th>\n",
       "      <td>2001</td>\n",
       "      <td>A Beautiful Mind</td>\n",
       "      <td>PG-13</td>\n",
       "      <td>135</td>\n",
       "      <td>Biography|Drama</td>\n",
       "      <td>8.2</td>\n",
       "      <td>72.0</td>\n",
       "      <td>Yes</td>\n",
       "      <td>Certified-Fresh</td>\n",
       "      <td>74.0</td>\n",
       "      <td>Upright</td>\n",
       "      <td>93.0</td>\n",
       "      <td>121 - 150</td>\n",
       "      <td>71 - 80</td>\n",
       "      <td>71 - 80</td>\n",
       "      <td>91 - 100</td>\n",
       "    </tr>\n",
       "    <tr>\n",
       "      <th>2</th>\n",
       "      <td>2002</td>\n",
       "      <td>Chicago</td>\n",
       "      <td>PG-13</td>\n",
       "      <td>113</td>\n",
       "      <td>Comedy|Crime|Musical</td>\n",
       "      <td>7.2</td>\n",
       "      <td>82.0</td>\n",
       "      <td>Yes</td>\n",
       "      <td>Certified-Fresh</td>\n",
       "      <td>86.0</td>\n",
       "      <td>Upright</td>\n",
       "      <td>83.0</td>\n",
       "      <td>91 - 120</td>\n",
       "      <td>81 - 90</td>\n",
       "      <td>81 - 90</td>\n",
       "      <td>81 - 90</td>\n",
       "    </tr>\n",
       "    <tr>\n",
       "      <th>3</th>\n",
       "      <td>2004</td>\n",
       "      <td>Crash</td>\n",
       "      <td>R</td>\n",
       "      <td>112</td>\n",
       "      <td>Crime|Drama|Thriller</td>\n",
       "      <td>7.8</td>\n",
       "      <td>69.0</td>\n",
       "      <td>Yes</td>\n",
       "      <td>Certified-Fresh</td>\n",
       "      <td>74.0</td>\n",
       "      <td>Upright</td>\n",
       "      <td>88.0</td>\n",
       "      <td>91 - 120</td>\n",
       "      <td>61 - 70</td>\n",
       "      <td>71 - 80</td>\n",
       "      <td>81 - 90</td>\n",
       "    </tr>\n",
       "    <tr>\n",
       "      <th>4</th>\n",
       "      <td>2004</td>\n",
       "      <td>Million Dollar Baby</td>\n",
       "      <td>PG-13</td>\n",
       "      <td>132</td>\n",
       "      <td>Drama|Sport</td>\n",
       "      <td>8.1</td>\n",
       "      <td>86.0</td>\n",
       "      <td>Yes</td>\n",
       "      <td>Certified-Fresh</td>\n",
       "      <td>91.0</td>\n",
       "      <td>Upright</td>\n",
       "      <td>90.0</td>\n",
       "      <td>121 - 150</td>\n",
       "      <td>81 - 90</td>\n",
       "      <td>91 - 100</td>\n",
       "      <td>81 - 90</td>\n",
       "    </tr>\n",
       "  </tbody>\n",
       "</table>\n",
       "</div>"
      ],
      "text/plain": [
       "   year                                          movie certificate  duration  \\\n",
       "0  2003  The Lord of the Rings: The Return of the King       PG-13       201   \n",
       "1  2001                               A Beautiful Mind       PG-13       135   \n",
       "2  2002                                        Chicago       PG-13       113   \n",
       "3  2004                                          Crash           R       112   \n",
       "4  2004                            Million Dollar Baby       PG-13       132   \n",
       "\n",
       "                     genre  rate  metascore Oscar_Best_Picture_won  \\\n",
       "0  Adventure|Drama|Fantasy   8.9       94.0                    Yes   \n",
       "1          Biography|Drama   8.2       72.0                    Yes   \n",
       "2     Comedy|Crime|Musical   7.2       82.0                    Yes   \n",
       "3     Crime|Drama|Thriller   7.8       69.0                    Yes   \n",
       "4              Drama|Sport   8.1       86.0                    Yes   \n",
       "\n",
       "  tomatometer_status  tomatometer_rating audience_status  audience_rating  \\\n",
       "0    Certified-Fresh                93.0         Upright             86.0   \n",
       "1    Certified-Fresh                74.0         Upright             93.0   \n",
       "2    Certified-Fresh                86.0         Upright             83.0   \n",
       "3    Certified-Fresh                74.0         Upright             88.0   \n",
       "4    Certified-Fresh                91.0         Upright             90.0   \n",
       "\n",
       "  duration_break meta_break tomatometer_break audience_break  \n",
       "0      181 - 210   91 - 100          91 - 100        81 - 90  \n",
       "1      121 - 150    71 - 80           71 - 80       91 - 100  \n",
       "2       91 - 120    81 - 90           81 - 90        81 - 90  \n",
       "3       91 - 120    61 - 70           71 - 80        81 - 90  \n",
       "4      121 - 150    81 - 90          91 - 100        81 - 90  "
      ]
     },
     "execution_count": 51,
     "metadata": {},
     "output_type": "execute_result"
    }
   ],
   "source": [
    "#Pegando os vencedores da categoria no dataframe:\n",
    "\n",
    "df_cut2 = df_final [(df_final.Oscar_Best_Picture_won == 'Yes')]\n",
    "df_cut2.reset_index(inplace = True, drop = True)\n",
    "df_cut2 = pd.DataFrame(df_cut2)\n",
    "df_cut2.head(5)"
   ]
  },
  {
   "cell_type": "code",
   "execution_count": 52,
   "metadata": {},
   "outputs": [
    {
     "data": {
      "text/html": [
       "<div>\n",
       "<style scoped>\n",
       "    .dataframe tbody tr th:only-of-type {\n",
       "        vertical-align: middle;\n",
       "    }\n",
       "\n",
       "    .dataframe tbody tr th {\n",
       "        vertical-align: top;\n",
       "    }\n",
       "\n",
       "    .dataframe thead th {\n",
       "        text-align: right;\n",
       "    }\n",
       "</style>\n",
       "<table border=\"1\" class=\"dataframe\">\n",
       "  <thead>\n",
       "    <tr style=\"text-align: right;\">\n",
       "      <th></th>\n",
       "      <th>year</th>\n",
       "      <th>movie</th>\n",
       "      <th>certificate</th>\n",
       "      <th>duration</th>\n",
       "      <th>genre</th>\n",
       "      <th>rate</th>\n",
       "      <th>metascore</th>\n",
       "      <th>Oscar_Best_Picture_won</th>\n",
       "      <th>tomatometer_status</th>\n",
       "      <th>tomatometer_rating</th>\n",
       "      <th>audience_status</th>\n",
       "      <th>audience_rating</th>\n",
       "      <th>duration_break</th>\n",
       "      <th>meta_break</th>\n",
       "      <th>tomatometer_break</th>\n",
       "      <th>audience_break</th>\n",
       "      <th>indicator</th>\n",
       "    </tr>\n",
       "  </thead>\n",
       "  <tbody>\n",
       "    <tr>\n",
       "      <th>0</th>\n",
       "      <td>2003</td>\n",
       "      <td>The Lord of the Rings: The Return of the King</td>\n",
       "      <td>PG-13</td>\n",
       "      <td>201</td>\n",
       "      <td>Adventure|Drama|Fantasy</td>\n",
       "      <td>89.0</td>\n",
       "      <td>94.0</td>\n",
       "      <td>Yes</td>\n",
       "      <td>Certified-Fresh</td>\n",
       "      <td>93.0</td>\n",
       "      <td>Upright</td>\n",
       "      <td>86.0</td>\n",
       "      <td>181 - 210</td>\n",
       "      <td>91 - 100</td>\n",
       "      <td>91 - 100</td>\n",
       "      <td>81 - 90</td>\n",
       "      <td>Metascore</td>\n",
       "    </tr>\n",
       "  </tbody>\n",
       "</table>\n",
       "</div>"
      ],
      "text/plain": [
       "   year                                          movie certificate  duration  \\\n",
       "0  2003  The Lord of the Rings: The Return of the King       PG-13       201   \n",
       "\n",
       "                     genre  rate  metascore Oscar_Best_Picture_won  \\\n",
       "0  Adventure|Drama|Fantasy  89.0       94.0                    Yes   \n",
       "\n",
       "  tomatometer_status  tomatometer_rating audience_status  audience_rating  \\\n",
       "0    Certified-Fresh                93.0         Upright             86.0   \n",
       "\n",
       "  duration_break meta_break tomatometer_break audience_break  indicator  \n",
       "0      181 - 210   91 - 100          91 - 100        81 - 90  Metascore  "
      ]
     },
     "execution_count": 52,
     "metadata": {},
     "output_type": "execute_result"
    }
   ],
   "source": [
    "#Para comparar com o site IMDb, que possui notas em escalas diferentes.\n",
    "def zero_a_cem (a):\n",
    "    return round(a * 10, 1)\n",
    "\n",
    "#Determina o vencedor.\n",
    "def compare (a, b, c, d):\n",
    "    if (a > b and a > c and a > d):\n",
    "        return 'Tomatometer'\n",
    "    elif (b > a and b > c and b > d):\n",
    "        return 'Audience Rating - RT'\n",
    "    elif (c > a and c > b and c > d):\n",
    "        return 'Metascore'\n",
    "    elif (d > a and d > b and d > c):\n",
    "        return 'IMDb Rate'\n",
    "    else:\n",
    "        return 'Draw'\n",
    "\n",
    "#Aplicando:\n",
    "df_cut2['rate'] = df_cut2['rate'].apply(zero_a_cem)\n",
    "df_cut2['indicator'] = df_cut2.apply(lambda x: compare(x[\"tomatometer_rating\"], x[\"audience_rating\"], x['metascore'], x['rate']), axis = 1)\n",
    "df_cut2.head(1)\n"
   ]
  },
  {
   "cell_type": "markdown",
   "metadata": {},
   "source": [
    "Agrupando e criando o ranking:"
   ]
  },
  {
   "cell_type": "code",
   "execution_count": 53,
   "metadata": {},
   "outputs": [
    {
     "data": {
      "text/html": [
       "<div>\n",
       "<style scoped>\n",
       "    .dataframe tbody tr th:only-of-type {\n",
       "        vertical-align: middle;\n",
       "    }\n",
       "\n",
       "    .dataframe tbody tr th {\n",
       "        vertical-align: top;\n",
       "    }\n",
       "\n",
       "    .dataframe thead th {\n",
       "        text-align: right;\n",
       "    }\n",
       "</style>\n",
       "<table border=\"1\" class=\"dataframe\">\n",
       "  <thead>\n",
       "    <tr style=\"text-align: right;\">\n",
       "      <th></th>\n",
       "      <th>movies</th>\n",
       "    </tr>\n",
       "    <tr>\n",
       "      <th>indicator</th>\n",
       "      <th></th>\n",
       "    </tr>\n",
       "  </thead>\n",
       "  <tbody>\n",
       "    <tr>\n",
       "      <th>Tomatometer</th>\n",
       "      <td>9</td>\n",
       "    </tr>\n",
       "    <tr>\n",
       "      <th>Metascore</th>\n",
       "      <td>4</td>\n",
       "    </tr>\n",
       "    <tr>\n",
       "      <th>Audience Rating - RT</th>\n",
       "      <td>3</td>\n",
       "    </tr>\n",
       "  </tbody>\n",
       "</table>\n",
       "</div>"
      ],
      "text/plain": [
       "                      movies\n",
       "indicator                   \n",
       "Tomatometer                9\n",
       "Metascore                  4\n",
       "Audience Rating - RT       3"
      ]
     },
     "execution_count": 53,
     "metadata": {},
     "output_type": "execute_result"
    }
   ],
   "source": [
    "indicator_count = df_cut2.groupby(['indicator']).size()\n",
    "indicator_count = indicator_count.sort_values(ascending = False)\n",
    "\n",
    "pd.DataFrame(indicator_count, columns = ['movies'])"
   ]
  },
  {
   "cell_type": "markdown",
   "metadata": {},
   "source": [
    "Comparando com as médias:"
   ]
  },
  {
   "cell_type": "code",
   "execution_count": 54,
   "metadata": {},
   "outputs": [
    {
     "data": {
      "text/html": [
       "<div>\n",
       "<style scoped>\n",
       "    .dataframe tbody tr th:only-of-type {\n",
       "        vertical-align: middle;\n",
       "    }\n",
       "\n",
       "    .dataframe tbody tr th {\n",
       "        vertical-align: top;\n",
       "    }\n",
       "\n",
       "    .dataframe thead th {\n",
       "        text-align: right;\n",
       "    }\n",
       "</style>\n",
       "<table border=\"1\" class=\"dataframe\">\n",
       "  <thead>\n",
       "    <tr style=\"text-align: right;\">\n",
       "      <th></th>\n",
       "      <th>Tomatometer</th>\n",
       "      <th>User Score - RT</th>\n",
       "      <th>Metascore</th>\n",
       "      <th>User Score - IMDb</th>\n",
       "    </tr>\n",
       "  </thead>\n",
       "  <tbody>\n",
       "    <tr>\n",
       "      <th>0</th>\n",
       "      <td>89.06</td>\n",
       "      <td>87.00</td>\n",
       "      <td>88.06</td>\n",
       "      <td>80.81</td>\n",
       "    </tr>\n",
       "  </tbody>\n",
       "</table>\n",
       "</div>"
      ],
      "text/plain": [
       "  Tomatometer User Score - RT Metascore User Score - IMDb\n",
       "0       89.06           87.00     88.06             80.81"
      ]
     },
     "execution_count": 54,
     "metadata": {},
     "output_type": "execute_result"
    }
   ],
   "source": [
    "tomatometer_mean = df_cut2[['tomatometer_rating']].mean()\n",
    "audience_mean = df_cut2[['audience_rating']].mean()\n",
    "metascore_mean = df_cut2[['metascore']].mean()\n",
    "imdb_mean = df_cut2[['rate']].mean()\n",
    "\n",
    "data = [[f'{float(tomatometer_mean):.2f}', f'{float(audience_mean):.2f}', f'{float(metascore_mean):.2f}', f'{float(imdb_mean):.2f}']]\n",
    "\n",
    "pd.DataFrame(data = data, columns = ['Tomatometer', 'User Score - RT', 'Metascore', 'User Score - IMDb'])\n",
    "\n"
   ]
  },
  {
   "cell_type": "markdown",
   "metadata": {},
   "source": [
    "    Pudemos concluir que o Tomatometer é o melhor indicador para a categoria, visto que não só foi o maior valor em mais da metade dos anos, ainda possui a maior média dos vencedores. As notas do Metacritic e da audiência do Rotten Tomatoes ficaram próximas do Tomatometer e foram as mais relevantes em alguns anos, as tornando possíveis indicadores também, porém sem a precisão do primeiro.\n",
    "    As notas do IMDB ficaram bem abaixo das demais, além de não serem bons indicadores para ano algum. Concluímos que a relação das notas do site tem pouco a ver com a opinião da academia."
   ]
  },
  {
   "cell_type": "markdown",
   "metadata": {},
   "source": [
    "# Conclusão"
   ]
  },
  {
   "cell_type": "markdown",
   "metadata": {},
   "source": [
    "## Resultados"
   ]
  },
  {
   "cell_type": "markdown",
   "metadata": {},
   "source": [
    "    Pudemos concluir que a academia apresenta sim alguns padrões quanto aos seus indicados, tais como um gênero ou uma duração mais frequentes que outras.\n",
    "    Analisando as opiniões do sites de notas, fica evidente como os críticos do Rotten Tomatoes possuem as ideias mais alinhadas com as da academia; deduzimos que isso pode estar relacionado a uma visão crítica que os votantes da academia compartilhem com os críticos do site. \n",
    "    Ainda, as notas dos usuários do IMDb foram as que mais desviaram do padrão da academia; aqui, deduzimos o oposto do Tomatometer, de que pode ter sido pelo perfil dos usuários do site ser a mais distante da percepção crítica por representar um grupo que não é tão experiente na área do cinema e possui padrões distintos para a avaliação."
   ]
  },
  {
   "cell_type": "markdown",
   "metadata": {},
   "source": [
    "## Importância"
   ]
  },
  {
   "cell_type": "markdown",
   "metadata": {},
   "source": [
    "Por ser um grande cículo midiático, ter um melhor indicativo de quais os filmes que podem ser esperados nas indicações e nas vitórias é um meio de ganhar credibilidade como formador de opinião, sendo útil haver mecanismos de previsões para jornais ou influenciadores."
   ]
  },
  {
   "cell_type": "markdown",
   "metadata": {},
   "source": [
    "## Limitações"
   ]
  },
  {
   "cell_type": "markdown",
   "metadata": {},
   "source": [
    "* Não cobrimos todas as edições deste século;\n",
    "* Alguns dados foram perdidos pela incompatibilidade dos datasets utilizados."
   ]
  },
  {
   "cell_type": "markdown",
   "metadata": {},
   "source": [
    "## Trabalhos Futuros e Melhorias"
   ]
  },
  {
   "cell_type": "markdown",
   "metadata": {},
   "source": [
    "Para trabalhos futuros, gostaríamos de recomendar uma exploração quanto:\n",
    "* Às categorias: abrangindo cada categoria da academia e estudando cada caso;\n",
    "* Ao tempo: estudando como o perfil dos indicados e vencedores foi sendo modificado ao longo do tempo."
   ]
  }
 ],
 "metadata": {
  "kernelspec": {
   "display_name": "Python 3.10.4 64-bit",
   "language": "python",
   "name": "python3"
  },
  "language_info": {
   "codemirror_mode": {
    "name": "ipython",
    "version": 3
   },
   "file_extension": ".py",
   "mimetype": "text/x-python",
   "name": "python",
   "nbconvert_exporter": "python",
   "pygments_lexer": "ipython3",
   "version": "3.10.4"
  },
  "orig_nbformat": 4,
  "vscode": {
   "interpreter": {
    "hash": "8394ece97d8e59aefaeb83b2e7a79c44685a263996428807df394b662ca14ead"
   }
  }
 },
 "nbformat": 4,
 "nbformat_minor": 2
}
