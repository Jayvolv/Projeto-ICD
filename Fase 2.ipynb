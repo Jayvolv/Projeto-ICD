{
 "cells": [
  {
   "cell_type": "code",
   "execution_count": 80,
   "id": "caaa037e",
   "metadata": {},
   "outputs": [],
   "source": [
    "import pandas as pd\n",
    "import matplotlib.pyplot as plt\n",
    "import numpy as np\n",
    "\n",
    "movies = pd.read_csv(r'C:\\Users\\maril\\OneDrive\\Documentos\\rotten_tomatoes_movies.csv')"
   ]
  },
  {
   "cell_type": "code",
   "execution_count": 79,
   "id": "76056711",
   "metadata": {},
   "outputs": [
    {
     "data": {
      "text/plain": [
       "<AxesSubplot:>"
      ]
     },
     "execution_count": 79,
     "metadata": {},
     "output_type": "execute_result"
    },
    {
     "data": {
      "image/png": "[encoded data removed]",
      "text/plain": [
       "<Figure size 640x480 with 1 Axes>"
      ]
     },
     "metadata": {},
     "output_type": "display_data"
    }
   ],
   "source": [
    "movies.boxplot(column = [\"tomatometer_rating\",\"audience_rating\"])"
   ]
  },
  {
   "cell_type": "code",
   "execution_count": 30,
   "id": "5cb042ca",
   "metadata": {},
   "outputs": [
    {
     "data": {
      "text/html": [
       "<div>\n",
       "<style scoped>\n",
       "    .dataframe tbody tr th:only-of-type {\n",
       "        vertical-align: middle;\n",
       "    }\n",
       "\n",
       "    .dataframe tbody tr th {\n",
       "        vertical-align: top;\n",
       "    }\n",
       "\n",
       "    .dataframe thead th {\n",
       "        text-align: right;\n",
       "    }\n",
       "</style>\n",
       "<table border=\"1\" class=\"dataframe\">\n",
       "  <thead>\n",
       "    <tr style=\"text-align: right;\">\n",
       "      <th></th>\n",
       "      <th>movie_title</th>\n",
       "      <th>tomatometer_fresh_critics_count</th>\n",
       "      <th>tomatometer_rotten_critics_count</th>\n",
       "    </tr>\n",
       "  </thead>\n",
       "  <tbody>\n",
       "    <tr>\n",
       "      <th>0</th>\n",
       "      <td>Percy Jackson &amp; the Olympians: The Lightning T...</td>\n",
       "      <td>73</td>\n",
       "      <td>76</td>\n",
       "    </tr>\n",
       "    <tr>\n",
       "      <th>1</th>\n",
       "      <td>Please Give</td>\n",
       "      <td>123</td>\n",
       "      <td>19</td>\n",
       "    </tr>\n",
       "    <tr>\n",
       "      <th>2</th>\n",
       "      <td>10</td>\n",
       "      <td>16</td>\n",
       "      <td>8</td>\n",
       "    </tr>\n",
       "    <tr>\n",
       "      <th>3</th>\n",
       "      <td>12 Angry Men (Twelve Angry Men)</td>\n",
       "      <td>54</td>\n",
       "      <td>0</td>\n",
       "    </tr>\n",
       "    <tr>\n",
       "      <th>4</th>\n",
       "      <td>20,000 Leagues Under The Sea</td>\n",
       "      <td>24</td>\n",
       "      <td>3</td>\n",
       "    </tr>\n",
       "    <tr>\n",
       "      <th>...</th>\n",
       "      <td>...</td>\n",
       "      <td>...</td>\n",
       "      <td>...</td>\n",
       "    </tr>\n",
       "    <tr>\n",
       "      <th>17707</th>\n",
       "      <td>Zoot Suit</td>\n",
       "      <td>5</td>\n",
       "      <td>4</td>\n",
       "    </tr>\n",
       "    <tr>\n",
       "      <th>17708</th>\n",
       "      <td>Zootopia</td>\n",
       "      <td>285</td>\n",
       "      <td>7</td>\n",
       "    </tr>\n",
       "    <tr>\n",
       "      <th>17709</th>\n",
       "      <td>Zorba the Greek</td>\n",
       "      <td>8</td>\n",
       "      <td>2</td>\n",
       "    </tr>\n",
       "    <tr>\n",
       "      <th>17710</th>\n",
       "      <td>Zulu</td>\n",
       "      <td>22</td>\n",
       "      <td>1</td>\n",
       "    </tr>\n",
       "    <tr>\n",
       "      <th>17711</th>\n",
       "      <td>Zulu Dawn</td>\n",
       "      <td>4</td>\n",
       "      <td>4</td>\n",
       "    </tr>\n",
       "  </tbody>\n",
       "</table>\n",
       "<p>17712 rows × 3 columns</p>\n",
       "</div>"
      ],
      "text/plain": [
       "                                             movie_title  \\\n",
       "0      Percy Jackson & the Olympians: The Lightning T...   \n",
       "1                                            Please Give   \n",
       "2                                                     10   \n",
       "3                        12 Angry Men (Twelve Angry Men)   \n",
       "4                           20,000 Leagues Under The Sea   \n",
       "...                                                  ...   \n",
       "17707                                          Zoot Suit   \n",
       "17708                                           Zootopia   \n",
       "17709                                    Zorba the Greek   \n",
       "17710                                               Zulu   \n",
       "17711                                          Zulu Dawn   \n",
       "\n",
       "       tomatometer_fresh_critics_count  tomatometer_rotten_critics_count  \n",
       "0                                   73                                76  \n",
       "1                                  123                                19  \n",
       "2                                   16                                 8  \n",
       "3                                   54                                 0  \n",
       "4                                   24                                 3  \n",
       "...                                ...                               ...  \n",
       "17707                                5                                 4  \n",
       "17708                              285                                 7  \n",
       "17709                                8                                 2  \n",
       "17710                               22                                 1  \n",
       "17711                                4                                 4  \n",
       "\n",
       "[17712 rows x 3 columns]"
      ]
     },
     "execution_count": 30,
     "metadata": {},
     "output_type": "execute_result"
    }
   ],
   "source": [
    "movies[[\"movie_title\",\"tomatometer_fresh_critics_count\",\"tomatometer_rotten_critics_count\"]]"
   ]
  },
  {
   "cell_type": "code",
   "execution_count": 77,
   "id": "4371add7",
   "metadata": {},
   "outputs": [
    {
     "data": {
      "text/plain": [
       "<AxesSubplot:>"
      ]
     },
     "execution_count": 77,
     "metadata": {},
     "output_type": "execute_result"
    },
    {
     "data": {
      "image/png": "[encoded data removed]",
      "text/plain": [
       "<Figure size 640x480 with 1 Axes>"
      ]
     },
     "metadata": {},
     "output_type": "display_data"
    }
   ],
   "source": [
    "movies.boxplot(column = [\"tomatometer_fresh_critics_count\"])"
   ]
  },
  {
   "cell_type": "code",
   "execution_count": 78,
   "id": "ffa5ca88",
   "metadata": {},
   "outputs": [
    {
     "data": {
      "text/plain": [
       "<AxesSubplot:>"
      ]
     },
     "execution_count": 78,
     "metadata": {},
     "output_type": "execute_result"
    },
    {
     "data": {
      "image/png": "[encoded data removed]",
      "text/plain": [
       "<Figure size 640x480 with 1 Axes>"
      ]
     },
     "metadata": {},
     "output_type": "display_data"
    }
   ],
   "source": [
    "movies.boxplot(column = [\"tomatometer_rotten_critics_count\"])"
   ]
  },
  {
   "cell_type": "markdown",
   "id": "7cf9f6e5",
   "metadata": {},
   "source": [
    "# Medidas de Centralidade"
   ]
  },
  {
   "cell_type": "code",
   "execution_count": 51,
   "id": "76d641db",
   "metadata": {},
   "outputs": [
    {
     "data": {
      "text/plain": [
       "60.88476341408196"
      ]
     },
     "execution_count": 51,
     "metadata": {},
     "output_type": "execute_result"
    }
   ],
   "source": [
    "#Media das notas dos criticos\n",
    "\n",
    "np.mean(movies[\"tomatometer_rating\"])"
   ]
  },
  {
   "cell_type": "code",
   "execution_count": 71,
   "id": "1f96789c",
   "metadata": {},
   "outputs": [
    {
     "data": {
      "text/plain": [
       "67.0"
      ]
     },
     "execution_count": 71,
     "metadata": {},
     "output_type": "execute_result"
    }
   ],
   "source": [
    "#Mediana das notas dos criticos\n",
    "\n",
    "np.nanmedian(movies[\"tomatometer_rating\"])"
   ]
  },
  {
   "cell_type": "code",
   "execution_count": 70,
   "id": "8d69cfe5",
   "metadata": {},
   "outputs": [
    {
     "data": {
      "text/plain": [
       "0    100.0\n",
       "Name: tomatometer_rating, dtype: float64"
      ]
     },
     "execution_count": 70,
     "metadata": {},
     "output_type": "execute_result"
    }
   ],
   "source": [
    "#Moda das notas dos criticos\n",
    "\n",
    "movies[\"tomatometer_rating\"].mode()"
   ]
  },
  {
   "cell_type": "code",
   "execution_count": 69,
   "id": "3f5d893e",
   "metadata": {},
   "outputs": [
    {
     "data": {
      "text/plain": [
       "60.55426045016077"
      ]
     },
     "execution_count": 69,
     "metadata": {},
     "output_type": "execute_result"
    }
   ],
   "source": [
    "#Media das notas da audiencia\n",
    "\n",
    "np.mean(movies[\"audience_rating\"])\n"
   ]
  },
  {
   "cell_type": "code",
   "execution_count": 50,
   "id": "f5cd7a70",
   "metadata": {},
   "outputs": [
    {
     "data": {
      "text/plain": [
       "63.0"
      ]
     },
     "execution_count": 50,
     "metadata": {},
     "output_type": "execute_result"
    }
   ],
   "source": [
    "#Mediana das notas da audiencia\n",
    "\n",
    "np.nanmedian(movies[\"audience_rating\"])"
   ]
  },
  {
   "cell_type": "code",
   "execution_count": 58,
   "id": "b9374063",
   "metadata": {},
   "outputs": [
    {
     "data": {
      "text/plain": [
       "0    71.0\n",
       "Name: audience_rating, dtype: float64"
      ]
     },
     "execution_count": 58,
     "metadata": {},
     "output_type": "execute_result"
    }
   ],
   "source": [
    "#Moda das notas da audiencia\n",
    "\n",
    "movies[\"audience_rating\"].mode()"
   ]
  },
  {
   "cell_type": "code",
   "execution_count": 43,
   "id": "03628c21",
   "metadata": {},
   "outputs": [
    {
     "data": {
      "text/plain": [
       "57.13980076975323"
      ]
     },
     "execution_count": 43,
     "metadata": {},
     "output_type": "execute_result"
    }
   ],
   "source": [
    "#Media da quantidade de avaliaçoes de criticos\n",
    "\n",
    "np.mean(movies[\"tomatometer_count\"])"
   ]
  },
  {
   "cell_type": "code",
   "execution_count": 55,
   "id": "7a628674",
   "metadata": {},
   "outputs": [
    {
     "data": {
      "text/plain": [
       "28.0"
      ]
     },
     "execution_count": 55,
     "metadata": {},
     "output_type": "execute_result"
    }
   ],
   "source": [
    "#Mediana da quantidade de avaliaçoes de criticos\n",
    "\n",
    "np.nanmedian(movies[\"tomatometer_count\"])"
   ]
  },
  {
   "cell_type": "code",
   "execution_count": 59,
   "id": "ad763f38",
   "metadata": {},
   "outputs": [
    {
     "data": {
      "text/plain": [
       "0    5.0\n",
       "Name: tomatometer_count, dtype: float64"
      ]
     },
     "execution_count": 59,
     "metadata": {},
     "output_type": "execute_result"
    }
   ],
   "source": [
    "#Moda da quantidade de avaliaçoes de criticos\n",
    "\n",
    "movies[\"tomatometer_count\"].mode()"
   ]
  },
  {
   "cell_type": "code",
   "execution_count": 52,
   "id": "5e62097e",
   "metadata": {},
   "outputs": [
    {
     "data": {
      "text/plain": [
       "143940.06833189778"
      ]
     },
     "execution_count": 52,
     "metadata": {},
     "output_type": "execute_result"
    }
   ],
   "source": [
    "#Media da quantidade de avaliaçoes da audiencia\n",
    "\n",
    "np.mean(movies[\"audience_count\"])"
   ]
  },
  {
   "cell_type": "code",
   "execution_count": 54,
   "id": "d1453b5f",
   "metadata": {},
   "outputs": [
    {
     "data": {
      "text/plain": [
       "4277.0"
      ]
     },
     "execution_count": 54,
     "metadata": {},
     "output_type": "execute_result"
    }
   ],
   "source": [
    "#Mediana da quantidade de avaliaçoes da audiencia\n",
    "\n",
    "np.nanmedian(movies[\"audience_count\"])"
   ]
  },
  {
   "cell_type": "code",
   "execution_count": 60,
   "id": "1a3c15f8",
   "metadata": {},
   "outputs": [
    {
     "data": {
      "text/plain": [
       "0    5.0\n",
       "Name: audience_count, dtype: float64"
      ]
     },
     "execution_count": 60,
     "metadata": {},
     "output_type": "execute_result"
    }
   ],
   "source": [
    "#Moda da quantidade de avaliaçoes da audiencia\n",
    "\n",
    "movies[\"audience_count\"].mode()"
   ]
  },
  {
   "cell_type": "markdown",
   "id": "3a354310",
   "metadata": {},
   "source": [
    "# Medidas de Dispersao"
   ]
  },
  {
   "cell_type": "code",
   "execution_count": 61,
   "id": "485fed1b",
   "metadata": {},
   "outputs": [
    {
     "data": {
      "text/plain": [
       "809.0240209606086"
      ]
     },
     "execution_count": 61,
     "metadata": {},
     "output_type": "execute_result"
    }
   ],
   "source": [
    "#Variancia das notas dos criticos\n",
    "\n",
    "movies[\"tomatometer_rating\"].var()"
   ]
  },
  {
   "cell_type": "code",
   "execution_count": 63,
   "id": "41476620",
   "metadata": {},
   "outputs": [
    {
     "data": {
      "text/plain": [
       "28.44334756952157"
      ]
     },
     "execution_count": 63,
     "metadata": {},
     "output_type": "execute_result"
    }
   ],
   "source": [
    "#Desvio Padrão das notas dos criticos\n",
    "\n",
    "movies[\"tomatometer_rating\"].std()"
   ]
  },
  {
   "cell_type": "code",
   "execution_count": 64,
   "id": "e4c79e1b",
   "metadata": {},
   "outputs": [
    {
     "data": {
      "text/plain": [
       "422.03001572636225"
      ]
     },
     "execution_count": 64,
     "metadata": {},
     "output_type": "execute_result"
    }
   ],
   "source": [
    "#Variancia das notas da audiencia\n",
    "\n",
    "movies[\"audience_rating\"].var()"
   ]
  },
  {
   "cell_type": "code",
   "execution_count": 65,
   "id": "14638e82",
   "metadata": {},
   "outputs": [
    {
     "data": {
      "text/plain": [
       "20.54336914253264"
      ]
     },
     "execution_count": 65,
     "metadata": {},
     "output_type": "execute_result"
    }
   ],
   "source": [
    "#Desvio Padrão das notas da audiencia\n",
    "\n",
    "movies[\"audience_rating\"].std()"
   ]
  },
  {
   "cell_type": "code",
   "execution_count": 73,
   "id": "1467e905",
   "metadata": {},
   "outputs": [
    {
     "data": {
      "text/plain": [
       "4674.463275717366"
      ]
     },
     "execution_count": 73,
     "metadata": {},
     "output_type": "execute_result"
    }
   ],
   "source": [
    "#Variancia da quantidade de avaliaçoes de criticos\n",
    "\n",
    "movies[\"tomatometer_count\"].var()"
   ]
  },
  {
   "cell_type": "code",
   "execution_count": 74,
   "id": "1be7682e",
   "metadata": {},
   "outputs": [
    {
     "data": {
      "text/plain": [
       "68.37004662655545"
      ]
     },
     "execution_count": 74,
     "metadata": {},
     "output_type": "execute_result"
    }
   ],
   "source": [
    "#Desvio Padrão da quantidade de avaliaçoes de criticos\n",
    "\n",
    "movies[\"tomatometer_count\"].std()"
   ]
  },
  {
   "cell_type": "code",
   "execution_count": 76,
   "id": "5267cc68",
   "metadata": {},
   "outputs": [
    {
     "data": {
      "text/plain": [
       "3110205321455.788"
      ]
     },
     "execution_count": 76,
     "metadata": {},
     "output_type": "execute_result"
    }
   ],
   "source": [
    "#Variancia da quantidade de avaliaçoes da audiencia\n",
    "\n",
    "movies[\"audience_count\"].var()"
   ]
  },
  {
   "cell_type": "code",
   "execution_count": 75,
   "id": "7b615a1e",
   "metadata": {},
   "outputs": [
    {
     "data": {
      "text/plain": [
       "1763577.4214521425"
      ]
     },
     "execution_count": 75,
     "metadata": {},
     "output_type": "execute_result"
    }
   ],
   "source": [
    "#Desvio Padrão da quantidade de avaliaçoes da audiencia\n",
    "\n",
    "movies[\"audience_count\"].std()"
   ]
  },
  {
   "cell_type": "code",
   "execution_count": null,
   "id": "c7ce65cc",
   "metadata": {},
   "outputs": [],
   "source": []
  },
  {
   "cell_type": "code",
   "execution_count": null,
   "id": "c1a49055",
   "metadata": {},
   "outputs": [],
   "source": []
  }
 ],
 "metadata": {
  "kernelspec": {
   "display_name": "Python 3 (ipykernel)",
   "language": "python",
   "name": "python3"
  },
  "language_info": {
   "codemirror_mode": {
    "name": "ipython",
    "version": 3
   },
   "file_extension": ".py",
   "mimetype": "text/x-python",
   "name": "python",
   "nbconvert_exporter": "python",
   "pygments_lexer": "ipython3",
   "version": "3.9.12"
  }
 },
 "nbformat": 4,
 "nbformat_minor": 5
}
