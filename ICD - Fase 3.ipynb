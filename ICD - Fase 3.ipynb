{
 "cells": [
  {
   "cell_type": "code",
   "execution_count": null,
   "id": "b1d54d23",
   "metadata": {},
   "outputs": [],
   "source": [
    "from google.colab import files\n",
    "\n",
    "import pandas as pd\n",
    "import matplotlib.pyplot as plt\n",
    "import numpy as np\n",
    "import seaborn as sns\n",
    "\n",
    "rt_tomatoes = pd.read_csv(r'/content/rotten_tomatoes_movies.csv')\n",
    "\n",
    "#newcell\n",
    "date = rt_tomatoes['original_release_date']\n",
    "date = date.tolist()\n",
    "i = 0\n",
    "year = []\n",
    "for i in range(len(date)):\n",
    "    year.append(str(date[i]).split(\"-\")[0])\n",
    "\n",
    "rt_tomatoes['original_release_date'] = year\n",
    "\n",
    "df = rt_tomatoes.drop(rt_tomatoes[(rt_tomatoes['original_release_date'] == 'nan')].index)\n",
    "df['original_release_date'] = pd.to_numeric(df['original_release_date'])\n",
    "df_2010 = df[df['original_release_date'] >= 2010]\n",
    "df_2010\n",
    "\n",
    "x = df_2010['original_release_date']\n",
    "y = df_2010['tomatometer_rating']\n",
    "plt.figure(figsize=(15,8))\n",
    "plt.bar(x,y)"
   ]
  },
  {
   "cell_type": "code",
   "execution_count": null,
   "id": "4c4c56ba",
   "metadata": {},
   "outputs": [],
   "source": [
    "#Histograma super simples, só pra demonstrar a crescente no número de prêmios entregues por ano (1949-2019)\n",
    "df = pd.read_csv('the_emmy_awards.csv')\n",
    "\n",
    "df1 = df.sort_values('win')\n",
    "df1 = df1[16586:]\n",
    "df1 = df1.sort_values('year')\n",
    "\n",
    "df1.hist(column='year', bins=71)\n",
    "plt.show()\n",
    "\n",
    "\n",
    "#Gráfico de barras, com as companhias mais premiadas da última década\n",
    "df2 = df1.dropna(subset=['company'])\n",
    "\n",
    "df2 = df2[df1['year'] >= 2010]\n",
    "\n",
    "df_companies = pd.DataFrame(df2['company'].value_counts().head(10))\n",
    "\n",
    "x = df_companies.reset_index()['index']\n",
    "y = df_companies['company']\n",
    "plt.figure(figsize=(15,8))\n",
    "plt.bar(x,y)\n"
   ]
  },
  {
   "cell_type": "code",
   "execution_count": null,
   "id": "2f8e3b37",
   "metadata": {},
   "outputs": [],
   "source": [
    "date = rt_tomatoes['original_release_date']\n",
    "date = date.tolist()\n",
    "i = 0\n",
    "year = []\n",
    "for i in range(len(date)):\n",
    "    year.append(str(date[i]).split(\"-\")[0])\n",
    "\n",
    "rt_tomatoes['original_release_date'] = year\n",
    "\n",
    "df = rt_tomatoes.drop(rt_tomatoes[(rt_tomatoes['original_release_date'] == 'nan')].index)\n",
    "df['original_release_date'] = pd.to_numeric(df['original_release_date'])\n",
    "df_2010 = df[df['original_release_date'] >= 2017]\n",
    "df_2010.plot(x = 'audience_rating' , y = 'tomatometer_rating', kind = 'scatter')"
   ]
  }
 ],
 "metadata": {
  "kernelspec": {
   "display_name": "Python 3 (ipykernel)",
   "language": "python",
   "name": "python3"
  },
  "language_info": {
   "codemirror_mode": {
    "name": "ipython",
    "version": 3
   },
   "file_extension": ".py",
   "mimetype": "text/x-python",
   "name": "python",
   "nbconvert_exporter": "python",
   "pygments_lexer": "ipython3",
   "version": "3.9.12"
  }
 },
 "nbformat": 4,
 "nbformat_minor": 5
}
